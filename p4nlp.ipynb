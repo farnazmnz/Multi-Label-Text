{
  "cells": [
    {
      "cell_type": "markdown",
      "metadata": {
        "id": "view-in-github",
        "colab_type": "text"
      },
      "source": [
        "<a href=\"https://colab.research.google.com/github/farnazmnz/Multi-Label-Text/blob/main/p4nlp.ipynb\" target=\"_parent\"><img src=\"https://colab.research.google.com/assets/colab-badge.svg\" alt=\"Open In Colab\"/></a>"
      ]
    },
    {
      "cell_type": "markdown",
      "source": [
        "# **library**"
      ],
      "metadata": {
        "id": "mO_fnbvz-UYa"
      }
    },
    {
      "cell_type": "code",
      "source": [
        "import numpy as np\n",
        "import pandas as pd"
      ],
      "metadata": {
        "id": "hW_QfElB-QE3"
      },
      "execution_count": null,
      "outputs": []
    },
    {
      "cell_type": "markdown",
      "metadata": {
        "id": "JGKDJV7Wsg1n"
      },
      "source": [
        "# first data"
      ]
    },
    {
      "cell_type": "code",
      "source": [
        "#download data\n",
        "!gdown --id  1Mb6_70PLLsx7P7jZHGdtj4yV7p3VCoVD"
      ],
      "metadata": {
        "colab": {
          "base_uri": "https://localhost:8080/"
        },
        "id": "ISgwe_gI_b2m",
        "outputId": "49eca314-d4b1-471c-b17c-f96aa08a468e"
      },
      "execution_count": null,
      "outputs": [
        {
          "output_type": "stream",
          "name": "stdout",
          "text": [
            "/usr/local/lib/python3.7/dist-packages/gdown/cli.py:131: FutureWarning: Option `--id` was deprecated in version 4.3.1 and will be removed in 5.0. You don't need to pass it anymore to use a file ID.\n",
            "  category=FutureWarning,\n",
            "Downloading...\n",
            "From: https://drive.google.com/uc?id=1Mb6_70PLLsx7P7jZHGdtj4yV7p3VCoVD\n",
            "To: /content/PerSICK.csv\n",
            "100% 471k/471k [00:00<00:00, 121MB/s]\n"
          ]
        }
      ]
    },
    {
      "cell_type": "code",
      "execution_count": null,
      "metadata": {
        "colab": {
          "base_uri": "https://localhost:8080/",
          "height": 206
        },
        "id": "TxyH3SQBaMcd",
        "outputId": "d67f3ea0-eb2c-4d5f-ece9-0ceb77d923cb"
      },
      "outputs": [
        {
          "output_type": "execute_result",
          "data": {
            "text/plain": [
              "  score                                          sentence1  \\\n",
              "0   4.5  گروهی از بچه ها در حیاط بازی می کنند و پیرمردی...   \n",
              "1   3.2  گروهی از کودکان در خانه مشغول بازی هستند و هیچ...   \n",
              "2   4.7  پسران جوان در فضای باز بازی می کنند و مرد در ه...   \n",
              "3   3.4  بچه ها در بیرون از خانه و در کنار یک مرد با لب...   \n",
              "4   3.7  پسران جوان در فضای باز بازی می کنند و مرد در ه...   \n",
              "\n",
              "                                           sentence2  \n",
              "0  گروهی از پسران در حیاط بازی می کنند و مردی در ...  \n",
              "1  گروهی از بچه ها در حیاط بازی می کنند و پیرمردی...  \n",
              "2  بچه ها در بیرون از خانه و در کنار یک مرد با لب...  \n",
              "3  گروهی از بچه ها در حیاط بازی می کنند و پیرمردی...  \n",
              "4  گروهی از بچه ها در حیاط بازی می کنند و پیرمردی...  "
            ],
            "text/html": [
              "\n",
              "  <div id=\"df-861346c8-fef7-40df-89e4-b83c1f1e7292\">\n",
              "    <div class=\"colab-df-container\">\n",
              "      <div>\n",
              "<style scoped>\n",
              "    .dataframe tbody tr th:only-of-type {\n",
              "        vertical-align: middle;\n",
              "    }\n",
              "\n",
              "    .dataframe tbody tr th {\n",
              "        vertical-align: top;\n",
              "    }\n",
              "\n",
              "    .dataframe thead th {\n",
              "        text-align: right;\n",
              "    }\n",
              "</style>\n",
              "<table border=\"1\" class=\"dataframe\">\n",
              "  <thead>\n",
              "    <tr style=\"text-align: right;\">\n",
              "      <th></th>\n",
              "      <th>score</th>\n",
              "      <th>sentence1</th>\n",
              "      <th>sentence2</th>\n",
              "    </tr>\n",
              "  </thead>\n",
              "  <tbody>\n",
              "    <tr>\n",
              "      <th>0</th>\n",
              "      <td>4.5</td>\n",
              "      <td>گروهی از بچه ها در حیاط بازی می کنند و پیرمردی...</td>\n",
              "      <td>گروهی از پسران در حیاط بازی می کنند و مردی در ...</td>\n",
              "    </tr>\n",
              "    <tr>\n",
              "      <th>1</th>\n",
              "      <td>3.2</td>\n",
              "      <td>گروهی از کودکان در خانه مشغول بازی هستند و هیچ...</td>\n",
              "      <td>گروهی از بچه ها در حیاط بازی می کنند و پیرمردی...</td>\n",
              "    </tr>\n",
              "    <tr>\n",
              "      <th>2</th>\n",
              "      <td>4.7</td>\n",
              "      <td>پسران جوان در فضای باز بازی می کنند و مرد در ه...</td>\n",
              "      <td>بچه ها در بیرون از خانه و در کنار یک مرد با لب...</td>\n",
              "    </tr>\n",
              "    <tr>\n",
              "      <th>3</th>\n",
              "      <td>3.4</td>\n",
              "      <td>بچه ها در بیرون از خانه و در کنار یک مرد با لب...</td>\n",
              "      <td>گروهی از بچه ها در حیاط بازی می کنند و پیرمردی...</td>\n",
              "    </tr>\n",
              "    <tr>\n",
              "      <th>4</th>\n",
              "      <td>3.7</td>\n",
              "      <td>پسران جوان در فضای باز بازی می کنند و مرد در ه...</td>\n",
              "      <td>گروهی از بچه ها در حیاط بازی می کنند و پیرمردی...</td>\n",
              "    </tr>\n",
              "  </tbody>\n",
              "</table>\n",
              "</div>\n",
              "      <button class=\"colab-df-convert\" onclick=\"convertToInteractive('df-861346c8-fef7-40df-89e4-b83c1f1e7292')\"\n",
              "              title=\"Convert this dataframe to an interactive table.\"\n",
              "              style=\"display:none;\">\n",
              "        \n",
              "  <svg xmlns=\"http://www.w3.org/2000/svg\" height=\"24px\"viewBox=\"0 0 24 24\"\n",
              "       width=\"24px\">\n",
              "    <path d=\"M0 0h24v24H0V0z\" fill=\"none\"/>\n",
              "    <path d=\"M18.56 5.44l.94 2.06.94-2.06 2.06-.94-2.06-.94-.94-2.06-.94 2.06-2.06.94zm-11 1L8.5 8.5l.94-2.06 2.06-.94-2.06-.94L8.5 2.5l-.94 2.06-2.06.94zm10 10l.94 2.06.94-2.06 2.06-.94-2.06-.94-.94-2.06-.94 2.06-2.06.94z\"/><path d=\"M17.41 7.96l-1.37-1.37c-.4-.4-.92-.59-1.43-.59-.52 0-1.04.2-1.43.59L10.3 9.45l-7.72 7.72c-.78.78-.78 2.05 0 2.83L4 21.41c.39.39.9.59 1.41.59.51 0 1.02-.2 1.41-.59l7.78-7.78 2.81-2.81c.8-.78.8-2.07 0-2.86zM5.41 20L4 18.59l7.72-7.72 1.47 1.35L5.41 20z\"/>\n",
              "  </svg>\n",
              "      </button>\n",
              "      \n",
              "  <style>\n",
              "    .colab-df-container {\n",
              "      display:flex;\n",
              "      flex-wrap:wrap;\n",
              "      gap: 12px;\n",
              "    }\n",
              "\n",
              "    .colab-df-convert {\n",
              "      background-color: #E8F0FE;\n",
              "      border: none;\n",
              "      border-radius: 50%;\n",
              "      cursor: pointer;\n",
              "      display: none;\n",
              "      fill: #1967D2;\n",
              "      height: 32px;\n",
              "      padding: 0 0 0 0;\n",
              "      width: 32px;\n",
              "    }\n",
              "\n",
              "    .colab-df-convert:hover {\n",
              "      background-color: #E2EBFA;\n",
              "      box-shadow: 0px 1px 2px rgba(60, 64, 67, 0.3), 0px 1px 3px 1px rgba(60, 64, 67, 0.15);\n",
              "      fill: #174EA6;\n",
              "    }\n",
              "\n",
              "    [theme=dark] .colab-df-convert {\n",
              "      background-color: #3B4455;\n",
              "      fill: #D2E3FC;\n",
              "    }\n",
              "\n",
              "    [theme=dark] .colab-df-convert:hover {\n",
              "      background-color: #434B5C;\n",
              "      box-shadow: 0px 1px 3px 1px rgba(0, 0, 0, 0.15);\n",
              "      filter: drop-shadow(0px 1px 2px rgba(0, 0, 0, 0.3));\n",
              "      fill: #FFFFFF;\n",
              "    }\n",
              "  </style>\n",
              "\n",
              "      <script>\n",
              "        const buttonEl =\n",
              "          document.querySelector('#df-861346c8-fef7-40df-89e4-b83c1f1e7292 button.colab-df-convert');\n",
              "        buttonEl.style.display =\n",
              "          google.colab.kernel.accessAllowed ? 'block' : 'none';\n",
              "\n",
              "        async function convertToInteractive(key) {\n",
              "          const element = document.querySelector('#df-861346c8-fef7-40df-89e4-b83c1f1e7292');\n",
              "          const dataTable =\n",
              "            await google.colab.kernel.invokeFunction('convertToInteractive',\n",
              "                                                     [key], {});\n",
              "          if (!dataTable) return;\n",
              "\n",
              "          const docLinkHtml = 'Like what you see? Visit the ' +\n",
              "            '<a target=\"_blank\" href=https://colab.research.google.com/notebooks/data_table.ipynb>data table notebook</a>'\n",
              "            + ' to learn more about interactive tables.';\n",
              "          element.innerHTML = '';\n",
              "          dataTable['output_type'] = 'display_data';\n",
              "          await google.colab.output.renderOutput(dataTable, element);\n",
              "          const docLink = document.createElement('div');\n",
              "          docLink.innerHTML = docLinkHtml;\n",
              "          element.appendChild(docLink);\n",
              "        }\n",
              "      </script>\n",
              "    </div>\n",
              "  </div>\n",
              "  "
            ]
          },
          "metadata": {},
          "execution_count": 30
        }
      ],
      "source": [
        "df = pd.read_csv('/content/PerSICK.csv')\n",
        "df.head()"
      ]
    },
    {
      "cell_type": "code",
      "execution_count": null,
      "metadata": {
        "colab": {
          "base_uri": "https://localhost:8080/",
          "height": 990
        },
        "id": "JSeeMmn7frj6",
        "outputId": "03ac2b3a-8f9e-4f46-f2e9-3df4071e88b6"
      },
      "outputs": [
        {
          "output_type": "execute_result",
          "data": {
            "text/plain": [
              "    score                                          sentence1  \\\n",
              "0       4  گروهی از بچه ها در حیاط بازی می کنند و پیرمردی...   \n",
              "1       3  گروهی از کودکان در خانه مشغول بازی هستند و هیچ...   \n",
              "2       4  پسران جوان در فضای باز بازی می کنند و مرد در ه...   \n",
              "3       3  بچه ها در بیرون از خانه و در کنار یک مرد با لب...   \n",
              "4       3  پسران جوان در فضای باز بازی می کنند و مرد در ه...   \n",
              "5       4                           دو سگ با هم دعوا می کنند   \n",
              "8       4  دو زن جوان در یک مبارزه کیک بوکسینگ به مصاف هم...   \n",
              "9       3  دو نفر در حال کیک بوکسینگ هستند و تماشاگران در...   \n",
              "10      3  دو زن در یک مسابقه کیک بوکسینگ به مصاف هم می روند   \n",
              "11      4                 سه پسر در حال پریدن در برگها هستند   \n",
              "12      3                          سه بچه در برگها نشسته اند   \n",
              "13      3       کودکان با پیراهن قرمز در برگ ها بازی می کنند   \n",
              "14      4       کودکان با پیراهن قرمز در برگ ها بازی می کنند   \n",
              "15      4  دو کودک در برف دراز کشیده و مشغول ترسیم فرشته ...   \n",
              "16      4  افرادی که لباس می پوشند در جنگلی جمع می شوند و...   \n",
              "17      3  افرادی که لباس می پوشند در جنگلی جمع می شوند و...   \n",
              "18      3  مردم به برخی لباس های جمع شده در مجاورت جنگل ن...   \n",
              "19      2              یک دختر کوچک به دنبال زنی با لباس است   \n",
              "20      2              یک دختر کوچک به دنبال زنی با لباس است   \n",
              "21      2           دختر جوانی در حال تماشای زنی با لباس است   \n",
              "22      3  افرادی که لباس می پوشند در جنگلی جمع می شوند و...   \n",
              "23      2  افرادی که لباس می پوشند در جنگلی جمع می شوند و...   \n",
              "24      5          یک موتورسوار تنها در حال پریدن در هوا است   \n",
              "25      4                    هیچ دوچرخه سواری در هوا نمی پرد   \n",
              "26      3        مردی در حال پریدن به داخل یک استخر خالی است   \n",
              "27      1          یک موتورسوار تنها در حال پریدن در هوا است   \n",
              "28      1          یک موتورسوار تنها در حال پریدن در هوا است   \n",
              "29      4  مردی که بازی می کند در حالی که توپ را در دست د...   \n",
              "30      2                دو گروه از مردم فوتبال بازی می کنند   \n",
              "31      3      دو تیم در یک بازی بیس بال با هم رقابت می کنند   \n",
              "\n",
              "                                            sentence2  rounded score  \n",
              "0   گروهی از پسران در حیاط بازی می کنند و مردی در ...              4  \n",
              "1   گروهی از بچه ها در حیاط بازی می کنند و پیرمردی...              3  \n",
              "2   بچه ها در بیرون از خانه و در کنار یک مرد با لب...              4  \n",
              "3   گروهی از بچه ها در حیاط بازی می کنند و پیرمردی...              3  \n",
              "4   گروهی از بچه ها در حیاط بازی می کنند و پیرمردی...              3  \n",
              "5       دو سگ در حال کشتی گرفتن و در آغوش گرفتن هستند              4  \n",
              "8   دو زن در یک مسابقه کیک بوکسینگ به مصاف هم می روند              4  \n",
              "9   دو زن جوان در یک مبارزه کیک بوکسینگ درگیری ندارند              3  \n",
              "10  دو نفر کیک بوکسینگ می کنند و تماشاگران تماشا ن...              3  \n",
              "11                 سه بچه در حال پریدن در برگها هستند              4  \n",
              "12                 سه بچه در حال پریدن در برگها هستند              3  \n",
              "13                          سه بچه در برگها نشسته اند              3  \n",
              "14                 سه بچه در حال پریدن در برگها هستند              4  \n",
              "15  دو نفر با لباس برفی در برف دراز کشیده و فرشته ...              4  \n",
              "16  افراد نقاب دار در یک جنگل به همان سمت نگاه می ...              4  \n",
              "17  افرادی که لباس می پوشند در جنگلی پراکنده می شو...              3  \n",
              "18  افرادی که لباس می پوشند در جنگلی جمع می شوند و...              3  \n",
              "19  افرادی که لباس می پوشند در جنگلی پراکنده می شو...              2  \n",
              "20  مردم به برخی لباس های جمع شده در مجاورت جنگل ن...              2  \n",
              "21  افرادی که لباس می پوشند در جنگلی جمع می شوند و...              2  \n",
              "22                 دختر بچه به دنبال مردی با لباس است              3  \n",
              "23                 یک دختر بچه با لباس شبیه یک زن است              2  \n",
              "24  یک دوچرخه سوار در حال پریدن در هوا است ، به تن...              5  \n",
              "25          یک موتورسوار تنها در حال پریدن در هوا است              4  \n",
              "26               مردی در حال پریدن در یک استخر پر است              3  \n",
              "27               مردی در حال پریدن در یک استخر پر است              1  \n",
              "28        مردی در حال پریدن به داخل یک استخر خالی است              1  \n",
              "29                    بازیکنی با توپ در حال دویدن است              4  \n",
              "30                    بازیکنی با توپ در حال دویدن است              2  \n",
              "31                    بازیکنی با توپ در حال دویدن است              3  "
            ],
            "text/html": [
              "\n",
              "  <div id=\"df-d6d83e0d-a8d6-446b-9c8a-5822d7747721\">\n",
              "    <div class=\"colab-df-container\">\n",
              "      <div>\n",
              "<style scoped>\n",
              "    .dataframe tbody tr th:only-of-type {\n",
              "        vertical-align: middle;\n",
              "    }\n",
              "\n",
              "    .dataframe tbody tr th {\n",
              "        vertical-align: top;\n",
              "    }\n",
              "\n",
              "    .dataframe thead th {\n",
              "        text-align: right;\n",
              "    }\n",
              "</style>\n",
              "<table border=\"1\" class=\"dataframe\">\n",
              "  <thead>\n",
              "    <tr style=\"text-align: right;\">\n",
              "      <th></th>\n",
              "      <th>score</th>\n",
              "      <th>sentence1</th>\n",
              "      <th>sentence2</th>\n",
              "      <th>rounded score</th>\n",
              "    </tr>\n",
              "  </thead>\n",
              "  <tbody>\n",
              "    <tr>\n",
              "      <th>0</th>\n",
              "      <td>4</td>\n",
              "      <td>گروهی از بچه ها در حیاط بازی می کنند و پیرمردی...</td>\n",
              "      <td>گروهی از پسران در حیاط بازی می کنند و مردی در ...</td>\n",
              "      <td>4</td>\n",
              "    </tr>\n",
              "    <tr>\n",
              "      <th>1</th>\n",
              "      <td>3</td>\n",
              "      <td>گروهی از کودکان در خانه مشغول بازی هستند و هیچ...</td>\n",
              "      <td>گروهی از بچه ها در حیاط بازی می کنند و پیرمردی...</td>\n",
              "      <td>3</td>\n",
              "    </tr>\n",
              "    <tr>\n",
              "      <th>2</th>\n",
              "      <td>4</td>\n",
              "      <td>پسران جوان در فضای باز بازی می کنند و مرد در ه...</td>\n",
              "      <td>بچه ها در بیرون از خانه و در کنار یک مرد با لب...</td>\n",
              "      <td>4</td>\n",
              "    </tr>\n",
              "    <tr>\n",
              "      <th>3</th>\n",
              "      <td>3</td>\n",
              "      <td>بچه ها در بیرون از خانه و در کنار یک مرد با لب...</td>\n",
              "      <td>گروهی از بچه ها در حیاط بازی می کنند و پیرمردی...</td>\n",
              "      <td>3</td>\n",
              "    </tr>\n",
              "    <tr>\n",
              "      <th>4</th>\n",
              "      <td>3</td>\n",
              "      <td>پسران جوان در فضای باز بازی می کنند و مرد در ه...</td>\n",
              "      <td>گروهی از بچه ها در حیاط بازی می کنند و پیرمردی...</td>\n",
              "      <td>3</td>\n",
              "    </tr>\n",
              "    <tr>\n",
              "      <th>5</th>\n",
              "      <td>4</td>\n",
              "      <td>دو سگ با هم دعوا می کنند</td>\n",
              "      <td>دو سگ در حال کشتی گرفتن و در آغوش گرفتن هستند</td>\n",
              "      <td>4</td>\n",
              "    </tr>\n",
              "    <tr>\n",
              "      <th>8</th>\n",
              "      <td>4</td>\n",
              "      <td>دو زن جوان در یک مبارزه کیک بوکسینگ به مصاف هم...</td>\n",
              "      <td>دو زن در یک مسابقه کیک بوکسینگ به مصاف هم می روند</td>\n",
              "      <td>4</td>\n",
              "    </tr>\n",
              "    <tr>\n",
              "      <th>9</th>\n",
              "      <td>3</td>\n",
              "      <td>دو نفر در حال کیک بوکسینگ هستند و تماشاگران در...</td>\n",
              "      <td>دو زن جوان در یک مبارزه کیک بوکسینگ درگیری ندارند</td>\n",
              "      <td>3</td>\n",
              "    </tr>\n",
              "    <tr>\n",
              "      <th>10</th>\n",
              "      <td>3</td>\n",
              "      <td>دو زن در یک مسابقه کیک بوکسینگ به مصاف هم می روند</td>\n",
              "      <td>دو نفر کیک بوکسینگ می کنند و تماشاگران تماشا ن...</td>\n",
              "      <td>3</td>\n",
              "    </tr>\n",
              "    <tr>\n",
              "      <th>11</th>\n",
              "      <td>4</td>\n",
              "      <td>سه پسر در حال پریدن در برگها هستند</td>\n",
              "      <td>سه بچه در حال پریدن در برگها هستند</td>\n",
              "      <td>4</td>\n",
              "    </tr>\n",
              "    <tr>\n",
              "      <th>12</th>\n",
              "      <td>3</td>\n",
              "      <td>سه بچه در برگها نشسته اند</td>\n",
              "      <td>سه بچه در حال پریدن در برگها هستند</td>\n",
              "      <td>3</td>\n",
              "    </tr>\n",
              "    <tr>\n",
              "      <th>13</th>\n",
              "      <td>3</td>\n",
              "      <td>کودکان با پیراهن قرمز در برگ ها بازی می کنند</td>\n",
              "      <td>سه بچه در برگها نشسته اند</td>\n",
              "      <td>3</td>\n",
              "    </tr>\n",
              "    <tr>\n",
              "      <th>14</th>\n",
              "      <td>4</td>\n",
              "      <td>کودکان با پیراهن قرمز در برگ ها بازی می کنند</td>\n",
              "      <td>سه بچه در حال پریدن در برگها هستند</td>\n",
              "      <td>4</td>\n",
              "    </tr>\n",
              "    <tr>\n",
              "      <th>15</th>\n",
              "      <td>4</td>\n",
              "      <td>دو کودک در برف دراز کشیده و مشغول ترسیم فرشته ...</td>\n",
              "      <td>دو نفر با لباس برفی در برف دراز کشیده و فرشته ...</td>\n",
              "      <td>4</td>\n",
              "    </tr>\n",
              "    <tr>\n",
              "      <th>16</th>\n",
              "      <td>4</td>\n",
              "      <td>افرادی که لباس می پوشند در جنگلی جمع می شوند و...</td>\n",
              "      <td>افراد نقاب دار در یک جنگل به همان سمت نگاه می ...</td>\n",
              "      <td>4</td>\n",
              "    </tr>\n",
              "    <tr>\n",
              "      <th>17</th>\n",
              "      <td>3</td>\n",
              "      <td>افرادی که لباس می پوشند در جنگلی جمع می شوند و...</td>\n",
              "      <td>افرادی که لباس می پوشند در جنگلی پراکنده می شو...</td>\n",
              "      <td>3</td>\n",
              "    </tr>\n",
              "    <tr>\n",
              "      <th>18</th>\n",
              "      <td>3</td>\n",
              "      <td>مردم به برخی لباس های جمع شده در مجاورت جنگل ن...</td>\n",
              "      <td>افرادی که لباس می پوشند در جنگلی جمع می شوند و...</td>\n",
              "      <td>3</td>\n",
              "    </tr>\n",
              "    <tr>\n",
              "      <th>19</th>\n",
              "      <td>2</td>\n",
              "      <td>یک دختر کوچک به دنبال زنی با لباس است</td>\n",
              "      <td>افرادی که لباس می پوشند در جنگلی پراکنده می شو...</td>\n",
              "      <td>2</td>\n",
              "    </tr>\n",
              "    <tr>\n",
              "      <th>20</th>\n",
              "      <td>2</td>\n",
              "      <td>یک دختر کوچک به دنبال زنی با لباس است</td>\n",
              "      <td>مردم به برخی لباس های جمع شده در مجاورت جنگل ن...</td>\n",
              "      <td>2</td>\n",
              "    </tr>\n",
              "    <tr>\n",
              "      <th>21</th>\n",
              "      <td>2</td>\n",
              "      <td>دختر جوانی در حال تماشای زنی با لباس است</td>\n",
              "      <td>افرادی که لباس می پوشند در جنگلی جمع می شوند و...</td>\n",
              "      <td>2</td>\n",
              "    </tr>\n",
              "    <tr>\n",
              "      <th>22</th>\n",
              "      <td>3</td>\n",
              "      <td>افرادی که لباس می پوشند در جنگلی جمع می شوند و...</td>\n",
              "      <td>دختر بچه به دنبال مردی با لباس است</td>\n",
              "      <td>3</td>\n",
              "    </tr>\n",
              "    <tr>\n",
              "      <th>23</th>\n",
              "      <td>2</td>\n",
              "      <td>افرادی که لباس می پوشند در جنگلی جمع می شوند و...</td>\n",
              "      <td>یک دختر بچه با لباس شبیه یک زن است</td>\n",
              "      <td>2</td>\n",
              "    </tr>\n",
              "    <tr>\n",
              "      <th>24</th>\n",
              "      <td>5</td>\n",
              "      <td>یک موتورسوار تنها در حال پریدن در هوا است</td>\n",
              "      <td>یک دوچرخه سوار در حال پریدن در هوا است ، به تن...</td>\n",
              "      <td>5</td>\n",
              "    </tr>\n",
              "    <tr>\n",
              "      <th>25</th>\n",
              "      <td>4</td>\n",
              "      <td>هیچ دوچرخه سواری در هوا نمی پرد</td>\n",
              "      <td>یک موتورسوار تنها در حال پریدن در هوا است</td>\n",
              "      <td>4</td>\n",
              "    </tr>\n",
              "    <tr>\n",
              "      <th>26</th>\n",
              "      <td>3</td>\n",
              "      <td>مردی در حال پریدن به داخل یک استخر خالی است</td>\n",
              "      <td>مردی در حال پریدن در یک استخر پر است</td>\n",
              "      <td>3</td>\n",
              "    </tr>\n",
              "    <tr>\n",
              "      <th>27</th>\n",
              "      <td>1</td>\n",
              "      <td>یک موتورسوار تنها در حال پریدن در هوا است</td>\n",
              "      <td>مردی در حال پریدن در یک استخر پر است</td>\n",
              "      <td>1</td>\n",
              "    </tr>\n",
              "    <tr>\n",
              "      <th>28</th>\n",
              "      <td>1</td>\n",
              "      <td>یک موتورسوار تنها در حال پریدن در هوا است</td>\n",
              "      <td>مردی در حال پریدن به داخل یک استخر خالی است</td>\n",
              "      <td>1</td>\n",
              "    </tr>\n",
              "    <tr>\n",
              "      <th>29</th>\n",
              "      <td>4</td>\n",
              "      <td>مردی که بازی می کند در حالی که توپ را در دست د...</td>\n",
              "      <td>بازیکنی با توپ در حال دویدن است</td>\n",
              "      <td>4</td>\n",
              "    </tr>\n",
              "    <tr>\n",
              "      <th>30</th>\n",
              "      <td>2</td>\n",
              "      <td>دو گروه از مردم فوتبال بازی می کنند</td>\n",
              "      <td>بازیکنی با توپ در حال دویدن است</td>\n",
              "      <td>2</td>\n",
              "    </tr>\n",
              "    <tr>\n",
              "      <th>31</th>\n",
              "      <td>3</td>\n",
              "      <td>دو تیم در یک بازی بیس بال با هم رقابت می کنند</td>\n",
              "      <td>بازیکنی با توپ در حال دویدن است</td>\n",
              "      <td>3</td>\n",
              "    </tr>\n",
              "  </tbody>\n",
              "</table>\n",
              "</div>\n",
              "      <button class=\"colab-df-convert\" onclick=\"convertToInteractive('df-d6d83e0d-a8d6-446b-9c8a-5822d7747721')\"\n",
              "              title=\"Convert this dataframe to an interactive table.\"\n",
              "              style=\"display:none;\">\n",
              "        \n",
              "  <svg xmlns=\"http://www.w3.org/2000/svg\" height=\"24px\"viewBox=\"0 0 24 24\"\n",
              "       width=\"24px\">\n",
              "    <path d=\"M0 0h24v24H0V0z\" fill=\"none\"/>\n",
              "    <path d=\"M18.56 5.44l.94 2.06.94-2.06 2.06-.94-2.06-.94-.94-2.06-.94 2.06-2.06.94zm-11 1L8.5 8.5l.94-2.06 2.06-.94-2.06-.94L8.5 2.5l-.94 2.06-2.06.94zm10 10l.94 2.06.94-2.06 2.06-.94-2.06-.94-.94-2.06-.94 2.06-2.06.94z\"/><path d=\"M17.41 7.96l-1.37-1.37c-.4-.4-.92-.59-1.43-.59-.52 0-1.04.2-1.43.59L10.3 9.45l-7.72 7.72c-.78.78-.78 2.05 0 2.83L4 21.41c.39.39.9.59 1.41.59.51 0 1.02-.2 1.41-.59l7.78-7.78 2.81-2.81c.8-.78.8-2.07 0-2.86zM5.41 20L4 18.59l7.72-7.72 1.47 1.35L5.41 20z\"/>\n",
              "  </svg>\n",
              "      </button>\n",
              "      \n",
              "  <style>\n",
              "    .colab-df-container {\n",
              "      display:flex;\n",
              "      flex-wrap:wrap;\n",
              "      gap: 12px;\n",
              "    }\n",
              "\n",
              "    .colab-df-convert {\n",
              "      background-color: #E8F0FE;\n",
              "      border: none;\n",
              "      border-radius: 50%;\n",
              "      cursor: pointer;\n",
              "      display: none;\n",
              "      fill: #1967D2;\n",
              "      height: 32px;\n",
              "      padding: 0 0 0 0;\n",
              "      width: 32px;\n",
              "    }\n",
              "\n",
              "    .colab-df-convert:hover {\n",
              "      background-color: #E2EBFA;\n",
              "      box-shadow: 0px 1px 2px rgba(60, 64, 67, 0.3), 0px 1px 3px 1px rgba(60, 64, 67, 0.15);\n",
              "      fill: #174EA6;\n",
              "    }\n",
              "\n",
              "    [theme=dark] .colab-df-convert {\n",
              "      background-color: #3B4455;\n",
              "      fill: #D2E3FC;\n",
              "    }\n",
              "\n",
              "    [theme=dark] .colab-df-convert:hover {\n",
              "      background-color: #434B5C;\n",
              "      box-shadow: 0px 1px 3px 1px rgba(0, 0, 0, 0.15);\n",
              "      filter: drop-shadow(0px 1px 2px rgba(0, 0, 0, 0.3));\n",
              "      fill: #FFFFFF;\n",
              "    }\n",
              "  </style>\n",
              "\n",
              "      <script>\n",
              "        const buttonEl =\n",
              "          document.querySelector('#df-d6d83e0d-a8d6-446b-9c8a-5822d7747721 button.colab-df-convert');\n",
              "        buttonEl.style.display =\n",
              "          google.colab.kernel.accessAllowed ? 'block' : 'none';\n",
              "\n",
              "        async function convertToInteractive(key) {\n",
              "          const element = document.querySelector('#df-d6d83e0d-a8d6-446b-9c8a-5822d7747721');\n",
              "          const dataTable =\n",
              "            await google.colab.kernel.invokeFunction('convertToInteractive',\n",
              "                                                     [key], {});\n",
              "          if (!dataTable) return;\n",
              "\n",
              "          const docLinkHtml = 'Like what you see? Visit the ' +\n",
              "            '<a target=\"_blank\" href=https://colab.research.google.com/notebooks/data_table.ipynb>data table notebook</a>'\n",
              "            + ' to learn more about interactive tables.';\n",
              "          element.innerHTML = '';\n",
              "          dataTable['output_type'] = 'display_data';\n",
              "          await google.colab.output.renderOutput(dataTable, element);\n",
              "          const docLink = document.createElement('div');\n",
              "          docLink.innerHTML = docLinkHtml;\n",
              "          element.appendChild(docLink);\n",
              "        }\n",
              "      </script>\n",
              "    </div>\n",
              "  </div>\n",
              "  "
            ]
          },
          "metadata": {},
          "execution_count": 32
        }
      ],
      "source": [
        "#add new column to data frame for score label\n",
        "\n",
        "b=[]\n",
        "\n",
        "df = df.drop(df.index[[1909, 1175,1133,1134, 733,1137,1133, 1141,1136, 1140,1137,1158, 1879,1139,6]])\n",
        "\n",
        "\n",
        "df['score'] = pd.to_numeric(df['score'])\n",
        "df['score'] = df['score'].apply(\"int64\")\n",
        "\n",
        "b = np.array(df['score'])\n",
        "b = np.round(b)\n",
        "df['rounded score'] = b\n",
        "\n",
        "df.head(30)\n",
        "\n",
        "\n",
        "\n",
        "\n"
      ]
    },
    {
      "cell_type": "code",
      "execution_count": null,
      "metadata": {
        "colab": {
          "base_uri": "https://localhost:8080/"
        },
        "id": "p60xZq7gIZjT",
        "outputId": "afb63b96-84b0-4f84-98ff-6ea41dcaf8d6"
      },
      "outputs": [
        {
          "output_type": "execute_result",
          "data": {
            "text/plain": [
              "3076"
            ]
          },
          "metadata": {},
          "execution_count": 33
        }
      ],
      "source": [
        "len(df)"
      ]
    },
    {
      "cell_type": "markdown",
      "source": [
        "# **classification**"
      ],
      "metadata": {
        "id": "oXdPMAj6Aphw"
      }
    },
    {
      "cell_type": "code",
      "execution_count": null,
      "metadata": {
        "id": "kO9bSq6PpzPF"
      },
      "outputs": [],
      "source": [
        "M=['مرد', 'پسر' ,'آقا' ,'بابا', 'پدر', 'پیرمرد']\n",
        "F=['زن' ,'خانم' ,'دختر' ,'مامان' ,'مادر' ,'پیرزن ']\n",
        "child=['کودک' ,'بچه' ,'نوزاد', 'کودکان']\n",
        "animal=['گورکن' ,'آهو','سگ', 'گربه', 'توله سگ', 'بچه گربه','یوزپلنگ','میمون' ,'گوزن' ,'اردک' ,'پرنده','ماهی' , 'لاک پشت']\n",
        "other=['مردم' , 'جمعیت'  , 'گروه','گروهی' , 'افرادی']\n",
        ""
      ]
    },
    {
      "cell_type": "markdown",
      "metadata": {
        "id": "iQ4zLco0byxk"
      },
      "source": [
        "# hazm"
      ]
    },
    {
      "cell_type": "code",
      "source": [
        "!mkdir resources\n",
        "!wget -q \"https://github.com/sobhe/hazm/releases/download/v0.5/resources-0.5.zip\" -P resources\n",
        "!unzip -qq resources/resources-0.5.zip -d resources\n",
        "\n",
        "!rm -rf /content/4ccae468eb73bf6c4f4de3075ddb5336\n",
        "!rm -rf /content/preproc\n",
        "!rm preprocessing.py utils.py\n",
        "!mkdir -p /content/preproc\n",
        "!git clone https://gist.github.com/4ccae468eb73bf6c4f4de3075ddb5336.git /content/preproc/\n",
        "!mv /content/preproc/* /content/\n",
        "!rm -rf /content/preproc\n",
        "\n",
        "!pip install hazm"
      ],
      "metadata": {
        "colab": {
          "base_uri": "https://localhost:8080/"
        },
        "id": "a4sWL44CDj1n",
        "outputId": "9ee66fb7-a95d-4c92-95b2-b71aededfa26"
      },
      "execution_count": null,
      "outputs": [
        {
          "output_type": "stream",
          "name": "stdout",
          "text": [
            "mkdir: cannot create directory ‘resources’: File exists\n",
            "replace resources/chunker.model? [y]es, [n]o, [A]ll, [N]one, [r]ename: o\n",
            "error:  invalid response [o]\n",
            "replace resources/chunker.model? [y]es, [n]o, [A]ll, [N]one, [r]ename: o\n",
            "error:  invalid response [o]\n",
            "replace resources/chunker.model? [y]es, [n]o, [A]ll, [N]one, [r]ename: n\n",
            "replace resources/langModel.mco? [y]es, [n]o, [A]ll, [N]one, [r]ename: n\n",
            "replace resources/lib/liblinear-1.8.jar? [y]es, [n]o, [A]ll, [N]one, [r]ename: n\n",
            "replace resources/lib/libsvm.jar? [y]es, [n]o, [A]ll, [N]one, [r]ename: A\n",
            "Cloning into '/content/preproc'...\n",
            "remote: Enumerating objects: 7, done.\u001b[K\n",
            "remote: Total 7 (delta 0), reused 0 (delta 0), pack-reused 7\u001b[K\n",
            "Unpacking objects: 100% (7/7), done.\n",
            "Looking in indexes: https://pypi.org/simple, https://us-python.pkg.dev/colab-wheels/public/simple/\n",
            "Requirement already satisfied: hazm in /usr/local/lib/python3.7/dist-packages (0.7.0)\n",
            "Requirement already satisfied: libwapiti>=0.2.1 in /usr/local/lib/python3.7/dist-packages (from hazm) (0.2.1)\n",
            "Requirement already satisfied: nltk==3.3 in /usr/local/lib/python3.7/dist-packages (from hazm) (3.3)\n",
            "Requirement already satisfied: six in /usr/local/lib/python3.7/dist-packages (from nltk==3.3->hazm) (1.15.0)\n"
          ]
        }
      ]
    },
    {
      "cell_type": "code",
      "source": [
        "import hazm\n",
        "from hazm import *"
      ],
      "metadata": {
        "id": "dZ4P3S6-C4dp"
      },
      "execution_count": null,
      "outputs": []
    },
    {
      "cell_type": "markdown",
      "source": [
        "# **normalize**"
      ],
      "metadata": {
        "id": "fB-N-ANyA1Vq"
      }
    },
    {
      "cell_type": "code",
      "execution_count": null,
      "metadata": {
        "colab": {
          "base_uri": "https://localhost:8080/",
          "height": 49
        },
        "outputId": "c5414c10-4ad4-4200-ca52-9bd59fa51c5b",
        "id": "CSvn9Sc5CiSb"
      },
      "outputs": [
        {
          "output_type": "execute_result",
          "data": {
            "text/plain": [
              "Empty DataFrame\n",
              "Columns: [s1, s2]\n",
              "Index: []"
            ],
            "text/html": [
              "\n",
              "  <div id=\"df-14219433-b5d0-4f45-845e-28766989e935\">\n",
              "    <div class=\"colab-df-container\">\n",
              "      <div>\n",
              "<style scoped>\n",
              "    .dataframe tbody tr th:only-of-type {\n",
              "        vertical-align: middle;\n",
              "    }\n",
              "\n",
              "    .dataframe tbody tr th {\n",
              "        vertical-align: top;\n",
              "    }\n",
              "\n",
              "    .dataframe thead th {\n",
              "        text-align: right;\n",
              "    }\n",
              "</style>\n",
              "<table border=\"1\" class=\"dataframe\">\n",
              "  <thead>\n",
              "    <tr style=\"text-align: right;\">\n",
              "      <th></th>\n",
              "      <th>s1</th>\n",
              "      <th>s2</th>\n",
              "    </tr>\n",
              "  </thead>\n",
              "  <tbody>\n",
              "  </tbody>\n",
              "</table>\n",
              "</div>\n",
              "      <button class=\"colab-df-convert\" onclick=\"convertToInteractive('df-14219433-b5d0-4f45-845e-28766989e935')\"\n",
              "              title=\"Convert this dataframe to an interactive table.\"\n",
              "              style=\"display:none;\">\n",
              "        \n",
              "  <svg xmlns=\"http://www.w3.org/2000/svg\" height=\"24px\"viewBox=\"0 0 24 24\"\n",
              "       width=\"24px\">\n",
              "    <path d=\"M0 0h24v24H0V0z\" fill=\"none\"/>\n",
              "    <path d=\"M18.56 5.44l.94 2.06.94-2.06 2.06-.94-2.06-.94-.94-2.06-.94 2.06-2.06.94zm-11 1L8.5 8.5l.94-2.06 2.06-.94-2.06-.94L8.5 2.5l-.94 2.06-2.06.94zm10 10l.94 2.06.94-2.06 2.06-.94-2.06-.94-.94-2.06-.94 2.06-2.06.94z\"/><path d=\"M17.41 7.96l-1.37-1.37c-.4-.4-.92-.59-1.43-.59-.52 0-1.04.2-1.43.59L10.3 9.45l-7.72 7.72c-.78.78-.78 2.05 0 2.83L4 21.41c.39.39.9.59 1.41.59.51 0 1.02-.2 1.41-.59l7.78-7.78 2.81-2.81c.8-.78.8-2.07 0-2.86zM5.41 20L4 18.59l7.72-7.72 1.47 1.35L5.41 20z\"/>\n",
              "  </svg>\n",
              "      </button>\n",
              "      \n",
              "  <style>\n",
              "    .colab-df-container {\n",
              "      display:flex;\n",
              "      flex-wrap:wrap;\n",
              "      gap: 12px;\n",
              "    }\n",
              "\n",
              "    .colab-df-convert {\n",
              "      background-color: #E8F0FE;\n",
              "      border: none;\n",
              "      border-radius: 50%;\n",
              "      cursor: pointer;\n",
              "      display: none;\n",
              "      fill: #1967D2;\n",
              "      height: 32px;\n",
              "      padding: 0 0 0 0;\n",
              "      width: 32px;\n",
              "    }\n",
              "\n",
              "    .colab-df-convert:hover {\n",
              "      background-color: #E2EBFA;\n",
              "      box-shadow: 0px 1px 2px rgba(60, 64, 67, 0.3), 0px 1px 3px 1px rgba(60, 64, 67, 0.15);\n",
              "      fill: #174EA6;\n",
              "    }\n",
              "\n",
              "    [theme=dark] .colab-df-convert {\n",
              "      background-color: #3B4455;\n",
              "      fill: #D2E3FC;\n",
              "    }\n",
              "\n",
              "    [theme=dark] .colab-df-convert:hover {\n",
              "      background-color: #434B5C;\n",
              "      box-shadow: 0px 1px 3px 1px rgba(0, 0, 0, 0.15);\n",
              "      filter: drop-shadow(0px 1px 2px rgba(0, 0, 0, 0.3));\n",
              "      fill: #FFFFFF;\n",
              "    }\n",
              "  </style>\n",
              "\n",
              "      <script>\n",
              "        const buttonEl =\n",
              "          document.querySelector('#df-14219433-b5d0-4f45-845e-28766989e935 button.colab-df-convert');\n",
              "        buttonEl.style.display =\n",
              "          google.colab.kernel.accessAllowed ? 'block' : 'none';\n",
              "\n",
              "        async function convertToInteractive(key) {\n",
              "          const element = document.querySelector('#df-14219433-b5d0-4f45-845e-28766989e935');\n",
              "          const dataTable =\n",
              "            await google.colab.kernel.invokeFunction('convertToInteractive',\n",
              "                                                     [key], {});\n",
              "          if (!dataTable) return;\n",
              "\n",
              "          const docLinkHtml = 'Like what you see? Visit the ' +\n",
              "            '<a target=\"_blank\" href=https://colab.research.google.com/notebooks/data_table.ipynb>data table notebook</a>'\n",
              "            + ' to learn more about interactive tables.';\n",
              "          element.innerHTML = '';\n",
              "          dataTable['output_type'] = 'display_data';\n",
              "          await google.colab.output.renderOutput(dataTable, element);\n",
              "          const docLink = document.createElement('div');\n",
              "          docLink.innerHTML = docLinkHtml;\n",
              "          element.appendChild(docLink);\n",
              "        }\n",
              "      </script>\n",
              "    </div>\n",
              "  </div>\n",
              "  "
            ]
          },
          "metadata": {},
          "execution_count": 36
        }
      ],
      "source": [
        "df1=pd.DataFrame(columns=['s1','s2'])\n",
        "df1"
      ]
    },
    {
      "cell_type": "code",
      "execution_count": null,
      "metadata": {
        "id": "PMzlNofM7H0H"
      },
      "outputs": [],
      "source": [
        "for i in range(len(df)):\n",
        "  normalizer = Normalizer()\n",
        "  normalizer.normalize( df.iloc[i]['sentence1'])\n",
        "  normalizer.normalize( df.iloc[i]['sentence2'])\n",
        "parser = DependencyParser(tagger=POSTagger(model='resources/postagger.model'), lemmatizer=Lemmatizer())\n",
        "\n"
      ]
    },
    {
      "cell_type": "code",
      "source": [
        "for i in range(10 ):\n",
        "  normalizer = Normalizer()\n",
        "\n",
        "  normalizer.normalize( df.iloc[i]['sentence2'])\n",
        "  parser = DependencyParser(tagger=POSTagger(model='resources/postagger.model'), lemmatizer=Lemmatizer())"
      ],
      "metadata": {
        "id": "ejJv1M6UWOC7"
      },
      "execution_count": null,
      "outputs": []
    },
    {
      "cell_type": "code",
      "source": [
        "normalizer.normalize( df.iloc[1]['sentence2'])\n",
        "parser=DependencyParser(tagger=POSTagger(model='resources/postagger.model'), lemmatizer=Lemmatizer())\n",
        "parser.parse (  word_tokenize(  df.iloc[1]['sentence2'] ))"
      ],
      "metadata": {
        "id": "5npYW2YXXMRC"
      },
      "execution_count": null,
      "outputs": []
    },
    {
      "cell_type": "markdown",
      "source": [
        "# **find subject**"
      ],
      "metadata": {
        "id": "I-r0BEGLEWlo"
      }
    },
    {
      "cell_type": "code",
      "execution_count": null,
      "metadata": {
        "colab": {
          "background_save": true
        },
        "id": "fqXt2FRdaQDo"
      },
      "outputs": [],
      "source": [
        "for i in range(1000,1500):\n",
        "\n",
        " g1=parser.parse( word_tokenize(df.iloc[i]['sentence1']))\n",
        "\n",
        " for j in range(0, len(g1.nodes)):\n",
        "   if(g1.nodes[j]['rel']==\"SBJ\") :\n",
        "\n",
        "    df1.loc[i,'s1']=g1.nodes[j]['lemma']\n",
        "    break\n",
        "\n",
        "\n",
        "for i in range(1000,1500 ):\n",
        "\n",
        "  g2=parser.parse( word_tokenize(df.iloc[i]['sentence2']))\n",
        "\n",
        "  for k in range(0, len(g2.nodes)):\n",
        "   if(g2.nodes[k]['rel']==\"SBJ\") :\n",
        "\n",
        "    df1.loc[i,'s2']=g2.nodes[k]['lemma']\n",
        "    break"
      ]
    },
    {
      "cell_type": "code",
      "execution_count": null,
      "metadata": {
        "id": "XkTr6IrgaUfg"
      },
      "outputs": [],
      "source": [
        "#new dataframe for subject\n",
        "\n",
        "df1.to_csv(index=False)\n",
        "\n",
        "from pathlib import Path\n",
        "filepath = Path('out4.csv')\n",
        "filepath.parent.mkdir(parents=True, exist_ok=True)\n",
        "df1.to_csv(filepath)\n",
        "\n",
        "\n",
        ""
      ]
    },
    {
      "cell_type": "code",
      "execution_count": null,
      "metadata": {
        "colab": {
          "base_uri": "https://localhost:8080/",
          "height": 424
        },
        "id": "Chnim_i62PaK",
        "outputId": "8733e7cc-8d6b-4a3a-eac5-dcf9aaf11128"
      },
      "outputs": [
        {
          "data": {
            "text/html": [
              "\n",
              "  <div id=\"df-f5229381-90cc-4f05-8a0f-397e1021d8ce\">\n",
              "    <div class=\"colab-df-container\">\n",
              "      <div>\n",
              "<style scoped>\n",
              "    .dataframe tbody tr th:only-of-type {\n",
              "        vertical-align: middle;\n",
              "    }\n",
              "\n",
              "    .dataframe tbody tr th {\n",
              "        vertical-align: top;\n",
              "    }\n",
              "\n",
              "    .dataframe thead th {\n",
              "        text-align: right;\n",
              "    }\n",
              "</style>\n",
              "<table border=\"1\" class=\"dataframe\">\n",
              "  <thead>\n",
              "    <tr style=\"text-align: right;\">\n",
              "      <th></th>\n",
              "      <th>s1</th>\n",
              "      <th>s2</th>\n",
              "    </tr>\n",
              "  </thead>\n",
              "  <tbody>\n",
              "    <tr>\n",
              "      <th>10</th>\n",
              "      <td>بچه</td>\n",
              "      <td>بچه</td>\n",
              "    </tr>\n",
              "    <tr>\n",
              "      <th>11</th>\n",
              "      <td>کودک</td>\n",
              "      <td>بچه</td>\n",
              "    </tr>\n",
              "    <tr>\n",
              "      <th>0</th>\n",
              "      <td>گروهی</td>\n",
              "      <td>گروهی</td>\n",
              "    </tr>\n",
              "    <tr>\n",
              "      <th>1</th>\n",
              "      <td>گروهی</td>\n",
              "      <td>گروهی</td>\n",
              "    </tr>\n",
              "    <tr>\n",
              "      <th>2</th>\n",
              "      <td>پسر</td>\n",
              "      <td>بچه</td>\n",
              "    </tr>\n",
              "    <tr>\n",
              "      <th>...</th>\n",
              "      <td>...</td>\n",
              "      <td>...</td>\n",
              "    </tr>\n",
              "    <tr>\n",
              "      <th>855</th>\n",
              "      <td>NaN</td>\n",
              "      <td>مردی</td>\n",
              "    </tr>\n",
              "    <tr>\n",
              "      <th>864</th>\n",
              "      <td>NaN</td>\n",
              "      <td>تخم</td>\n",
              "    </tr>\n",
              "    <tr>\n",
              "      <th>868</th>\n",
              "      <td>NaN</td>\n",
              "      <td>خانم</td>\n",
              "    </tr>\n",
              "    <tr>\n",
              "      <th>946</th>\n",
              "      <td>NaN</td>\n",
              "      <td>مرد</td>\n",
              "    </tr>\n",
              "    <tr>\n",
              "      <th>951</th>\n",
              "      <td>NaN</td>\n",
              "      <td>مردی</td>\n",
              "    </tr>\n",
              "  </tbody>\n",
              "</table>\n",
              "<p>996 rows × 2 columns</p>\n",
              "</div>\n",
              "      <button class=\"colab-df-convert\" onclick=\"convertToInteractive('df-f5229381-90cc-4f05-8a0f-397e1021d8ce')\"\n",
              "              title=\"Convert this dataframe to an interactive table.\"\n",
              "              style=\"display:none;\">\n",
              "        \n",
              "  <svg xmlns=\"http://www.w3.org/2000/svg\" height=\"24px\"viewBox=\"0 0 24 24\"\n",
              "       width=\"24px\">\n",
              "    <path d=\"M0 0h24v24H0V0z\" fill=\"none\"/>\n",
              "    <path d=\"M18.56 5.44l.94 2.06.94-2.06 2.06-.94-2.06-.94-.94-2.06-.94 2.06-2.06.94zm-11 1L8.5 8.5l.94-2.06 2.06-.94-2.06-.94L8.5 2.5l-.94 2.06-2.06.94zm10 10l.94 2.06.94-2.06 2.06-.94-2.06-.94-.94-2.06-.94 2.06-2.06.94z\"/><path d=\"M17.41 7.96l-1.37-1.37c-.4-.4-.92-.59-1.43-.59-.52 0-1.04.2-1.43.59L10.3 9.45l-7.72 7.72c-.78.78-.78 2.05 0 2.83L4 21.41c.39.39.9.59 1.41.59.51 0 1.02-.2 1.41-.59l7.78-7.78 2.81-2.81c.8-.78.8-2.07 0-2.86zM5.41 20L4 18.59l7.72-7.72 1.47 1.35L5.41 20z\"/>\n",
              "  </svg>\n",
              "      </button>\n",
              "      \n",
              "  <style>\n",
              "    .colab-df-container {\n",
              "      display:flex;\n",
              "      flex-wrap:wrap;\n",
              "      gap: 12px;\n",
              "    }\n",
              "\n",
              "    .colab-df-convert {\n",
              "      background-color: #E8F0FE;\n",
              "      border: none;\n",
              "      border-radius: 50%;\n",
              "      cursor: pointer;\n",
              "      display: none;\n",
              "      fill: #1967D2;\n",
              "      height: 32px;\n",
              "      padding: 0 0 0 0;\n",
              "      width: 32px;\n",
              "    }\n",
              "\n",
              "    .colab-df-convert:hover {\n",
              "      background-color: #E2EBFA;\n",
              "      box-shadow: 0px 1px 2px rgba(60, 64, 67, 0.3), 0px 1px 3px 1px rgba(60, 64, 67, 0.15);\n",
              "      fill: #174EA6;\n",
              "    }\n",
              "\n",
              "    [theme=dark] .colab-df-convert {\n",
              "      background-color: #3B4455;\n",
              "      fill: #D2E3FC;\n",
              "    }\n",
              "\n",
              "    [theme=dark] .colab-df-convert:hover {\n",
              "      background-color: #434B5C;\n",
              "      box-shadow: 0px 1px 3px 1px rgba(0, 0, 0, 0.15);\n",
              "      filter: drop-shadow(0px 1px 2px rgba(0, 0, 0, 0.3));\n",
              "      fill: #FFFFFF;\n",
              "    }\n",
              "  </style>\n",
              "\n",
              "      <script>\n",
              "        const buttonEl =\n",
              "          document.querySelector('#df-f5229381-90cc-4f05-8a0f-397e1021d8ce button.colab-df-convert');\n",
              "        buttonEl.style.display =\n",
              "          google.colab.kernel.accessAllowed ? 'block' : 'none';\n",
              "\n",
              "        async function convertToInteractive(key) {\n",
              "          const element = document.querySelector('#df-f5229381-90cc-4f05-8a0f-397e1021d8ce');\n",
              "          const dataTable =\n",
              "            await google.colab.kernel.invokeFunction('convertToInteractive',\n",
              "                                                     [key], {});\n",
              "          if (!dataTable) return;\n",
              "\n",
              "          const docLinkHtml = 'Like what you see? Visit the ' +\n",
              "            '<a target=\"_blank\" href=https://colab.research.google.com/notebooks/data_table.ipynb>data table notebook</a>'\n",
              "            + ' to learn more about interactive tables.';\n",
              "          element.innerHTML = '';\n",
              "          dataTable['output_type'] = 'display_data';\n",
              "          await google.colab.output.renderOutput(dataTable, element);\n",
              "          const docLink = document.createElement('div');\n",
              "          docLink.innerHTML = docLinkHtml;\n",
              "          element.appendChild(docLink);\n",
              "        }\n",
              "      </script>\n",
              "    </div>\n",
              "  </div>\n",
              "  "
            ],
            "text/plain": [
              "        s1     s2\n",
              "10     بچه    بچه\n",
              "11    کودک    بچه\n",
              "0    گروهی  گروهی\n",
              "1    گروهی  گروهی\n",
              "2      پسر    بچه\n",
              "..     ...    ...\n",
              "855    NaN   مردی\n",
              "864    NaN    تخم\n",
              "868    NaN   خانم\n",
              "946    NaN    مرد\n",
              "951    NaN   مردی\n",
              "\n",
              "[996 rows x 2 columns]"
            ]
          },
          "execution_count": 43,
          "metadata": {},
          "output_type": "execute_result"
        }
      ],
      "source": [
        "df1"
      ]
    },
    {
      "cell_type": "code",
      "execution_count": null,
      "metadata": {
        "id": "YFpXpau50Rp3"
      },
      "outputs": [],
      "source": [
        "df1.to_excel(\"output4.xlsx\",\n",
        "             sheet_name='Sheet_name_1')"
      ]
    },
    {
      "cell_type": "markdown",
      "metadata": {
        "id": "d4n0-fEybDoz"
      },
      "source": [
        "# **labeling**"
      ]
    },
    {
      "cell_type": "code",
      "execution_count": null,
      "metadata": {
        "id": "nVMgGCUFbadA"
      },
      "outputs": [],
      "source": [
        "import re\n",
        "for i in range(2):\n",
        "   if(df.iloc[i]['s1']==df.iloc[i]['s2']):\n",
        "\n",
        "    for f in F :\n",
        "     if re.search(f,s1[i]):\n",
        "      df.loc[i,'label'] = '0'\n",
        "\n",
        "    for m in M :\n",
        "     if re.search(m,s1[i]):\n",
        "      df.loc[i,'label'] = '1'\n",
        "\n",
        "    for a in animal :\n",
        "     if re.search(a,s1[i]):\n",
        "      df.loc[i,'label'] = '2'\n",
        "\n",
        "    for c in child :\n",
        "     if re.search(c,s1[i]):\n",
        "      df.loc[i,'label'] = '3'\n",
        "\n",
        "    for o in other :\n",
        "     if re.search(o,s1[i]):\n",
        "      df.loc[i,'label'] = '4'\n",
        "\n",
        "\n",
        "\n",
        "   else:\n",
        "    df.loc[c,'label'] = '5'\n",
        "\n",
        "\n",
        "\n",
        "\n",
        "df.head(40)"
      ]
    },
    {
      "cell_type": "markdown",
      "source": [
        "# **text processing**"
      ],
      "metadata": {
        "id": "Mww2gp6lFKDX"
      }
    },
    {
      "cell_type": "code",
      "execution_count": null,
      "metadata": {
        "colab": {
          "base_uri": "https://localhost:8080/"
        },
        "id": "bMffflyl4Nhu",
        "outputId": "873c090c-0c69-4706-ceac-3a9a602d716b"
      },
      "outputs": [
        {
          "name": "stdout",
          "output_type": "stream",
          "text": [
            "Looking in indexes: https://pypi.org/simple, https://us-python.pkg.dev/colab-wheels/public/simple/\n",
            "Collecting transformers\n",
            "  Downloading transformers-4.19.2-py3-none-any.whl (4.2 MB)\n",
            "\u001b[K     |████████████████████████████████| 4.2 MB 9.8 MB/s \n",
            "\u001b[?25hRequirement already satisfied: tqdm>=4.27 in /usr/local/lib/python3.7/dist-packages (from transformers) (4.64.0)\n",
            "Requirement already satisfied: filelock in /usr/local/lib/python3.7/dist-packages (from transformers) (3.7.0)\n",
            "Requirement already satisfied: packaging>=20.0 in /usr/local/lib/python3.7/dist-packages (from transformers) (21.3)\n",
            "Collecting huggingface-hub<1.0,>=0.1.0\n",
            "  Downloading huggingface_hub-0.7.0-py3-none-any.whl (86 kB)\n",
            "\u001b[K     |████████████████████████████████| 86 kB 6.1 MB/s \n",
            "\u001b[?25hCollecting tokenizers!=0.11.3,<0.13,>=0.11.1\n",
            "  Downloading tokenizers-0.12.1-cp37-cp37m-manylinux_2_12_x86_64.manylinux2010_x86_64.whl (6.6 MB)\n",
            "\u001b[K     |████████████████████████████████| 6.6 MB 19.8 MB/s \n",
            "\u001b[?25hCollecting pyyaml>=5.1\n",
            "  Downloading PyYAML-6.0-cp37-cp37m-manylinux_2_5_x86_64.manylinux1_x86_64.manylinux_2_12_x86_64.manylinux2010_x86_64.whl (596 kB)\n",
            "\u001b[K     |████████████████████████████████| 596 kB 46.2 MB/s \n",
            "\u001b[?25hRequirement already satisfied: importlib-metadata in /usr/local/lib/python3.7/dist-packages (from transformers) (4.11.4)\n",
            "Requirement already satisfied: numpy>=1.17 in /usr/local/lib/python3.7/dist-packages (from transformers) (1.21.6)\n",
            "Requirement already satisfied: regex!=2019.12.17 in /usr/local/lib/python3.7/dist-packages (from transformers) (2019.12.20)\n",
            "Requirement already satisfied: requests in /usr/local/lib/python3.7/dist-packages (from transformers) (2.23.0)\n",
            "Requirement already satisfied: typing-extensions>=3.7.4.3 in /usr/local/lib/python3.7/dist-packages (from huggingface-hub<1.0,>=0.1.0->transformers) (4.2.0)\n",
            "Requirement already satisfied: pyparsing!=3.0.5,>=2.0.2 in /usr/local/lib/python3.7/dist-packages (from packaging>=20.0->transformers) (3.0.9)\n",
            "Requirement already satisfied: zipp>=0.5 in /usr/local/lib/python3.7/dist-packages (from importlib-metadata->transformers) (3.8.0)\n",
            "Requirement already satisfied: certifi>=2017.4.17 in /usr/local/lib/python3.7/dist-packages (from requests->transformers) (2022.5.18.1)\n",
            "Requirement already satisfied: urllib3!=1.25.0,!=1.25.1,<1.26,>=1.21.1 in /usr/local/lib/python3.7/dist-packages (from requests->transformers) (1.24.3)\n",
            "Requirement already satisfied: chardet<4,>=3.0.2 in /usr/local/lib/python3.7/dist-packages (from requests->transformers) (3.0.4)\n",
            "Requirement already satisfied: idna<3,>=2.5 in /usr/local/lib/python3.7/dist-packages (from requests->transformers) (2.10)\n",
            "Installing collected packages: pyyaml, tokenizers, huggingface-hub, transformers\n",
            "  Attempting uninstall: pyyaml\n",
            "    Found existing installation: PyYAML 3.13\n",
            "    Uninstalling PyYAML-3.13:\n",
            "      Successfully uninstalled PyYAML-3.13\n",
            "Successfully installed huggingface-hub-0.7.0 pyyaml-6.0 tokenizers-0.12.1 transformers-4.19.2\n"
          ]
        }
      ],
      "source": [
        "!pip install transformers"
      ]
    },
    {
      "cell_type": "code",
      "execution_count": null,
      "metadata": {
        "colab": {
          "base_uri": "https://localhost:8080/",
          "height": 185,
          "referenced_widgets": [
            "1c53f26e090e4d99bc711254b374197c",
            "92108c8ebe6d4df78094c2cd31c1511b",
            "d4cbdeda3422453ab0d22da0e9d31178",
            "c3afbf1066fe46ebaf7ffdff487bc393",
            "2d6231e85f624d41b7461a07f585de74",
            "c1277ec67d464a669b97cdf9fd5a3ce2",
            "2acec9e9de024ea68e9383fe9215aab6",
            "10d63429cb024be182ec6424dcd41d17",
            "95ad07b1425248c0acb757e2d3de3311",
            "f52d4c3dbfd74c26bff4dab237059782",
            "b8bea05a1fe9427ea8fa86e27df64105",
            "9620b43bf78147d8993279557a0af89a",
            "107945015b724d389dc3a9faf507380e",
            "2c8f2521e23a465f85319ed1a84310fb",
            "42b3f9e68e474e2fa8fad04d16d6d281",
            "e489dc3f33544d189db52d010cdaf8d5",
            "d56af2bb07bb49f4918f90bee2b4d507",
            "e1f8d70bbc5d4541bbe7aa1b0df5f3b2",
            "268f1e86c87140aea2a7b97775b43453",
            "847166fa95374a8b9a892af1e94cf0a0",
            "6b7ed016f2004a7d9e146d14c1bc7739",
            "ce3b060317134f6e9f57705673ee803e",
            "23ddeb5e8a5d4d008d28f1ed15897915",
            "ea066da160cd4f6c8a28a4da31ffd40d",
            "5b5663fe478440508c231071acb6c11f",
            "2350bf0530ea4d12a7dce996c8d298e1",
            "a408165a3e4142ce9d33203c305c8a29",
            "520a584e3f454f1ab77474ae629779fb",
            "b4d695f1620e4cdd993f3583ae0ab73a",
            "493275a0ad0b46d79331d66e4ad99a5e",
            "08e62f0497f74ebd893a9700e527191b",
            "cb7d473d86474cefa2a1410d303f0daf",
            "b84c5d1940aa45f6aa486904367d61ef"
          ]
        },
        "id": "zDh3Z-Cz5SpA",
        "outputId": "3d10df8f-4d51-46b7-93ed-65679cf59938"
      },
      "outputs": [
        {
          "data": {
            "application/vnd.jupyter.widget-view+json": {
              "model_id": "1c53f26e090e4d99bc711254b374197c",
              "version_major": 2,
              "version_minor": 0
            },
            "text/plain": [
              "Downloading:   0%|          | 0.00/434 [00:00<?, ?B/s]"
            ]
          },
          "metadata": {},
          "output_type": "display_data"
        },
        {
          "data": {
            "application/vnd.jupyter.widget-view+json": {
              "model_id": "9620b43bf78147d8993279557a0af89a",
              "version_major": 2,
              "version_minor": 0
            },
            "text/plain": [
              "Downloading:   0%|          | 0.00/1.16M [00:00<?, ?B/s]"
            ]
          },
          "metadata": {},
          "output_type": "display_data"
        },
        {
          "data": {
            "application/vnd.jupyter.widget-view+json": {
              "model_id": "23ddeb5e8a5d4d008d28f1ed15897915",
              "version_major": 2,
              "version_minor": 0
            },
            "text/plain": [
              "Downloading:   0%|          | 0.00/624M [00:00<?, ?B/s]"
            ]
          },
          "metadata": {},
          "output_type": "display_data"
        },
        {
          "name": "stderr",
          "output_type": "stream",
          "text": [
            "Some weights of the model checkpoint at HooshvareLab/bert-base-parsbert-uncased were not used when initializing BertModel: ['cls.predictions.transform.LayerNorm.weight', 'cls.predictions.transform.dense.weight', 'cls.predictions.bias', 'cls.predictions.decoder.weight', 'cls.seq_relationship.bias', 'cls.predictions.decoder.bias', 'cls.seq_relationship.weight', 'cls.predictions.transform.dense.bias', 'cls.predictions.transform.LayerNorm.bias']\n",
            "- This IS expected if you are initializing BertModel from the checkpoint of a model trained on another task or with another architecture (e.g. initializing a BertForSequenceClassification model from a BertForPreTraining model).\n",
            "- This IS NOT expected if you are initializing BertModel from the checkpoint of a model that you expect to be exactly identical (initializing a BertForSequenceClassification model from a BertForSequenceClassification model).\n"
          ]
        }
      ],
      "source": [
        "from transformers import AutoConfig, AutoTokenizer, AutoModel\n",
        "\n",
        "config = AutoConfig.from_pretrained(\"HooshvareLab/bert-base-parsbert-uncased\")\n",
        "tokenizer = AutoTokenizer.from_pretrained(\"HooshvareLab/bert-base-parsbert-uncased\")\n",
        "model = AutoModel.from_pretrained(\"HooshvareLab/bert-base-parsbert-uncased\")"
      ]
    },
    {
      "cell_type": "markdown",
      "metadata": {
        "id": "uNxLlXi03SS2"
      },
      "source": [
        "# dataset"
      ]
    },
    {
      "cell_type": "code",
      "execution_count": null,
      "metadata": {
        "id": "MnSbdy9mBjjS"
      },
      "outputs": [],
      "source": [
        "import numpy as np\n",
        "import pandas as pd"
      ]
    },
    {
      "cell_type": "code",
      "execution_count": null,
      "metadata": {
        "colab": {
          "base_uri": "https://localhost:8080/"
        },
        "id": "SNecgopj3Q2c",
        "outputId": "aa5c7218-864e-4799-d734-82faecacfa94"
      },
      "outputs": [
        {
          "output_type": "stream",
          "name": "stdout",
          "text": [
            "/usr/local/lib/python3.7/dist-packages/gdown/cli.py:131: FutureWarning: Option `--id` was deprecated in version 4.3.1 and will be removed in 5.0. You don't need to pass it anymore to use a file ID.\n",
            "  category=FutureWarning,\n",
            "Downloading...\n",
            "From: https://drive.google.com/uc?id=18axL7VxgLEkJUms3pIzIVUXr-uV3KaMJ\n",
            "To: /content/datap4.csv\n",
            "100% 501k/501k [00:00<00:00, 156MB/s]\n"
          ]
        }
      ],
      "source": [
        "!gdown --id  18axL7VxgLEkJUms3pIzIVUXr-uV3KaMJ\n",
        ""
      ]
    },
    {
      "cell_type": "code",
      "execution_count": null,
      "metadata": {
        "colab": {
          "base_uri": "https://localhost:8080/",
          "height": 206
        },
        "id": "Vi9x6Acq40VK",
        "outputId": "04a4b412-43ef-49cd-ad20-325b960f7de2"
      },
      "outputs": [
        {
          "output_type": "execute_result",
          "data": {
            "text/plain": [
              "   Unnamed: 0  score                                          sentence1  \\\n",
              "0           0    4.5  گروهی از بچه ها در حیاط بازی می کنند و پیرمردی...   \n",
              "1           1    3.2  گروهی از کودکان در خانه مشغول بازی هستند و هیچ...   \n",
              "2           2    4.7  پسران جوان در فضای باز بازی می کنند و مرد در ه...   \n",
              "3           3    3.4  بچه ها در بیرون از خانه و در کنار یک مرد با لب...   \n",
              "4           4    3.7  پسران جوان در فضای باز بازی می کنند و مرد در ه...   \n",
              "\n",
              "                                           sentence2  rounded score  label  \n",
              "0  گروهی از پسران در حیاط بازی می کنند و مردی در ...              5      5  \n",
              "1  گروهی از بچه ها در حیاط بازی می کنند و پیرمردی...              3      2  \n",
              "2  بچه ها در بیرون از خانه و در کنار یک مرد با لب...              5      4  \n",
              "3  گروهی از بچه ها در حیاط بازی می کنند و پیرمردی...              3      2  \n",
              "4  گروهی از بچه ها در حیاط بازی می کنند و پیرمردی...              4      4  "
            ],
            "text/html": [
              "\n",
              "  <div id=\"df-843e9f75-5858-4621-8d53-1d1009ac13ab\">\n",
              "    <div class=\"colab-df-container\">\n",
              "      <div>\n",
              "<style scoped>\n",
              "    .dataframe tbody tr th:only-of-type {\n",
              "        vertical-align: middle;\n",
              "    }\n",
              "\n",
              "    .dataframe tbody tr th {\n",
              "        vertical-align: top;\n",
              "    }\n",
              "\n",
              "    .dataframe thead th {\n",
              "        text-align: right;\n",
              "    }\n",
              "</style>\n",
              "<table border=\"1\" class=\"dataframe\">\n",
              "  <thead>\n",
              "    <tr style=\"text-align: right;\">\n",
              "      <th></th>\n",
              "      <th>Unnamed: 0</th>\n",
              "      <th>score</th>\n",
              "      <th>sentence1</th>\n",
              "      <th>sentence2</th>\n",
              "      <th>rounded score</th>\n",
              "      <th>label</th>\n",
              "    </tr>\n",
              "  </thead>\n",
              "  <tbody>\n",
              "    <tr>\n",
              "      <th>0</th>\n",
              "      <td>0</td>\n",
              "      <td>4.5</td>\n",
              "      <td>گروهی از بچه ها در حیاط بازی می کنند و پیرمردی...</td>\n",
              "      <td>گروهی از پسران در حیاط بازی می کنند و مردی در ...</td>\n",
              "      <td>5</td>\n",
              "      <td>5</td>\n",
              "    </tr>\n",
              "    <tr>\n",
              "      <th>1</th>\n",
              "      <td>1</td>\n",
              "      <td>3.2</td>\n",
              "      <td>گروهی از کودکان در خانه مشغول بازی هستند و هیچ...</td>\n",
              "      <td>گروهی از بچه ها در حیاط بازی می کنند و پیرمردی...</td>\n",
              "      <td>3</td>\n",
              "      <td>2</td>\n",
              "    </tr>\n",
              "    <tr>\n",
              "      <th>2</th>\n",
              "      <td>2</td>\n",
              "      <td>4.7</td>\n",
              "      <td>پسران جوان در فضای باز بازی می کنند و مرد در ه...</td>\n",
              "      <td>بچه ها در بیرون از خانه و در کنار یک مرد با لب...</td>\n",
              "      <td>5</td>\n",
              "      <td>4</td>\n",
              "    </tr>\n",
              "    <tr>\n",
              "      <th>3</th>\n",
              "      <td>3</td>\n",
              "      <td>3.4</td>\n",
              "      <td>بچه ها در بیرون از خانه و در کنار یک مرد با لب...</td>\n",
              "      <td>گروهی از بچه ها در حیاط بازی می کنند و پیرمردی...</td>\n",
              "      <td>3</td>\n",
              "      <td>2</td>\n",
              "    </tr>\n",
              "    <tr>\n",
              "      <th>4</th>\n",
              "      <td>4</td>\n",
              "      <td>3.7</td>\n",
              "      <td>پسران جوان در فضای باز بازی می کنند و مرد در ه...</td>\n",
              "      <td>گروهی از بچه ها در حیاط بازی می کنند و پیرمردی...</td>\n",
              "      <td>4</td>\n",
              "      <td>4</td>\n",
              "    </tr>\n",
              "  </tbody>\n",
              "</table>\n",
              "</div>\n",
              "      <button class=\"colab-df-convert\" onclick=\"convertToInteractive('df-843e9f75-5858-4621-8d53-1d1009ac13ab')\"\n",
              "              title=\"Convert this dataframe to an interactive table.\"\n",
              "              style=\"display:none;\">\n",
              "        \n",
              "  <svg xmlns=\"http://www.w3.org/2000/svg\" height=\"24px\"viewBox=\"0 0 24 24\"\n",
              "       width=\"24px\">\n",
              "    <path d=\"M0 0h24v24H0V0z\" fill=\"none\"/>\n",
              "    <path d=\"M18.56 5.44l.94 2.06.94-2.06 2.06-.94-2.06-.94-.94-2.06-.94 2.06-2.06.94zm-11 1L8.5 8.5l.94-2.06 2.06-.94-2.06-.94L8.5 2.5l-.94 2.06-2.06.94zm10 10l.94 2.06.94-2.06 2.06-.94-2.06-.94-.94-2.06-.94 2.06-2.06.94z\"/><path d=\"M17.41 7.96l-1.37-1.37c-.4-.4-.92-.59-1.43-.59-.52 0-1.04.2-1.43.59L10.3 9.45l-7.72 7.72c-.78.78-.78 2.05 0 2.83L4 21.41c.39.39.9.59 1.41.59.51 0 1.02-.2 1.41-.59l7.78-7.78 2.81-2.81c.8-.78.8-2.07 0-2.86zM5.41 20L4 18.59l7.72-7.72 1.47 1.35L5.41 20z\"/>\n",
              "  </svg>\n",
              "      </button>\n",
              "      \n",
              "  <style>\n",
              "    .colab-df-container {\n",
              "      display:flex;\n",
              "      flex-wrap:wrap;\n",
              "      gap: 12px;\n",
              "    }\n",
              "\n",
              "    .colab-df-convert {\n",
              "      background-color: #E8F0FE;\n",
              "      border: none;\n",
              "      border-radius: 50%;\n",
              "      cursor: pointer;\n",
              "      display: none;\n",
              "      fill: #1967D2;\n",
              "      height: 32px;\n",
              "      padding: 0 0 0 0;\n",
              "      width: 32px;\n",
              "    }\n",
              "\n",
              "    .colab-df-convert:hover {\n",
              "      background-color: #E2EBFA;\n",
              "      box-shadow: 0px 1px 2px rgba(60, 64, 67, 0.3), 0px 1px 3px 1px rgba(60, 64, 67, 0.15);\n",
              "      fill: #174EA6;\n",
              "    }\n",
              "\n",
              "    [theme=dark] .colab-df-convert {\n",
              "      background-color: #3B4455;\n",
              "      fill: #D2E3FC;\n",
              "    }\n",
              "\n",
              "    [theme=dark] .colab-df-convert:hover {\n",
              "      background-color: #434B5C;\n",
              "      box-shadow: 0px 1px 3px 1px rgba(0, 0, 0, 0.15);\n",
              "      filter: drop-shadow(0px 1px 2px rgba(0, 0, 0, 0.3));\n",
              "      fill: #FFFFFF;\n",
              "    }\n",
              "  </style>\n",
              "\n",
              "      <script>\n",
              "        const buttonEl =\n",
              "          document.querySelector('#df-843e9f75-5858-4621-8d53-1d1009ac13ab button.colab-df-convert');\n",
              "        buttonEl.style.display =\n",
              "          google.colab.kernel.accessAllowed ? 'block' : 'none';\n",
              "\n",
              "        async function convertToInteractive(key) {\n",
              "          const element = document.querySelector('#df-843e9f75-5858-4621-8d53-1d1009ac13ab');\n",
              "          const dataTable =\n",
              "            await google.colab.kernel.invokeFunction('convertToInteractive',\n",
              "                                                     [key], {});\n",
              "          if (!dataTable) return;\n",
              "\n",
              "          const docLinkHtml = 'Like what you see? Visit the ' +\n",
              "            '<a target=\"_blank\" href=https://colab.research.google.com/notebooks/data_table.ipynb>data table notebook</a>'\n",
              "            + ' to learn more about interactive tables.';\n",
              "          element.innerHTML = '';\n",
              "          dataTable['output_type'] = 'display_data';\n",
              "          await google.colab.output.renderOutput(dataTable, element);\n",
              "          const docLink = document.createElement('div');\n",
              "          docLink.innerHTML = docLinkHtml;\n",
              "          element.appendChild(docLink);\n",
              "        }\n",
              "      </script>\n",
              "    </div>\n",
              "  </div>\n",
              "  "
            ]
          },
          "metadata": {},
          "execution_count": 6
        }
      ],
      "source": [
        "df = pd.read_csv('/content/datap4.csv')\n",
        "df.head()"
      ]
    },
    {
      "cell_type": "code",
      "execution_count": null,
      "metadata": {
        "id": "oLdzrtvHJICD"
      },
      "outputs": [],
      "source": [
        "X1=np.array(df['sentence1'])\n",
        "X2=np.array(df['sentence2'])\n",
        "y1=np.array( df['score'])\n",
        "y2=np.array( df['label'])"
      ]
    },
    {
      "cell_type": "code",
      "execution_count": null,
      "metadata": {
        "id": "O07MgCYVLB2E"
      },
      "outputs": [],
      "source": [
        "\n",
        "max_len=20"
      ]
    },
    {
      "cell_type": "code",
      "execution_count": null,
      "metadata": {
        "id": "Bj4hRQ_zJ-KL"
      },
      "outputs": [],
      "source": [
        "from keras.preprocessing.text import Tokenizer\n",
        "from keras.preprocessing.sequence import pad_sequences\n",
        "tokenizer   = Tokenizer(\n",
        "    num_words=1000,\n",
        "    filters='!\"#$%&()*+,-./:;<=>?@[\\\\]^_`{|}~\\t\\n',\n",
        "    split=' ',\n",
        "    oov_token='UNK'\n",
        ")\n",
        "#give number value to each token\n",
        "tokenizer.fit_on_texts(X1 )\n",
        "\n",
        "tokenizer.fit_on_texts(X2 )\n",
        "\n",
        "\n",
        "X1  = tokenizer.texts_to_sequences(X1 )\n",
        "\n",
        "X2  = tokenizer.texts_to_sequences(X2 )\n",
        "\n",
        "\n",
        "\n",
        "#adding zero to make same size\n",
        "X1  = pad_sequences(X1 , padding='post', maxlen=max_len)\n",
        "\n",
        "X2  = pad_sequences(X2 , padding='post', maxlen=max_len)\n",
        ""
      ]
    },
    {
      "cell_type": "code",
      "execution_count": null,
      "metadata": {
        "colab": {
          "base_uri": "https://localhost:8080/"
        },
        "id": "TIREac6yMBDi",
        "outputId": "5114e29c-146c-45ca-ebc8-277f078352a0"
      },
      "outputs": [
        {
          "output_type": "stream",
          "name": "stdout",
          "text": [
            "Num GPUs Available:  1\n",
            "(3101, 20, 1000)\n",
            "(3101, 20, 1000)\n",
            "(3101, 5)\n",
            "[[0. 0. 0. 1. 0.]\n",
            " [0. 0. 1. 0. 0.]\n",
            " [0. 0. 0. 1. 0.]\n",
            " ...\n",
            " [0. 0. 1. 0. 0.]\n",
            " [0. 0. 1. 0. 0.]\n",
            " [0. 0. 1. 0. 0.]]\n",
            "(3101, 6)\n"
          ]
        }
      ],
      "source": [
        "#one hot encoding\n",
        "from tensorflow.keras.utils import to_categorical\n",
        "import tensorflow as tf\n",
        "print(\"Num GPUs Available: \", len(tf.config.list_physical_devices('GPU')))\n",
        "\n",
        "with tf.device('/device:GPU:0'):\n",
        "  X1  = to_categorical(X1 , num_classes=1000)\n",
        "\n",
        "  X2  = to_categorical(X2 , num_classes=1000)\n",
        "  y1 = to_categorical(y1, num_classes=6)[:, 1:]\n",
        "  y2 = to_categorical(y2, num_classes=6)[:,  :]\n",
        "\n",
        "  print(X1.shape)\n",
        "\n",
        "  print(X2.shape)\n",
        "\n",
        "  print(y1.shape)\n",
        "  print(y1)\n",
        "  print(y2.shape)"
      ]
    },
    {
      "cell_type": "code",
      "execution_count": null,
      "metadata": {
        "id": "6D-McVN1NYlT"
      },
      "outputs": [],
      "source": [
        "import tensorflow as tf\n",
        "from tensorflow import keras\n",
        "from keras.models import Sequential\n",
        "from keras.layers import Dense\n",
        "from keras.layers import Dropout\n",
        "from keras.layers import  BatchNormalization\n",
        "from keras.layers import Concatenate\n",
        "\n",
        "from keras.layers import Embedding\n",
        "from keras.layers import LSTM,SimpleRNN,GRU\n"
      ]
    },
    {
      "cell_type": "code",
      "execution_count": null,
      "metadata": {
        "id": "Ex1E-qed0LPf"
      },
      "outputs": [],
      "source": [
        "x3=np.concatenate([X1,X2] ,axis=1)"
      ]
    },
    {
      "cell_type": "code",
      "execution_count": null,
      "metadata": {
        "id": "6MdO_GxcB0SC"
      },
      "outputs": [],
      "source": [
        "y3=np.concatenate([y1,y2] ,axis=1)"
      ]
    },
    {
      "cell_type": "code",
      "execution_count": null,
      "metadata": {
        "colab": {
          "base_uri": "https://localhost:8080/"
        },
        "id": "pcTqRQSx2kbP",
        "outputId": "26b31be4-dbbe-4f9b-933b-3aa80c03f5ed"
      },
      "outputs": [
        {
          "output_type": "stream",
          "name": "stdout",
          "text": [
            "[[[0. 0. 0. ... 0. 0. 0.]\n",
            "  [0. 0. 0. ... 0. 0. 0.]\n",
            "  [0. 0. 0. ... 0. 0. 0.]\n",
            "  ...\n",
            "  [1. 0. 0. ... 0. 0. 0.]\n",
            "  [1. 0. 0. ... 0. 0. 0.]\n",
            "  [1. 0. 0. ... 0. 0. 0.]]\n",
            "\n",
            " [[0. 0. 0. ... 0. 0. 0.]\n",
            "  [0. 0. 0. ... 0. 0. 0.]\n",
            "  [0. 0. 0. ... 0. 0. 0.]\n",
            "  ...\n",
            "  [1. 0. 0. ... 0. 0. 0.]\n",
            "  [1. 0. 0. ... 0. 0. 0.]\n",
            "  [1. 0. 0. ... 0. 0. 0.]]\n",
            "\n",
            " [[0. 0. 0. ... 0. 0. 0.]\n",
            "  [0. 0. 0. ... 0. 0. 0.]\n",
            "  [0. 0. 1. ... 0. 0. 0.]\n",
            "  ...\n",
            "  [1. 0. 0. ... 0. 0. 0.]\n",
            "  [1. 0. 0. ... 0. 0. 0.]\n",
            "  [1. 0. 0. ... 0. 0. 0.]]\n",
            "\n",
            " ...\n",
            "\n",
            " [[0. 0. 0. ... 0. 0. 0.]\n",
            "  [0. 0. 0. ... 0. 0. 0.]\n",
            "  [0. 0. 0. ... 0. 0. 0.]\n",
            "  ...\n",
            "  [1. 0. 0. ... 0. 0. 0.]\n",
            "  [1. 0. 0. ... 0. 0. 0.]\n",
            "  [1. 0. 0. ... 0. 0. 0.]]\n",
            "\n",
            " [[0. 0. 0. ... 0. 0. 0.]\n",
            "  [0. 0. 0. ... 0. 0. 0.]\n",
            "  [0. 0. 0. ... 0. 0. 0.]\n",
            "  ...\n",
            "  [1. 0. 0. ... 0. 0. 0.]\n",
            "  [1. 0. 0. ... 0. 0. 0.]\n",
            "  [1. 0. 0. ... 0. 0. 0.]]\n",
            "\n",
            " [[0. 0. 0. ... 0. 0. 0.]\n",
            "  [0. 0. 1. ... 0. 0. 0.]\n",
            "  [0. 0. 0. ... 0. 0. 0.]\n",
            "  ...\n",
            "  [1. 0. 0. ... 0. 0. 0.]\n",
            "  [1. 0. 0. ... 0. 0. 0.]\n",
            "  [1. 0. 0. ... 0. 0. 0.]]]\n"
          ]
        }
      ],
      "source": [
        "print(x3)"
      ]
    },
    {
      "cell_type": "code",
      "execution_count": null,
      "metadata": {
        "colab": {
          "base_uri": "https://localhost:8080/"
        },
        "id": "GzeGENiO6zEm",
        "outputId": "66cb0f3c-0361-4afb-eca6-bf468fc57806"
      },
      "outputs": [
        {
          "output_type": "execute_result",
          "data": {
            "text/plain": [
              "(3101, 11)"
            ]
          },
          "metadata": {},
          "execution_count": 15
        }
      ],
      "source": [
        "x3.shape\n",
        "y3.shape"
      ]
    },
    {
      "cell_type": "code",
      "execution_count": null,
      "metadata": {
        "id": "AnrJ-duA4sUe"
      },
      "outputs": [],
      "source": [
        "from sklearn.model_selection import train_test_split\n",
        "\n",
        "\n",
        "\n",
        "X_tra, X_t, y_tra, y_t = train_test_split(x3, y3, test_size=0.20, random_state=42)\n"
      ]
    },
    {
      "cell_type": "code",
      "execution_count": null,
      "metadata": {
        "colab": {
          "base_uri": "https://localhost:8080/"
        },
        "id": "xBkSeUZx_oLm",
        "outputId": "cf0f699e-6e13-4cd3-af5e-22c24781a6b9"
      },
      "outputs": [
        {
          "output_type": "stream",
          "name": "stdout",
          "text": [
            "shape of x_train (2480, 40, 1000)\n",
            "shape of y_train (2480, 11)\n",
            "shape of x_valid (621, 40, 1000)\n",
            "shape of y_valid (621, 11)\n"
          ]
        }
      ],
      "source": [
        "print(\"shape of x_train\",X_tra.shape)\n",
        "print(\"shape of y_train\",y_tra.shape)\n",
        "print(\"shape of x_valid\",X_t.shape)\n",
        "print(\"shape of y_valid\",y_t.shape)"
      ]
    },
    {
      "cell_type": "code",
      "execution_count": null,
      "metadata": {
        "colab": {
          "base_uri": "https://localhost:8080/"
        },
        "id": "zArTF9t5Yn7q",
        "outputId": "aa02116e-dbc8-4236-bdb5-1dbb590a147b"
      },
      "outputs": [
        {
          "output_type": "execute_result",
          "data": {
            "text/plain": [
              "(40, 1000)"
            ]
          },
          "metadata": {},
          "execution_count": 18
        }
      ],
      "source": [
        "x3.shape[1:]"
      ]
    },
    {
      "cell_type": "markdown",
      "source": [
        "# multi label **model1**"
      ],
      "metadata": {
        "id": "xjN-EdLKdha6"
      }
    },
    {
      "cell_type": "code",
      "execution_count": null,
      "metadata": {
        "colab": {
          "base_uri": "https://localhost:8080/"
        },
        "id": "323Zssde4Jiu",
        "outputId": "05c4d38f-9342-4c0d-fdb2-118c39474122"
      },
      "outputs": [
        {
          "output_type": "stream",
          "name": "stdout",
          "text": [
            "Model: \"sequential_5\"\n",
            "_________________________________________________________________\n",
            " Layer (type)                Output Shape              Param #   \n",
            "=================================================================\n",
            " lstm_5 (LSTM)               (None, 128)               578048    \n",
            "                                                                 \n",
            " dense_9 (Dense)             (None, 64)                8256      \n",
            "                                                                 \n",
            " dense_10 (Dense)            (None, 32)                2080      \n",
            "                                                                 \n",
            " dense_11 (Dense)            (None, 11)                363       \n",
            "                                                                 \n",
            "=================================================================\n",
            "Total params: 588,747\n",
            "Trainable params: 588,747\n",
            "Non-trainable params: 0\n",
            "_________________________________________________________________\n"
          ]
        }
      ],
      "source": [
        "model1 = Sequential()\n",
        "model1.add(keras.Input(shape=x3.shape[1:]))\n",
        "model1.add(LSTM(128))\n",
        "\n",
        "model1.add(Dense(64, activation='relu'))\n",
        "model1.add(Dense(32, activation='relu'))\n",
        "model1.add(Dense(11, activation='sigmoid'))\n",
        "opt = tf.keras.optimizers.Adam(learning_rate=0.001)\n",
        "model1.compile(loss=\"binary_crossentropy\" , optimizer=opt, metrics=['categorical_accuracy'])\n",
        "\n",
        "model1.summary()\n",
        "model1.compile(loss=\"categorical_crossentropy\" , optimizer=\"adam\", metrics=['categorical_accuracy'])\n"
      ]
    },
    {
      "cell_type": "code",
      "execution_count": null,
      "metadata": {
        "colab": {
          "base_uri": "https://localhost:8080/"
        },
        "id": "EBsf8yKVARtl",
        "outputId": "906be889-65fb-45d7-fa67-65999bd0a8fc"
      },
      "outputs": [
        {
          "output_type": "stream",
          "name": "stdout",
          "text": [
            "Epoch 1/20\n",
            "78/78 [==============================] - 3s 17ms/step - loss: 5.7857 - categorical_accuracy: 0.1843 - val_loss: 7.2705 - val_categorical_accuracy: 0.3752\n",
            "Epoch 2/20\n",
            "78/78 [==============================] - 1s 10ms/step - loss: 11.9991 - categorical_accuracy: 0.3113 - val_loss: 18.0580 - val_categorical_accuracy: 0.3752\n",
            "Epoch 3/20\n",
            "78/78 [==============================] - 1s 10ms/step - loss: 30.2005 - categorical_accuracy: 0.2540 - val_loss: 41.8742 - val_categorical_accuracy: 0.0000e+00\n",
            "Epoch 4/20\n",
            "78/78 [==============================] - 1s 10ms/step - loss: 59.3112 - categorical_accuracy: 0.1819 - val_loss: 72.8481 - val_categorical_accuracy: 0.0000e+00\n",
            "Epoch 5/20\n",
            "78/78 [==============================] - 1s 10ms/step - loss: 77.1662 - categorical_accuracy: 0.1859 - val_loss: 80.3832 - val_categorical_accuracy: 0.0000e+00\n",
            "Epoch 6/20\n",
            "78/78 [==============================] - 1s 10ms/step - loss: 98.5710 - categorical_accuracy: 0.1956 - val_loss: 56.7265 - val_categorical_accuracy: 0.0000e+00\n",
            "Epoch 7/20\n",
            "78/78 [==============================] - 1s 10ms/step - loss: 95.3673 - categorical_accuracy: 0.1758 - val_loss: 123.6027 - val_categorical_accuracy: 0.3784\n",
            "Epoch 8/20\n",
            "78/78 [==============================] - 1s 10ms/step - loss: 175.7728 - categorical_accuracy: 0.1758 - val_loss: 131.4128 - val_categorical_accuracy: 0.3752\n",
            "Epoch 9/20\n",
            "78/78 [==============================] - 1s 10ms/step - loss: 150.6627 - categorical_accuracy: 0.1782 - val_loss: 208.2105 - val_categorical_accuracy: 0.3752\n",
            "Epoch 10/20\n",
            "78/78 [==============================] - 1s 10ms/step - loss: 279.1241 - categorical_accuracy: 0.1766 - val_loss: 143.4641 - val_categorical_accuracy: 0.3784\n",
            "Epoch 11/20\n",
            "78/78 [==============================] - 1s 10ms/step - loss: 242.4432 - categorical_accuracy: 0.1847 - val_loss: 199.2764 - val_categorical_accuracy: 0.0000e+00\n",
            "Epoch 12/20\n",
            "78/78 [==============================] - 1s 10ms/step - loss: 335.3555 - categorical_accuracy: 0.1714 - val_loss: 295.2232 - val_categorical_accuracy: 0.0000e+00\n",
            "Epoch 13/20\n",
            "78/78 [==============================] - 1s 10ms/step - loss: 367.3843 - categorical_accuracy: 0.1750 - val_loss: 362.6008 - val_categorical_accuracy: 0.3784\n",
            "Epoch 14/20\n",
            "78/78 [==============================] - 1s 10ms/step - loss: 422.2982 - categorical_accuracy: 0.1819 - val_loss: 446.7378 - val_categorical_accuracy: 0.3784\n",
            "Epoch 15/20\n",
            "78/78 [==============================] - 1s 10ms/step - loss: 526.2785 - categorical_accuracy: 0.1847 - val_loss: 578.4645 - val_categorical_accuracy: 0.0000e+00\n",
            "Epoch 16/20\n",
            "78/78 [==============================] - 1s 10ms/step - loss: 557.7642 - categorical_accuracy: 0.1714 - val_loss: 350.5286 - val_categorical_accuracy: 0.0000e+00\n",
            "Epoch 17/20\n",
            "78/78 [==============================] - 1s 10ms/step - loss: 591.1901 - categorical_accuracy: 0.1633 - val_loss: 697.7584 - val_categorical_accuracy: 0.3784\n",
            "Epoch 18/20\n",
            "78/78 [==============================] - 1s 10ms/step - loss: 621.2624 - categorical_accuracy: 0.1794 - val_loss: 732.9361 - val_categorical_accuracy: 0.3784\n",
            "Epoch 19/20\n",
            "78/78 [==============================] - 1s 10ms/step - loss: 786.7383 - categorical_accuracy: 0.1605 - val_loss: 1037.6361 - val_categorical_accuracy: 0.3784\n",
            "Epoch 20/20\n",
            "78/78 [==============================] - 1s 10ms/step - loss: 855.4800 - categorical_accuracy: 0.1895 - val_loss: 1167.6511 - val_categorical_accuracy: 0.3784\n"
          ]
        }
      ],
      "source": [
        "history = model1.fit(X_tra,y_tra,validation_data=(X_t,y_t), epochs=20)"
      ]
    },
    {
      "cell_type": "code",
      "execution_count": null,
      "metadata": {
        "colab": {
          "base_uri": "https://localhost:8080/",
          "height": 533
        },
        "id": "9rOUhjL9nQUv",
        "outputId": "4e6aa833-fc79-4923-8407-22e4cf0dd736"
      },
      "outputs": [
        {
          "output_type": "execute_result",
          "data": {
            "text/plain": [
              "<IPython.core.display.Image object>"
            ],
            "image/png": "[encoded data removed]"
          },
          "metadata": {},
          "execution_count": 25
        }
      ],
      "source": [
        "from tensorflow.keras.utils import plot_model\n",
        "plot_model(model1, to_file='model_plot4a.png', show_shapes=True, show_layer_names=True)"
      ]
    },
    {
      "cell_type": "code",
      "execution_count": null,
      "metadata": {
        "colab": {
          "base_uri": "https://localhost:8080/",
          "height": 88
        },
        "id": "PCGNgtCYqaHf",
        "outputId": "73b82685-a378-45eb-8882-9f00df5215f2"
      },
      "outputs": [
        {
          "output_type": "execute_result",
          "data": {
            "text/plain": [
              "'\\nprint(\"\")\\nprint(history.history.keys())\\nh =history.history\\n   \\nplt.plot(h[\\'loss\\'])\\nplt.xlabel(\\'epoch\\')\\nplt.ylabel(\\'loss\\')\\nplt.show()\\n\\nplt.plot(h[\\'categorical_accuracy\\'])\\nplt.xlabel(\\'epoch\\')\\nplt.ylabel(\\'acc\\')\\nplt.show()\\n\\nplt.plot(h[\\'val_loss\\'])\\nplt.xlabel(\\'epoch\\')\\nplt.ylabel(\\'loss v\\')\\nplt.show()\\n\\nplt.plot(h[\\'val_categorical_accuracy\\'])\\nplt.xlabel(\\'epoch\\')\\nplt.ylabel(\\'acc v\\')\\nplt.show()\\n\\n'"
            ],
            "application/vnd.google.colaboratory.intrinsic+json": {
              "type": "string"
            }
          },
          "metadata": {},
          "execution_count": 30
        }
      ],
      "source": [
        "from sklearn.metrics import confusion_matrix, ConfusionMatrixDisplay\n",
        "import seaborn as sns\n",
        "import matplotlib.pyplot as plt\n",
        "from sklearn.metrics import classification_report\n",
        "from sklearn.metrics import confusion_matrix\n",
        "from sklearn.metrics import  ConfusionMatrixDisplay\n",
        "from sklearn.metrics import    multilabel_confusion_matrix\n",
        "from sklearn.metrics import recall_score,precision_score,f1_score,accuracy_score\n",
        "\n",
        "\n",
        "''''\n",
        "#predict on valid set\n",
        "y_predict=model1.predict(X_t)\n",
        "print(y_predict.shape)\n",
        "\n",
        "\n",
        "y_predict= np.argmax(y_predict,axis=1)\n",
        "print(y_predict.shape)\n",
        "print(\"y_predict = \", y_predict)\n",
        "\n",
        "#report result of all metrics\n",
        "#print(classification_report(y_t,y_predict))\n",
        "\n",
        "#plot confusion matrix val\n",
        "mt=multilabel_confusion_matrix(y_t[0],y_predict[0],labels=[\"score\",\"label\"])\n",
        "#confusion = confusion_matrix(y_t,y_predict)\n",
        "print(\"confusion matrix = \" ,confusion)\n",
        "mat = ConfusionMatrixDisplay(confusion_matrix=mt)\n",
        "mat.plot()\n",
        "plt.show()\n",
        "\n",
        "\n",
        "#predict on train set\n",
        "y_pred=model1.predict(X_tra)\n",
        "print(y_pred.shape)\n",
        "\n",
        "\n",
        "y_pred= np.argmax(y_pred,axis=1)\n",
        "print(y_pred.shape)\n",
        "print(\"y_predict = \", y_pred)\n",
        "#plot confusion matrix train\n",
        "conf = confusion_matrix(y_tra ,y_pred)\n",
        "print(\"confusion matrix = \" ,confusion)\n",
        "mat = ConfusionMatrixDisplay(confusion_matrix=conf)\n",
        "mat.plot()\n",
        "plt.show()\n",
        "\n",
        "#result of all metrics\n",
        "print(\"precision : \",precision_score(y_t,y_predict,average='macro'))\n",
        "print(\"recall : \",recall_score(y_t,y_predict,average='macro'))\n",
        "print(\"f1_score :\",f1_score(y_val,y_predict,average='macro'))\n",
        "'''\n",
        "'''\n",
        "print(\"\")\n",
        "print(history.history.keys())\n",
        "h =history.history\n",
        "\n",
        "plt.plot(h['loss'])\n",
        "plt.xlabel('epoch')\n",
        "plt.ylabel('loss')\n",
        "plt.show()\n",
        "\n",
        "plt.plot(h['categorical_accuracy'])\n",
        "plt.xlabel('epoch')\n",
        "plt.ylabel('acc')\n",
        "plt.show()\n",
        "\n",
        "plt.plot(h['val_loss'])\n",
        "plt.xlabel('epoch')\n",
        "plt.ylabel('loss v')\n",
        "plt.show()\n",
        "\n",
        "plt.plot(h['val_categorical_accuracy'])\n",
        "plt.xlabel('epoch')\n",
        "plt.ylabel('acc v')\n",
        "plt.show()\n",
        "\n",
        "'''\n",
        ""
      ]
    },
    {
      "cell_type": "markdown",
      "source": [
        "#multi label model2"
      ],
      "metadata": {
        "id": "bHpveg_uMl2d"
      }
    },
    {
      "cell_type": "code",
      "source": [
        "model1 = Sequential()\n",
        "model1.add(keras.Input(shape=x3.shape[1:]))\n",
        "model1.add(SimpleRNN(128))\n",
        "\n",
        "model1.add(Dense(64, activation='relu'))\n",
        "model1.add(Dense(32, activation='relu'))\n",
        "model1.add(Dense(11, activation='sigmoid'))\n",
        "opt = tf.keras.optimizers.Adam(learning_rate=0.001)\n",
        "model1.compile(loss=\"binary_crossentropy\" , optimizer=opt, metrics=['categorical_accuracy'])\n",
        "\n",
        "model1.summary()\n",
        "model1.compile(loss=\"categorical_crossentropy\" , optimizer=\"adam\", metrics=['categorical_accuracy'])\n"
      ],
      "metadata": {
        "colab": {
          "base_uri": "https://localhost:8080/"
        },
        "id": "KWif8WKMLj34",
        "outputId": "746042f9-8868-48e6-8b1e-088b33609189"
      },
      "execution_count": null,
      "outputs": [
        {
          "output_type": "stream",
          "name": "stdout",
          "text": [
            "Model: \"sequential_6\"\n",
            "_________________________________________________________________\n",
            " Layer (type)                Output Shape              Param #   \n",
            "=================================================================\n",
            " simple_rnn (SimpleRNN)      (None, 128)               144512    \n",
            "                                                                 \n",
            " dense_14 (Dense)            (None, 64)                8256      \n",
            "                                                                 \n",
            " dense_15 (Dense)            (None, 32)                2080      \n",
            "                                                                 \n",
            " dense_16 (Dense)            (None, 11)                363       \n",
            "                                                                 \n",
            "=================================================================\n",
            "Total params: 155,211\n",
            "Trainable params: 155,211\n",
            "Non-trainable params: 0\n",
            "_________________________________________________________________\n"
          ]
        }
      ]
    },
    {
      "cell_type": "code",
      "source": [
        "history = model1.fit(X_tra,y_tra,validation_data=(X_t,y_t), epochs=20)"
      ],
      "metadata": {
        "colab": {
          "base_uri": "https://localhost:8080/"
        },
        "id": "-5sVM8qNMbQO",
        "outputId": "0b3f83d4-1acb-4c57-d24d-52b17a206639"
      },
      "execution_count": null,
      "outputs": [
        {
          "output_type": "stream",
          "name": "stdout",
          "text": [
            "Epoch 1/20\n",
            "78/78 [==============================] - 5s 47ms/step - loss: 11.7020 - categorical_accuracy: 0.3585 - val_loss: 23.8352 - val_categorical_accuracy: 0.3784\n",
            "Epoch 2/20\n",
            "78/78 [==============================] - 3s 42ms/step - loss: 44.4010 - categorical_accuracy: 0.3060 - val_loss: 40.5008 - val_categorical_accuracy: 0.0000e+00\n",
            "Epoch 3/20\n",
            "78/78 [==============================] - 3s 41ms/step - loss: 34.5581 - categorical_accuracy: 0.1730 - val_loss: 36.1667 - val_categorical_accuracy: 0.3752\n",
            "Epoch 4/20\n",
            "78/78 [==============================] - 3s 43ms/step - loss: 49.5264 - categorical_accuracy: 0.1960 - val_loss: 46.6847 - val_categorical_accuracy: 0.0000e+00\n",
            "Epoch 5/20\n",
            "78/78 [==============================] - 3s 42ms/step - loss: 68.8538 - categorical_accuracy: 0.1815 - val_loss: 109.7017 - val_categorical_accuracy: 0.0000e+00\n",
            "Epoch 6/20\n",
            "78/78 [==============================] - 3s 43ms/step - loss: 106.9756 - categorical_accuracy: 0.1730 - val_loss: 140.1599 - val_categorical_accuracy: 0.3752\n",
            "Epoch 7/20\n",
            "78/78 [==============================] - 3s 43ms/step - loss: 136.2446 - categorical_accuracy: 0.1794 - val_loss: 163.4957 - val_categorical_accuracy: 0.0000e+00\n",
            "Epoch 8/20\n",
            "78/78 [==============================] - 3s 44ms/step - loss: 150.8509 - categorical_accuracy: 0.1722 - val_loss: 127.4506 - val_categorical_accuracy: 0.3784\n",
            "Epoch 9/20\n",
            "78/78 [==============================] - 3s 41ms/step - loss: 226.2839 - categorical_accuracy: 0.1810 - val_loss: 250.8095 - val_categorical_accuracy: 0.3784\n",
            "Epoch 10/20\n",
            "78/78 [==============================] - 3s 42ms/step - loss: 302.7416 - categorical_accuracy: 0.1770 - val_loss: 213.1520 - val_categorical_accuracy: 0.0000e+00\n",
            "Epoch 11/20\n",
            "78/78 [==============================] - 4s 45ms/step - loss: 335.8053 - categorical_accuracy: 0.1778 - val_loss: 415.3355 - val_categorical_accuracy: 0.0000e+00\n",
            "Epoch 12/20\n",
            "78/78 [==============================] - 3s 44ms/step - loss: 374.0163 - categorical_accuracy: 0.1722 - val_loss: 591.9088 - val_categorical_accuracy: 0.0000e+00\n",
            "Epoch 13/20\n",
            "78/78 [==============================] - 3s 43ms/step - loss: 454.8840 - categorical_accuracy: 0.1802 - val_loss: 485.2426 - val_categorical_accuracy: 0.3752\n",
            "Epoch 14/20\n",
            "78/78 [==============================] - 3s 44ms/step - loss: 639.4045 - categorical_accuracy: 0.1593 - val_loss: 599.7239 - val_categorical_accuracy: 0.0000e+00\n",
            "Epoch 15/20\n",
            "78/78 [==============================] - 3s 44ms/step - loss: 584.5583 - categorical_accuracy: 0.1786 - val_loss: 418.7272 - val_categorical_accuracy: 0.0000e+00\n",
            "Epoch 16/20\n",
            "78/78 [==============================] - 3s 44ms/step - loss: 638.6323 - categorical_accuracy: 0.1637 - val_loss: 1062.3123 - val_categorical_accuracy: 0.1224\n",
            "Epoch 17/20\n",
            "78/78 [==============================] - 3s 43ms/step - loss: 838.9316 - categorical_accuracy: 0.1778 - val_loss: 674.0365 - val_categorical_accuracy: 0.3784\n",
            "Epoch 18/20\n",
            "78/78 [==============================] - 3s 43ms/step - loss: 848.6946 - categorical_accuracy: 0.1738 - val_loss: 823.2872 - val_categorical_accuracy: 0.0000e+00\n",
            "Epoch 19/20\n",
            "78/78 [==============================] - 3s 44ms/step - loss: 877.7224 - categorical_accuracy: 0.1802 - val_loss: 685.7003 - val_categorical_accuracy: 0.0000e+00\n",
            "Epoch 20/20\n",
            "78/78 [==============================] - 3s 44ms/step - loss: 1202.4626 - categorical_accuracy: 0.1786 - val_loss: 1386.0900 - val_categorical_accuracy: 0.0000e+00\n"
          ]
        }
      ]
    },
    {
      "cell_type": "code",
      "source": [
        "from tensorflow.keras.utils import plot_model\n",
        "plot_model(model1, to_file='model_plot4a.png', show_shapes=True, show_layer_names=True)"
      ],
      "metadata": {
        "colab": {
          "base_uri": "https://localhost:8080/",
          "height": 533
        },
        "id": "oVMkbFOdMhdP",
        "outputId": "2e038974-ef40-4e2b-afdc-a1753f7bbe4c"
      },
      "execution_count": null,
      "outputs": [
        {
          "output_type": "execute_result",
          "data": {
            "text/plain": [
              "<IPython.core.display.Image object>"
            ],
            "image/png": "[encoded data removed]"
          },
          "metadata": {},
          "execution_count": 34
        }
      ]
    },
    {
      "cell_type": "markdown",
      "source": [
        "#multi label model3"
      ],
      "metadata": {
        "id": "EyBZLS2CMvBG"
      }
    },
    {
      "cell_type": "code",
      "source": [
        "model1 = Sequential()\n",
        "model1.add(keras.Input(shape=x3.shape[1:]))\n",
        "model1.add(GRU(128))\n",
        "\n",
        "model1.add(Dense(64, activation='relu'))\n",
        "model1.add(Dense(32, activation='relu'))\n",
        "model1.add(Dense(11, activation='sigmoid'))\n",
        "opt = tf.keras.optimizers.Adam(learning_rate=0.001)\n",
        "model1.compile(loss=\"binary_crossentropy\" , optimizer=opt, metrics=['categorical_accuracy'])\n",
        "\n",
        "model1.summary()\n",
        "model1.compile(loss=\"categorical_crossentropy\" , optimizer=\"adam\", metrics=['categorical_accuracy'])"
      ],
      "metadata": {
        "colab": {
          "base_uri": "https://localhost:8080/"
        },
        "id": "SSH_NDpXMlC1",
        "outputId": "ce8a3f95-2035-49fa-c1fa-5c762296834a"
      },
      "execution_count": null,
      "outputs": [
        {
          "output_type": "stream",
          "name": "stdout",
          "text": [
            "Model: \"sequential_7\"\n",
            "_________________________________________________________________\n",
            " Layer (type)                Output Shape              Param #   \n",
            "=================================================================\n",
            " gru (GRU)                   (None, 128)               433920    \n",
            "                                                                 \n",
            " dense_17 (Dense)            (None, 64)                8256      \n",
            "                                                                 \n",
            " dense_18 (Dense)            (None, 32)                2080      \n",
            "                                                                 \n",
            " dense_19 (Dense)            (None, 11)                363       \n",
            "                                                                 \n",
            "=================================================================\n",
            "Total params: 444,619\n",
            "Trainable params: 444,619\n",
            "Non-trainable params: 0\n",
            "_________________________________________________________________\n"
          ]
        }
      ]
    },
    {
      "cell_type": "code",
      "source": [
        "history = model1.fit(X_tra,y_tra,validation_data=(X_t,y_t), epochs=20)"
      ],
      "metadata": {
        "colab": {
          "base_uri": "https://localhost:8080/"
        },
        "id": "RsW1wc6FM3kd",
        "outputId": "5b0a3bfc-1434-43b6-a790-a336af9be653"
      },
      "execution_count": null,
      "outputs": [
        {
          "output_type": "stream",
          "name": "stdout",
          "text": [
            "Epoch 1/20\n",
            "78/78 [==============================] - 3s 16ms/step - loss: 9.9366 - categorical_accuracy: 0.3484 - val_loss: 19.2825 - val_categorical_accuracy: 0.3752\n",
            "Epoch 2/20\n",
            "78/78 [==============================] - 1s 10ms/step - loss: 24.9345 - categorical_accuracy: 0.3077 - val_loss: 24.6264 - val_categorical_accuracy: 0.0000e+00\n",
            "Epoch 3/20\n",
            "78/78 [==============================] - 1s 10ms/step - loss: 22.8827 - categorical_accuracy: 0.2032 - val_loss: 19.7637 - val_categorical_accuracy: 0.3752\n",
            "Epoch 4/20\n",
            "78/78 [==============================] - 1s 10ms/step - loss: 24.0595 - categorical_accuracy: 0.1621 - val_loss: 36.0427 - val_categorical_accuracy: 0.0918\n",
            "Epoch 5/20\n",
            "78/78 [==============================] - 1s 9ms/step - loss: 54.1349 - categorical_accuracy: 0.1839 - val_loss: 51.2175 - val_categorical_accuracy: 0.0000e+00\n",
            "Epoch 6/20\n",
            "78/78 [==============================] - 1s 10ms/step - loss: 92.1513 - categorical_accuracy: 0.1750 - val_loss: 124.3518 - val_categorical_accuracy: 0.3752\n",
            "Epoch 7/20\n",
            "78/78 [==============================] - 1s 10ms/step - loss: 121.5469 - categorical_accuracy: 0.1673 - val_loss: 154.5950 - val_categorical_accuracy: 0.3784\n",
            "Epoch 8/20\n",
            "78/78 [==============================] - 1s 10ms/step - loss: 170.3066 - categorical_accuracy: 0.1835 - val_loss: 173.0513 - val_categorical_accuracy: 0.0000e+00\n",
            "Epoch 9/20\n",
            "78/78 [==============================] - 1s 10ms/step - loss: 210.1872 - categorical_accuracy: 0.1706 - val_loss: 238.2527 - val_categorical_accuracy: 0.3752\n",
            "Epoch 10/20\n",
            "78/78 [==============================] - 1s 10ms/step - loss: 259.6628 - categorical_accuracy: 0.1794 - val_loss: 375.1452 - val_categorical_accuracy: 0.1224\n",
            "Epoch 11/20\n",
            "78/78 [==============================] - 1s 10ms/step - loss: 344.7072 - categorical_accuracy: 0.1738 - val_loss: 303.1516 - val_categorical_accuracy: 0.0000e+00\n",
            "Epoch 12/20\n",
            "78/78 [==============================] - 1s 9ms/step - loss: 365.2066 - categorical_accuracy: 0.1681 - val_loss: 302.0498 - val_categorical_accuracy: 0.0000e+00\n",
            "Epoch 13/20\n",
            "78/78 [==============================] - 1s 9ms/step - loss: 447.3396 - categorical_accuracy: 0.1722 - val_loss: 450.5595 - val_categorical_accuracy: 0.0000e+00\n",
            "Epoch 14/20\n",
            "78/78 [==============================] - 1s 9ms/step - loss: 421.7526 - categorical_accuracy: 0.1839 - val_loss: 564.6268 - val_categorical_accuracy: 0.0000e+00\n",
            "Epoch 15/20\n",
            "78/78 [==============================] - 1s 10ms/step - loss: 551.9228 - categorical_accuracy: 0.1815 - val_loss: 538.4895 - val_categorical_accuracy: 0.0000e+00\n",
            "Epoch 16/20\n",
            "78/78 [==============================] - 1s 10ms/step - loss: 494.3759 - categorical_accuracy: 0.1859 - val_loss: 578.9441 - val_categorical_accuracy: 0.3784\n",
            "Epoch 17/20\n",
            "78/78 [==============================] - 1s 10ms/step - loss: 798.6419 - categorical_accuracy: 0.1750 - val_loss: 1291.5540 - val_categorical_accuracy: 0.3784\n",
            "Epoch 18/20\n",
            "78/78 [==============================] - 1s 10ms/step - loss: 868.5852 - categorical_accuracy: 0.1746 - val_loss: 727.7097 - val_categorical_accuracy: 0.3784\n",
            "Epoch 19/20\n",
            "78/78 [==============================] - 1s 10ms/step - loss: 662.6523 - categorical_accuracy: 0.1891 - val_loss: 686.7849 - val_categorical_accuracy: 0.0000e+00\n",
            "Epoch 20/20\n",
            "78/78 [==============================] - 1s 10ms/step - loss: 883.5992 - categorical_accuracy: 0.1835 - val_loss: 678.8377 - val_categorical_accuracy: 0.3752\n"
          ]
        }
      ]
    },
    {
      "cell_type": "code",
      "source": [
        "from tensorflow.keras.utils import plot_model\n",
        "plot_model(model1, to_file='model_plot4a.png', show_shapes=True, show_layer_names=True)"
      ],
      "metadata": {
        "colab": {
          "base_uri": "https://localhost:8080/",
          "height": 533
        },
        "id": "CaIWo7JfM5w3",
        "outputId": "7b518fd5-30ab-4ccf-8406-f85a938c7d1f"
      },
      "execution_count": null,
      "outputs": [
        {
          "output_type": "execute_result",
          "data": {
            "text/plain": [
              "<IPython.core.display.Image object>"
            ],
            "image/png": "[encoded data removed]"
          },
          "metadata": {},
          "execution_count": 37
        }
      ]
    },
    {
      "cell_type": "markdown",
      "source": [
        "# M1 (LSTM)\n"
      ],
      "metadata": {
        "id": "76apegp3t11M"
      }
    },
    {
      "cell_type": "code",
      "source": [
        "\n",
        "from keras.layers import concatenate\n",
        "from keras.layers import Input, BatchNormalization\n",
        "inp1 = keras.layers.Input(shape=X1.shape[1:])\n",
        "inp2 = keras.layers.Input(shape=X2.shape[1:])\n",
        "\n",
        "#first sentence\n",
        "m1 = LSTM(128)(inp1)\n",
        "m1 = keras.Model(inputs=inp1, outputs=m1)\n",
        "\n",
        "#second sentence\n",
        "m2 = LSTM(128)(inp2)\n",
        "m2 = keras.Model(inputs=inp2, outputs=m2)\n",
        "\n",
        "# combine the output of the two branches\n",
        "combined = concatenate([m1.output, m2.output])\n",
        "\n",
        "#batch normalize\n",
        "z1=BatchNormalization()(combined)\n",
        "z2= BatchNormalization()(combined)\n",
        "\n",
        "z1 = Dense(5, activation=\"sigmoid\")(z1)\n",
        "\n",
        "z2 = Dense(6, activation=\"sigmoid\")(z2)\n",
        "\n",
        "# our model will accept the inputs of the two branches and\n",
        "\n",
        "model  =keras.Model(inputs=[inp1, inp2], outputs=[z1 , z2 ])\n",
        "model.compile(loss=\"binary_crossentropy\" , optimizer=\"adam\", metrics=['categorical_accuracy'])"
      ],
      "metadata": {
        "id": "MLGmSC9oh9UB"
      },
      "execution_count": null,
      "outputs": []
    },
    {
      "cell_type": "code",
      "execution_count": null,
      "metadata": {
        "id": "KPQBQKd-xvZN"
      },
      "outputs": [],
      "source": [
        "'''from keras.layers import concatenate\n",
        "inp1 = keras.layers.Input(shape=X1.shape[1:])\n",
        "inp2 = keras.layers.Input(shape=X2.shape[1:])\n",
        "\n",
        "#the first branch operates on the first input\n",
        "\n",
        "m1 = LSTM(128, return_sequences=True)(inp1)\n",
        "m1 = LSTM(64)(m1)\n",
        "\n",
        "m1 = keras.Model(inputs=inp1, outputs=m1)\n",
        "\n",
        "# the second branch opreates on the second input\n",
        "\n",
        "m2 =LSTM(128, return_sequences=True)(inp2)\n",
        "m2 = LSTM(64)(m2)\n",
        "\n",
        "m2 = keras.Model(inputs=inp2, outputs=m2)\n",
        "\n",
        "# combine the output of the two branches\n",
        "combined = concatenate([m1.output, m2.output])\n",
        "\n",
        "# apply a FC layer and then a regression prediction on the\n",
        "z1 = Dense(64, activation=\"relu\")(combined)\n",
        "z1 = Dense(32, activation=\"relu\")(z1)\n",
        "z1 = Dense(11, activation=\"sigmoid\")(z1)\n",
        "\n",
        "model =keras.Model(inputs=[inp1, inp2], outputs=z1)\n",
        "opt = tf.keras.optimizers.Adam(learning_rate=0.00001)\n",
        "model.compile(loss=\"binary_crossentropy\" , optimizer=opt, metrics=['categorical_accuracy'])'''\n"
      ]
    },
    {
      "cell_type": "code",
      "execution_count": null,
      "metadata": {
        "colab": {
          "base_uri": "https://localhost:8080/",
          "height": 533
        },
        "id": "iQVTLgpV1nBE",
        "outputId": "3fff19da-4b4a-463e-d61c-4a1298bbb3a1"
      },
      "outputs": [
        {
          "output_type": "execute_result",
          "data": {
            "text/plain": [
              "<IPython.core.display.Image object>"
            ],
            "image/png": "[encoded data removed]"
          },
          "metadata": {},
          "execution_count": 45
        }
      ],
      "source": [
        "from tensorflow.keras.utils import plot_model\n",
        "plot_model(model, to_file='model_plot4a.png', show_shapes=True, show_layer_names=True)"
      ]
    },
    {
      "cell_type": "code",
      "source": [
        "history = model.fit(x=[X1,X2],y=[y1,y2],validation_split=0.2, epochs=20)"
      ],
      "metadata": {
        "colab": {
          "base_uri": "https://localhost:8080/"
        },
        "id": "6yMKmcBNiqeg",
        "outputId": "947b0926-06c2-41d6-f9cb-dc1d33ca0de5"
      },
      "execution_count": null,
      "outputs": [
        {
          "output_type": "stream",
          "name": "stdout",
          "text": [
            "Epoch 1/20\n",
            "78/78 [==============================] - 6s 29ms/step - loss: 1.0852 - dense_25_loss: 0.5738 - dense_26_loss: 0.5115 - dense_25_categorical_accuracy: 0.3633 - dense_26_categorical_accuracy: 0.4875 - val_loss: 0.8758 - val_dense_25_loss: 0.4402 - val_dense_26_loss: 0.4356 - val_dense_25_categorical_accuracy: 0.3994 - val_dense_26_categorical_accuracy: 0.2770\n",
            "Epoch 2/20\n",
            "78/78 [==============================] - 1s 15ms/step - loss: 0.6335 - dense_25_loss: 0.4149 - dense_26_loss: 0.2186 - dense_25_categorical_accuracy: 0.5000 - dense_26_categorical_accuracy: 0.7637 - val_loss: 0.8495 - val_dense_25_loss: 0.4056 - val_dense_26_loss: 0.4439 - val_dense_25_categorical_accuracy: 0.4203 - val_dense_26_categorical_accuracy: 0.2738\n",
            "Epoch 3/20\n",
            "78/78 [==============================] - 1s 16ms/step - loss: 0.5387 - dense_25_loss: 0.3840 - dense_26_loss: 0.1548 - dense_25_categorical_accuracy: 0.5315 - dense_26_categorical_accuracy: 0.8319 - val_loss: 0.8708 - val_dense_25_loss: 0.4021 - val_dense_26_loss: 0.4687 - val_dense_25_categorical_accuracy: 0.4444 - val_dense_26_categorical_accuracy: 0.2721\n",
            "Epoch 4/20\n",
            "78/78 [==============================] - 1s 16ms/step - loss: 0.4769 - dense_25_loss: 0.3566 - dense_26_loss: 0.1204 - dense_25_categorical_accuracy: 0.5835 - dense_26_categorical_accuracy: 0.8847 - val_loss: 0.8680 - val_dense_25_loss: 0.4036 - val_dense_26_loss: 0.4644 - val_dense_25_categorical_accuracy: 0.4332 - val_dense_26_categorical_accuracy: 0.3736\n",
            "Epoch 5/20\n",
            "78/78 [==============================] - 1s 15ms/step - loss: 0.4320 - dense_25_loss: 0.3265 - dense_26_loss: 0.1055 - dense_25_categorical_accuracy: 0.6306 - dense_26_categorical_accuracy: 0.9004 - val_loss: 0.8647 - val_dense_25_loss: 0.4107 - val_dense_26_loss: 0.4541 - val_dense_25_categorical_accuracy: 0.4444 - val_dense_26_categorical_accuracy: 0.4219\n",
            "Epoch 6/20\n",
            "78/78 [==============================] - 1s 15ms/step - loss: 0.3930 - dense_25_loss: 0.3010 - dense_26_loss: 0.0920 - dense_25_categorical_accuracy: 0.6722 - dense_26_categorical_accuracy: 0.9270 - val_loss: 0.8461 - val_dense_25_loss: 0.4355 - val_dense_26_loss: 0.4106 - val_dense_25_categorical_accuracy: 0.4316 - val_dense_26_categorical_accuracy: 0.5395\n",
            "Epoch 7/20\n",
            "78/78 [==============================] - 1s 15ms/step - loss: 0.3632 - dense_25_loss: 0.2805 - dense_26_loss: 0.0827 - dense_25_categorical_accuracy: 0.6907 - dense_26_categorical_accuracy: 0.9355 - val_loss: 0.8781 - val_dense_25_loss: 0.4808 - val_dense_26_loss: 0.3973 - val_dense_25_categorical_accuracy: 0.3736 - val_dense_26_categorical_accuracy: 0.5652\n",
            "Epoch 8/20\n",
            "78/78 [==============================] - 1s 15ms/step - loss: 0.3387 - dense_25_loss: 0.2657 - dense_26_loss: 0.0730 - dense_25_categorical_accuracy: 0.7149 - dense_26_categorical_accuracy: 0.9431 - val_loss: 0.9365 - val_dense_25_loss: 0.5166 - val_dense_26_loss: 0.4198 - val_dense_25_categorical_accuracy: 0.4187 - val_dense_26_categorical_accuracy: 0.5604\n",
            "Epoch 9/20\n",
            "78/78 [==============================] - 1s 15ms/step - loss: 0.3150 - dense_25_loss: 0.2501 - dense_26_loss: 0.0649 - dense_25_categorical_accuracy: 0.7278 - dense_26_categorical_accuracy: 0.9520 - val_loss: 1.0536 - val_dense_25_loss: 0.6178 - val_dense_26_loss: 0.4358 - val_dense_25_categorical_accuracy: 0.3768 - val_dense_26_categorical_accuracy: 0.5894\n",
            "Epoch 10/20\n",
            "78/78 [==============================] - 1s 16ms/step - loss: 0.2923 - dense_25_loss: 0.2312 - dense_26_loss: 0.0611 - dense_25_categorical_accuracy: 0.7633 - dense_26_categorical_accuracy: 0.9569 - val_loss: 1.2060 - val_dense_25_loss: 0.6719 - val_dense_26_loss: 0.5341 - val_dense_25_categorical_accuracy: 0.3639 - val_dense_26_categorical_accuracy: 0.5556\n",
            "Epoch 11/20\n",
            "78/78 [==============================] - 1s 15ms/step - loss: 0.2678 - dense_25_loss: 0.2159 - dense_26_loss: 0.0519 - dense_25_categorical_accuracy: 0.7810 - dense_26_categorical_accuracy: 0.9613 - val_loss: 1.1874 - val_dense_25_loss: 0.7020 - val_dense_26_loss: 0.4854 - val_dense_25_categorical_accuracy: 0.3623 - val_dense_26_categorical_accuracy: 0.6006\n",
            "Epoch 12/20\n",
            "78/78 [==============================] - 1s 15ms/step - loss: 0.2565 - dense_25_loss: 0.2042 - dense_26_loss: 0.0524 - dense_25_categorical_accuracy: 0.7992 - dense_26_categorical_accuracy: 0.9609 - val_loss: 1.3287 - val_dense_25_loss: 0.7758 - val_dense_26_loss: 0.5528 - val_dense_25_categorical_accuracy: 0.3301 - val_dense_26_categorical_accuracy: 0.5717\n",
            "Epoch 13/20\n",
            "78/78 [==============================] - 1s 15ms/step - loss: 0.2455 - dense_25_loss: 0.1927 - dense_26_loss: 0.0528 - dense_25_categorical_accuracy: 0.8040 - dense_26_categorical_accuracy: 0.9552 - val_loss: 1.4622 - val_dense_25_loss: 0.8744 - val_dense_26_loss: 0.5878 - val_dense_25_categorical_accuracy: 0.3494 - val_dense_26_categorical_accuracy: 0.5878\n",
            "Epoch 14/20\n",
            "78/78 [==============================] - 1s 15ms/step - loss: 0.2424 - dense_25_loss: 0.1901 - dense_26_loss: 0.0524 - dense_25_categorical_accuracy: 0.8157 - dense_26_categorical_accuracy: 0.9597 - val_loss: 1.3656 - val_dense_25_loss: 0.8157 - val_dense_26_loss: 0.5499 - val_dense_25_categorical_accuracy: 0.3865 - val_dense_26_categorical_accuracy: 0.5845\n",
            "Epoch 15/20\n",
            "78/78 [==============================] - 1s 15ms/step - loss: 0.2205 - dense_25_loss: 0.1711 - dense_26_loss: 0.0494 - dense_25_categorical_accuracy: 0.8351 - dense_26_categorical_accuracy: 0.9601 - val_loss: 1.3489 - val_dense_25_loss: 0.8822 - val_dense_26_loss: 0.4667 - val_dense_25_categorical_accuracy: 0.3768 - val_dense_26_categorical_accuracy: 0.6361\n",
            "Epoch 16/20\n",
            "78/78 [==============================] - 1s 15ms/step - loss: 0.2060 - dense_25_loss: 0.1649 - dense_26_loss: 0.0411 - dense_25_categorical_accuracy: 0.8440 - dense_26_categorical_accuracy: 0.9718 - val_loss: 1.4973 - val_dense_25_loss: 0.9913 - val_dense_26_loss: 0.5060 - val_dense_25_categorical_accuracy: 0.3688 - val_dense_26_categorical_accuracy: 0.6329\n",
            "Epoch 17/20\n",
            "78/78 [==============================] - 1s 16ms/step - loss: 0.2051 - dense_25_loss: 0.1636 - dense_26_loss: 0.0415 - dense_25_categorical_accuracy: 0.8403 - dense_26_categorical_accuracy: 0.9730 - val_loss: 1.6828 - val_dense_25_loss: 1.0623 - val_dense_26_loss: 0.6205 - val_dense_25_categorical_accuracy: 0.3430 - val_dense_26_categorical_accuracy: 0.5878\n",
            "Epoch 18/20\n",
            "78/78 [==============================] - 1s 16ms/step - loss: 0.1924 - dense_25_loss: 0.1524 - dense_26_loss: 0.0400 - dense_25_categorical_accuracy: 0.8597 - dense_26_categorical_accuracy: 0.9722 - val_loss: 1.6896 - val_dense_25_loss: 1.0992 - val_dense_26_loss: 0.5904 - val_dense_25_categorical_accuracy: 0.3462 - val_dense_26_categorical_accuracy: 0.5749\n",
            "Epoch 19/20\n",
            "78/78 [==============================] - 1s 16ms/step - loss: 0.1876 - dense_25_loss: 0.1477 - dense_26_loss: 0.0399 - dense_25_categorical_accuracy: 0.8581 - dense_26_categorical_accuracy: 0.9738 - val_loss: 1.6031 - val_dense_25_loss: 1.0537 - val_dense_26_loss: 0.5494 - val_dense_25_categorical_accuracy: 0.3366 - val_dense_26_categorical_accuracy: 0.6087\n",
            "Epoch 20/20\n",
            "78/78 [==============================] - 1s 16ms/step - loss: 0.1773 - dense_25_loss: 0.1413 - dense_26_loss: 0.0360 - dense_25_categorical_accuracy: 0.8690 - dense_26_categorical_accuracy: 0.9774 - val_loss: 1.7501 - val_dense_25_loss: 1.1535 - val_dense_26_loss: 0.5965 - val_dense_25_categorical_accuracy: 0.3704 - val_dense_26_categorical_accuracy: 0.6264\n"
          ]
        }
      ]
    },
    {
      "cell_type": "code",
      "execution_count": null,
      "metadata": {
        "colab": {
          "base_uri": "https://localhost:8080/",
          "height": 1000
        },
        "id": "yHgImXArGaTs",
        "outputId": "c15213a8-4e2c-4e1e-9908-edaf7f17e965"
      },
      "outputs": [
        {
          "output_type": "stream",
          "name": "stdout",
          "text": [
            "\n",
            "dict_keys(['loss', 'dense_80_loss', 'dense_81_loss', 'dense_80_categorical_accuracy', 'dense_81_categorical_accuracy', 'val_loss', 'val_dense_80_loss', 'val_dense_81_loss', 'val_dense_80_categorical_accuracy', 'val_dense_81_categorical_accuracy'])\n"
          ]
        },
        {
          "output_type": "display_data",
          "data": {
            "text/plain": [
              "<Figure size 432x288 with 1 Axes>"
            ],
            "image/png": "[encoded data removed]"
          },
          "metadata": {
            "needs_background": "light"
          }
        },
        {
          "output_type": "display_data",
          "data": {
            "text/plain": [
              "<Figure size 432x288 with 1 Axes>"
            ],
            "image/png": "[encoded data removed]"
          },
          "metadata": {
            "needs_background": "light"
          }
        },
        {
          "output_type": "display_data",
          "data": {
            "text/plain": [
              "<Figure size 432x288 with 1 Axes>"
            ],
            "image/png": "[encoded data removed]"
          },
          "metadata": {
            "needs_background": "light"
          }
        },
        {
          "output_type": "display_data",
          "data": {
            "text/plain": [
              "<Figure size 432x288 with 1 Axes>"
            ],
            "image/png": "[encoded data removed]"
          },
          "metadata": {
            "needs_background": "light"
          }
        }
      ],
      "source": [
        "print(\"\")\n",
        "print(history.history.keys())\n",
        "h =history.history\n",
        "\n",
        "plt.plot(h['loss'])\n",
        "plt.xlabel('epoch')\n",
        "plt.ylabel('loss')\n",
        "plt.show()\n",
        "\n",
        "plt.plot(h['dense_81_categorical_accuracy'])\n",
        "plt.xlabel('epoch')\n",
        "plt.ylabel('acc')\n",
        "plt.show()\n",
        "\n",
        "plt.plot(h['val_loss'])\n",
        "plt.xlabel('epoch')\n",
        "plt.ylabel('loss v')\n",
        "plt.show()\n",
        "\n",
        "plt.plot(h['val_dense_81_categorical_accuracy'])\n",
        "plt.xlabel('epoch')\n",
        "plt.ylabel('acc v')\n",
        "plt.show()\n"
      ]
    },
    {
      "cell_type": "code",
      "source": [
        "y_predict=model.predict([X1,X2])\n",
        "\n",
        "y_sc=np.argmax(y_predict[0],axis=1)\n",
        "y_lb=np.argmax(y_predict[1],axis=1)\n",
        "\n",
        "#one hot\n",
        "y_sc = to_categorical(y_sc)\n",
        "y_lb = to_categorical(y_lb)\n",
        "\n",
        "#report result of all metrics\n",
        "print(classification_report(y1,y_sc))\n",
        "print(classification_report(y2,y_lb))\n",
        "\n",
        "#plot confusion matrix val\n",
        "mt=(confusion_matrix(y1.argmax(axis=1),y_sc.argmax(axis=1)))\n",
        "mat = ConfusionMatrixDisplay(confusion_matrix=mt)\n",
        "mat.plot()\n",
        "plt.show()\n",
        "\n",
        "mt1=confusion_matrix(y2.argmax(axis=1),y_lb.argmax(axis=1))\n",
        "mat1 = ConfusionMatrixDisplay(confusion_matrix=mt1)\n",
        "mat1.plot()\n",
        "plt.show()\n",
        ""
      ],
      "metadata": {
        "colab": {
          "base_uri": "https://localhost:8080/",
          "height": 1000
        },
        "id": "WKIyHsJQkQtA",
        "outputId": "7dd9a900-e23a-4a31-b2f4-aeda84da43ad"
      },
      "execution_count": null,
      "outputs": [
        {
          "output_type": "stream",
          "name": "stdout",
          "text": [
            "              precision    recall  f1-score   support\n",
            "\n",
            "           0       0.95      0.84      0.89       161\n",
            "           1       0.71      0.77      0.74       229\n",
            "           2       0.75      0.77      0.76       842\n",
            "           3       0.84      0.70      0.76      1207\n",
            "           4       0.65      0.83      0.73       662\n",
            "\n",
            "   micro avg       0.76      0.76      0.76      3101\n",
            "   macro avg       0.78      0.78      0.78      3101\n",
            "weighted avg       0.77      0.76      0.76      3101\n",
            " samples avg       0.76      0.76      0.76      3101\n",
            "\n",
            "              precision    recall  f1-score   support\n",
            "\n",
            "           0       0.96      0.93      0.95       741\n",
            "           1       0.70      0.98      0.82       421\n",
            "           2       0.88      0.77      0.82       106\n",
            "           3       0.94      0.96      0.95       494\n",
            "           4       0.92      0.69      0.79       402\n",
            "           5       0.86      0.82      0.84       937\n",
            "\n",
            "   micro avg       0.87      0.87      0.87      3101\n",
            "   macro avg       0.88      0.86      0.86      3101\n",
            "weighted avg       0.88      0.87      0.87      3101\n",
            " samples avg       0.87      0.87      0.87      3101\n",
            "\n"
          ]
        },
        {
          "output_type": "display_data",
          "data": {
            "text/plain": [
              "<Figure size 432x288 with 2 Axes>"
            ],
            "image/png": "[encoded data removed]"
          },
          "metadata": {
            "needs_background": "light"
          }
        },
        {
          "output_type": "display_data",
          "data": {
            "text/plain": [
              "<Figure size 432x288 with 2 Axes>"
            ],
            "image/png": "[encoded data removed]"
          },
          "metadata": {
            "needs_background": "light"
          }
        }
      ]
    },
    {
      "cell_type": "markdown",
      "metadata": {
        "id": "t4eECW0yA0XU"
      },
      "source": [
        "# M2(SimpleRNN)"
      ]
    },
    {
      "cell_type": "code",
      "execution_count": null,
      "metadata": {
        "id": "rFcEZD1BqMBP"
      },
      "outputs": [],
      "source": [
        "from keras.layers import concatenate\n",
        "from keras.layers import Input, BatchNormalization\n",
        "inp1 = keras.layers.Input(shape=X1.shape[1:])\n",
        "inp2 = keras.layers.Input(shape=X2.shape[1:])\n",
        "\n",
        "#the first branch operates on the first input\n",
        "\n",
        "m1 = SimpleRNN(64)( inp1 )\n",
        "\n",
        "m1 = keras.Model(inputs=inp1, outputs=m1)\n",
        "\n",
        "# the second branch opreates on the second input\n",
        "\n",
        "m2 =SimpleRNN(64)(inp2)\n",
        "\n",
        "m2 = keras.Model(inputs=inp2, outputs=m2)\n",
        "\n",
        "# combine the output of the two branches\n",
        "combined = concatenate([m1.output, m2.output])\n",
        "\n",
        "\n",
        "# apply a FC layer and then a regression prediction on the\n",
        "\n",
        "\n",
        "z1=BatchNormalization()(combined)\n",
        "z2= BatchNormalization()(combined)\n",
        "\n",
        "z1 = Dense(5, activation=\"softmax\")(z1)\n",
        "\n",
        "z2 = Dense(6, activation=\"softmax\")(z2)\n",
        "\n",
        "\n",
        "model2 =keras.Model(inputs=[inp1, inp2], outputs=[z1 , z2 ])\n",
        "model2.compile(loss=\"categorical_crossentropy\" , optimizer=\"adam\", metrics=['categorical_accuracy'])\n"
      ]
    },
    {
      "cell_type": "code",
      "execution_count": null,
      "metadata": {
        "colab": {
          "base_uri": "https://localhost:8080/"
        },
        "id": "TeMI05q4N29I",
        "outputId": "06667719-3981-42e7-8efc-651ed1fd5cb4"
      },
      "outputs": [
        {
          "output_type": "stream",
          "name": "stdout",
          "text": [
            "Epoch 1/20\n",
            "78/78 [==============================] - 5s 32ms/step - loss: 3.1301 - dense_82_loss: 1.7408 - dense_83_loss: 1.3892 - dense_82_categorical_accuracy: 0.2528 - dense_83_categorical_accuracy: 0.4915 - val_loss: 2.8027 - val_dense_82_loss: 1.4113 - val_dense_83_loss: 1.3913 - val_dense_82_categorical_accuracy: 0.3994 - val_dense_83_categorical_accuracy: 0.5813\n",
            "Epoch 2/20\n",
            "78/78 [==============================] - 2s 25ms/step - loss: 1.8832 - dense_82_loss: 1.3102 - dense_83_loss: 0.5730 - dense_82_categorical_accuracy: 0.4484 - dense_83_categorical_accuracy: 0.8016 - val_loss: 2.5084 - val_dense_82_loss: 1.3487 - val_dense_83_loss: 1.1597 - val_dense_82_categorical_accuracy: 0.3430 - val_dense_83_categorical_accuracy: 0.5491\n",
            "Epoch 3/20\n",
            "78/78 [==============================] - 2s 26ms/step - loss: 1.4320 - dense_82_loss: 1.0996 - dense_83_loss: 0.3325 - dense_82_categorical_accuracy: 0.5524 - dense_83_categorical_accuracy: 0.8952 - val_loss: 2.2845 - val_dense_82_loss: 1.3345 - val_dense_83_loss: 0.9501 - val_dense_82_categorical_accuracy: 0.4138 - val_dense_83_categorical_accuracy: 0.6248\n",
            "Epoch 4/20\n",
            "78/78 [==============================] - 2s 25ms/step - loss: 1.1167 - dense_82_loss: 0.8920 - dense_83_loss: 0.2247 - dense_82_categorical_accuracy: 0.6593 - dense_83_categorical_accuracy: 0.9367 - val_loss: 2.2933 - val_dense_82_loss: 1.4347 - val_dense_83_loss: 0.8585 - val_dense_82_categorical_accuracy: 0.3816 - val_dense_83_categorical_accuracy: 0.6651\n",
            "Epoch 5/20\n",
            "78/78 [==============================] - 2s 25ms/step - loss: 0.8802 - dense_82_loss: 0.7183 - dense_83_loss: 0.1619 - dense_82_categorical_accuracy: 0.7323 - dense_83_categorical_accuracy: 0.9613 - val_loss: 2.5792 - val_dense_82_loss: 1.5792 - val_dense_83_loss: 1.0000 - val_dense_82_categorical_accuracy: 0.3591 - val_dense_83_categorical_accuracy: 0.6409\n",
            "Epoch 6/20\n",
            "78/78 [==============================] - 2s 25ms/step - loss: 0.6910 - dense_82_loss: 0.5733 - dense_83_loss: 0.1177 - dense_82_categorical_accuracy: 0.7935 - dense_83_categorical_accuracy: 0.9746 - val_loss: 2.9095 - val_dense_82_loss: 1.8642 - val_dense_83_loss: 1.0453 - val_dense_82_categorical_accuracy: 0.3494 - val_dense_83_categorical_accuracy: 0.6393\n",
            "Epoch 7/20\n",
            "78/78 [==============================] - 2s 25ms/step - loss: 0.5964 - dense_82_loss: 0.4900 - dense_83_loss: 0.1064 - dense_82_categorical_accuracy: 0.8282 - dense_83_categorical_accuracy: 0.9750 - val_loss: 3.0684 - val_dense_82_loss: 2.0486 - val_dense_83_loss: 1.0199 - val_dense_82_categorical_accuracy: 0.3349 - val_dense_83_categorical_accuracy: 0.6570\n",
            "Epoch 8/20\n",
            "78/78 [==============================] - 2s 25ms/step - loss: 0.4913 - dense_82_loss: 0.4007 - dense_83_loss: 0.0906 - dense_82_categorical_accuracy: 0.8645 - dense_83_categorical_accuracy: 0.9794 - val_loss: 3.3931 - val_dense_82_loss: 2.2152 - val_dense_83_loss: 1.1779 - val_dense_82_categorical_accuracy: 0.3349 - val_dense_83_categorical_accuracy: 0.6345\n",
            "Epoch 9/20\n",
            "78/78 [==============================] - 2s 25ms/step - loss: 0.4194 - dense_82_loss: 0.3477 - dense_83_loss: 0.0717 - dense_82_categorical_accuracy: 0.8879 - dense_83_categorical_accuracy: 0.9863 - val_loss: 3.3169 - val_dense_82_loss: 2.2678 - val_dense_83_loss: 1.0491 - val_dense_82_categorical_accuracy: 0.3430 - val_dense_83_categorical_accuracy: 0.6538\n",
            "Epoch 10/20\n",
            "78/78 [==============================] - 2s 26ms/step - loss: 0.3769 - dense_82_loss: 0.3092 - dense_83_loss: 0.0677 - dense_82_categorical_accuracy: 0.8960 - dense_83_categorical_accuracy: 0.9859 - val_loss: 3.9909 - val_dense_82_loss: 2.5783 - val_dense_83_loss: 1.4126 - val_dense_82_categorical_accuracy: 0.3382 - val_dense_83_categorical_accuracy: 0.6232\n",
            "Epoch 11/20\n",
            "78/78 [==============================] - 2s 25ms/step - loss: 0.3431 - dense_82_loss: 0.2775 - dense_83_loss: 0.0656 - dense_82_categorical_accuracy: 0.9149 - dense_83_categorical_accuracy: 0.9847 - val_loss: 3.8637 - val_dense_82_loss: 2.5592 - val_dense_83_loss: 1.3046 - val_dense_82_categorical_accuracy: 0.3382 - val_dense_83_categorical_accuracy: 0.6167\n",
            "Epoch 12/20\n",
            "78/78 [==============================] - 2s 25ms/step - loss: 0.3307 - dense_82_loss: 0.2720 - dense_83_loss: 0.0587 - dense_82_categorical_accuracy: 0.9077 - dense_83_categorical_accuracy: 0.9875 - val_loss: 3.7394 - val_dense_82_loss: 2.5903 - val_dense_83_loss: 1.1492 - val_dense_82_categorical_accuracy: 0.3591 - val_dense_83_categorical_accuracy: 0.6570\n",
            "Epoch 13/20\n",
            "78/78 [==============================] - 2s 25ms/step - loss: 0.3263 - dense_82_loss: 0.2703 - dense_83_loss: 0.0561 - dense_82_categorical_accuracy: 0.9133 - dense_83_categorical_accuracy: 0.9883 - val_loss: 3.9844 - val_dense_82_loss: 2.6980 - val_dense_83_loss: 1.2864 - val_dense_82_categorical_accuracy: 0.3349 - val_dense_83_categorical_accuracy: 0.6312\n",
            "Epoch 14/20\n",
            "78/78 [==============================] - 2s 25ms/step - loss: 0.2873 - dense_82_loss: 0.2390 - dense_83_loss: 0.0483 - dense_82_categorical_accuracy: 0.9190 - dense_83_categorical_accuracy: 0.9903 - val_loss: 3.9316 - val_dense_82_loss: 2.6198 - val_dense_83_loss: 1.3118 - val_dense_82_categorical_accuracy: 0.3140 - val_dense_83_categorical_accuracy: 0.6393\n",
            "Epoch 15/20\n",
            "78/78 [==============================] - 2s 25ms/step - loss: 0.2616 - dense_82_loss: 0.2168 - dense_83_loss: 0.0448 - dense_82_categorical_accuracy: 0.9310 - dense_83_categorical_accuracy: 0.9915 - val_loss: 4.3628 - val_dense_82_loss: 2.7467 - val_dense_83_loss: 1.6162 - val_dense_82_categorical_accuracy: 0.3607 - val_dense_83_categorical_accuracy: 0.5894\n",
            "Epoch 16/20\n",
            "78/78 [==============================] - 2s 25ms/step - loss: 0.2529 - dense_82_loss: 0.2100 - dense_83_loss: 0.0429 - dense_82_categorical_accuracy: 0.9298 - dense_83_categorical_accuracy: 0.9907 - val_loss: 4.2516 - val_dense_82_loss: 2.8083 - val_dense_83_loss: 1.4433 - val_dense_82_categorical_accuracy: 0.3527 - val_dense_83_categorical_accuracy: 0.6232\n",
            "Epoch 17/20\n",
            "78/78 [==============================] - 2s 25ms/step - loss: 0.2386 - dense_82_loss: 0.1931 - dense_83_loss: 0.0456 - dense_82_categorical_accuracy: 0.9399 - dense_83_categorical_accuracy: 0.9907 - val_loss: 4.6187 - val_dense_82_loss: 2.9607 - val_dense_83_loss: 1.6580 - val_dense_82_categorical_accuracy: 0.3478 - val_dense_83_categorical_accuracy: 0.5926\n",
            "Epoch 18/20\n",
            "78/78 [==============================] - 2s 25ms/step - loss: 0.2413 - dense_82_loss: 0.2010 - dense_83_loss: 0.0402 - dense_82_categorical_accuracy: 0.9302 - dense_83_categorical_accuracy: 0.9907 - val_loss: 4.6954 - val_dense_82_loss: 3.0032 - val_dense_83_loss: 1.6921 - val_dense_82_categorical_accuracy: 0.3591 - val_dense_83_categorical_accuracy: 0.5797\n",
            "Epoch 19/20\n",
            "78/78 [==============================] - 2s 25ms/step - loss: 0.2453 - dense_82_loss: 0.2076 - dense_83_loss: 0.0377 - dense_82_categorical_accuracy: 0.9383 - dense_83_categorical_accuracy: 0.9915 - val_loss: 4.4400 - val_dense_82_loss: 2.9462 - val_dense_83_loss: 1.4938 - val_dense_82_categorical_accuracy: 0.3124 - val_dense_83_categorical_accuracy: 0.6345\n",
            "Epoch 20/20\n",
            "78/78 [==============================] - 2s 25ms/step - loss: 0.2110 - dense_82_loss: 0.1722 - dense_83_loss: 0.0388 - dense_82_categorical_accuracy: 0.9488 - dense_83_categorical_accuracy: 0.9891 - val_loss: 4.6402 - val_dense_82_loss: 3.1085 - val_dense_83_loss: 1.5317 - val_dense_82_categorical_accuracy: 0.3510 - val_dense_83_categorical_accuracy: 0.6232\n"
          ]
        }
      ],
      "source": [
        "history = model2.fit(x=[X1,X2],y=[y1,y2],validation_split=0.2, epochs=20)"
      ]
    },
    {
      "cell_type": "code",
      "source": [
        "from tensorflow.keras.utils import plot_model\n",
        "plot_model(model2, to_file='model_plot4a.png', show_shapes=True, show_layer_names=True)"
      ],
      "metadata": {
        "colab": {
          "base_uri": "https://localhost:8080/",
          "height": 533
        },
        "id": "Q9y_cTlcQNTX",
        "outputId": "b3aa6445-cc16-45cd-d742-7c36da21ab17"
      },
      "execution_count": null,
      "outputs": [
        {
          "output_type": "execute_result",
          "data": {
            "text/plain": [
              "<IPython.core.display.Image object>"
            ],
            "image/png": "[encoded data removed]"
          },
          "metadata": {},
          "execution_count": 171
        }
      ]
    },
    {
      "cell_type": "code",
      "source": [
        "y_predict=model2.predict([X1,X2])\n",
        "\n",
        "y_sc=np.argmax(y_predict[0],axis=1)\n",
        "y_lb=np.argmax(y_predict[1],axis=1)\n",
        "\n",
        "y_sc = to_categorical(y_sc)\n",
        "y_lb = to_categorical(y_lb)\n",
        "\n",
        "#report result of all metrics\n",
        "print(classification_report(y1,y_sc))\n",
        "print(classification_report(y2,y_lb))\n",
        "\n",
        "#plot confusion matrix val\n",
        "mt=(confusion_matrix(y1.argmax(axis=1),y_sc.argmax(axis=1)))\n",
        "mat = ConfusionMatrixDisplay(confusion_matrix=mt)\n",
        "mat.plot()\n",
        "plt.show()\n",
        "\n",
        "mt1=confusion_matrix(y2.argmax(axis=1),y_lb.argmax(axis=1))\n",
        "mat1 = ConfusionMatrixDisplay(confusion_matrix=mt1)\n",
        "mat1.plot()\n",
        "plt.show()\n",
        ""
      ],
      "metadata": {
        "colab": {
          "base_uri": "https://localhost:8080/",
          "height": 1000
        },
        "id": "LeniwyRbS9yW",
        "outputId": "c4631da7-95fa-4a63-c3cd-5c98ec277f56"
      },
      "execution_count": null,
      "outputs": [
        {
          "output_type": "stream",
          "name": "stdout",
          "text": [
            "              precision    recall  f1-score   support\n",
            "\n",
            "           0       0.85      0.95      0.89       161\n",
            "           1       0.84      0.81      0.82       229\n",
            "           2       0.81      0.82      0.82       842\n",
            "           3       0.83      0.87      0.85      1207\n",
            "           4       0.90      0.80      0.85       662\n",
            "\n",
            "   micro avg       0.84      0.84      0.84      3101\n",
            "   macro avg       0.85      0.85      0.85      3101\n",
            "weighted avg       0.84      0.84      0.84      3101\n",
            " samples avg       0.84      0.84      0.84      3101\n",
            "\n",
            "              precision    recall  f1-score   support\n",
            "\n",
            "           0       0.92      0.98      0.95       741\n",
            "           1       0.94      0.95      0.95       421\n",
            "           2       0.93      0.76      0.84       106\n",
            "           3       0.93      0.99      0.96       494\n",
            "           4       0.91      0.83      0.87       402\n",
            "           5       0.91      0.88      0.90       937\n",
            "\n",
            "   micro avg       0.92      0.92      0.92      3101\n",
            "   macro avg       0.92      0.90      0.91      3101\n",
            "weighted avg       0.92      0.92      0.92      3101\n",
            " samples avg       0.92      0.92      0.92      3101\n",
            "\n"
          ]
        },
        {
          "output_type": "display_data",
          "data": {
            "text/plain": [
              "<Figure size 432x288 with 2 Axes>"
            ],
            "image/png": "[encoded data removed]"
          },
          "metadata": {
            "needs_background": "light"
          }
        },
        {
          "output_type": "display_data",
          "data": {
            "text/plain": [
              "<Figure size 432x288 with 2 Axes>"
            ],
            "image/png": "[encoded data removed]"
          },
          "metadata": {
            "needs_background": "light"
          }
        }
      ]
    },
    {
      "cell_type": "code",
      "source": [
        "print(\"\")\n",
        "print(history.history.keys())\n",
        "h =history.history\n",
        "\n",
        "plt.plot(h['loss'])\n",
        "plt.xlabel('epoch')\n",
        "plt.ylabel('loss')\n",
        "plt.show()\n",
        "\n",
        "plt.plot(h['dense_83_categorical_accuracy'])\n",
        "plt.xlabel('epoch')\n",
        "plt.ylabel('acc')\n",
        "plt.show()\n",
        "\n",
        "plt.plot(h['val_loss'])\n",
        "plt.xlabel('epoch')\n",
        "plt.ylabel('loss v')\n",
        "plt.show()\n",
        "\n",
        "plt.plot(h['val_dense_83_categorical_accuracy'])\n",
        "plt.xlabel('epoch')\n",
        "plt.ylabel('acc v')\n",
        "plt.show()"
      ],
      "metadata": {
        "colab": {
          "base_uri": "https://localhost:8080/",
          "height": 1000
        },
        "id": "ILFAv64anS9Q",
        "outputId": "7ee54150-8a93-41e4-a08a-3d7c42150889"
      },
      "execution_count": null,
      "outputs": [
        {
          "output_type": "stream",
          "name": "stdout",
          "text": [
            "\n",
            "dict_keys(['loss', 'dense_82_loss', 'dense_83_loss', 'dense_82_categorical_accuracy', 'dense_83_categorical_accuracy', 'val_loss', 'val_dense_82_loss', 'val_dense_83_loss', 'val_dense_82_categorical_accuracy', 'val_dense_83_categorical_accuracy'])\n"
          ]
        },
        {
          "output_type": "display_data",
          "data": {
            "text/plain": [
              "<Figure size 432x288 with 1 Axes>"
            ],
            "image/png": "[encoded data removed]"
          },
          "metadata": {
            "needs_background": "light"
          }
        },
        {
          "output_type": "display_data",
          "data": {
            "text/plain": [
              "<Figure size 432x288 with 1 Axes>"
            ],
            "image/png": "[encoded data removed]"
          },
          "metadata": {
            "needs_background": "light"
          }
        },
        {
          "output_type": "display_data",
          "data": {
            "text/plain": [
              "<Figure size 432x288 with 1 Axes>"
            ],
            "image/png": "[encoded data removed]"
          },
          "metadata": {
            "needs_background": "light"
          }
        },
        {
          "output_type": "display_data",
          "data": {
            "text/plain": [
              "<Figure size 432x288 with 1 Axes>"
            ],
            "image/png": "[encoded data removed]"
          },
          "metadata": {
            "needs_background": "light"
          }
        }
      ]
    },
    {
      "cell_type": "markdown",
      "metadata": {
        "id": "dHaZNlXabbRH"
      },
      "source": [
        "# M3(GRU)"
      ]
    },
    {
      "cell_type": "code",
      "execution_count": null,
      "metadata": {
        "id": "aydD3RNgqIuD"
      },
      "outputs": [],
      "source": [
        "from keras.layers import concatenate\n",
        "inp1 = keras.layers.Input(shape=X1.shape[1:])\n",
        "inp2 = keras.layers.Input(shape=X2.shape[1:])\n",
        "\n",
        "#the first branch operates on the first input\n",
        "\n",
        "m1 = GRU(64)(inp1)\n",
        "\n",
        "m1 = keras.Model(inputs=inp1, outputs=m1)\n",
        "\n",
        "# the second branch opreates on the second input\n",
        "\n",
        "m2 =GRU(64)(inp2)\n",
        "\n",
        "m2 = keras.Model(inputs=inp2, outputs=m2)\n",
        "\n",
        "# combine the output of the two branches\n",
        "combined = concatenate([m1.output, m2.output])\n",
        "\n",
        "\n",
        "# apply a FC layer and then a regression prediction on the\n",
        "\n",
        "z1=BatchNormalization()(combined)\n",
        "z2= BatchNormalization()(combined)\n",
        "\n",
        "\n",
        "z1 = Dense(5, activation=\"softmax\")(z1)\n",
        "z2 = Dense(6, activation=\"softmax\")(z2)\n",
        "\n",
        "# our model will accept the inputs of the two branches and\n",
        "\n",
        "model3 =keras.Model(inputs=[inp1, inp2], outputs=[z1 , z2 ])\n",
        "model3.compile(loss=\"categorical_crossentropy\" , optimizer=\"adam\", metrics=[ 'categorical_accuracy'])\n"
      ]
    },
    {
      "cell_type": "code",
      "execution_count": null,
      "metadata": {
        "id": "_LcnQDOiOBee",
        "colab": {
          "base_uri": "https://localhost:8080/"
        },
        "outputId": "a12c56d2-847e-46ea-c040-1d751b2e37c7"
      },
      "outputs": [
        {
          "output_type": "stream",
          "name": "stdout",
          "text": [
            "Epoch 1/20\n",
            "78/78 [==============================] - 10s 74ms/step - loss: 3.2311 - dense_84_loss: 1.5258 - dense_85_loss: 1.7054 - dense_84_categorical_accuracy: 0.3512 - dense_85_categorical_accuracy: 0.2944 - val_loss: 3.0937 - val_dense_84_loss: 1.3514 - val_dense_85_loss: 1.7423 - val_dense_84_categorical_accuracy: 0.4622 - val_dense_85_categorical_accuracy: 0.2705\n",
            "Epoch 2/20\n",
            "78/78 [==============================] - 5s 62ms/step - loss: 2.7865 - dense_84_loss: 1.4113 - dense_85_loss: 1.3752 - dense_84_categorical_accuracy: 0.3794 - dense_85_categorical_accuracy: 0.4484 - val_loss: 4.3765 - val_dense_84_loss: 1.3845 - val_dense_85_loss: 2.9920 - val_dense_84_categorical_accuracy: 0.4622 - val_dense_85_categorical_accuracy: 0.1643\n",
            "Epoch 3/20\n",
            "78/78 [==============================] - 5s 62ms/step - loss: 2.0803 - dense_84_loss: 1.3607 - dense_85_loss: 0.7195 - dense_84_categorical_accuracy: 0.4101 - dense_85_categorical_accuracy: 0.7411 - val_loss: 3.5567 - val_dense_84_loss: 1.3461 - val_dense_85_loss: 2.2106 - val_dense_84_categorical_accuracy: 0.4541 - val_dense_85_categorical_accuracy: 0.1643\n",
            "Epoch 4/20\n",
            "78/78 [==============================] - 5s 63ms/step - loss: 1.6780 - dense_84_loss: 1.2507 - dense_85_loss: 0.4273 - dense_84_categorical_accuracy: 0.4677 - dense_85_categorical_accuracy: 0.8468 - val_loss: 3.5934 - val_dense_84_loss: 1.4226 - val_dense_85_loss: 2.1708 - val_dense_84_categorical_accuracy: 0.4622 - val_dense_85_categorical_accuracy: 0.3382\n",
            "Epoch 5/20\n",
            "78/78 [==============================] - 5s 63ms/step - loss: 1.4082 - dense_84_loss: 1.1176 - dense_85_loss: 0.2906 - dense_84_categorical_accuracy: 0.5331 - dense_85_categorical_accuracy: 0.9109 - val_loss: 2.8722 - val_dense_84_loss: 1.2519 - val_dense_85_loss: 1.6203 - val_dense_84_categorical_accuracy: 0.4509 - val_dense_85_categorical_accuracy: 0.4976\n",
            "Epoch 6/20\n",
            "78/78 [==============================] - 5s 63ms/step - loss: 1.2162 - dense_84_loss: 0.9861 - dense_85_loss: 0.2301 - dense_84_categorical_accuracy: 0.5996 - dense_85_categorical_accuracy: 0.9250 - val_loss: 3.5454 - val_dense_84_loss: 1.4498 - val_dense_85_loss: 2.0957 - val_dense_84_categorical_accuracy: 0.4155 - val_dense_85_categorical_accuracy: 0.2110\n",
            "Epoch 7/20\n",
            "78/78 [==============================] - 5s 64ms/step - loss: 1.0430 - dense_84_loss: 0.8677 - dense_85_loss: 0.1753 - dense_84_categorical_accuracy: 0.6440 - dense_85_categorical_accuracy: 0.9452 - val_loss: 3.2408 - val_dense_84_loss: 1.6363 - val_dense_85_loss: 1.6045 - val_dense_84_categorical_accuracy: 0.3961 - val_dense_85_categorical_accuracy: 0.5427\n",
            "Epoch 8/20\n",
            "78/78 [==============================] - 5s 66ms/step - loss: 0.9133 - dense_84_loss: 0.7739 - dense_85_loss: 0.1393 - dense_84_categorical_accuracy: 0.6948 - dense_85_categorical_accuracy: 0.9605 - val_loss: 3.9031 - val_dense_84_loss: 2.0696 - val_dense_85_loss: 1.8335 - val_dense_84_categorical_accuracy: 0.3414 - val_dense_85_categorical_accuracy: 0.5153\n",
            "Epoch 9/20\n",
            "78/78 [==============================] - 5s 66ms/step - loss: 0.8389 - dense_84_loss: 0.7096 - dense_85_loss: 0.1293 - dense_84_categorical_accuracy: 0.7230 - dense_85_categorical_accuracy: 0.9609 - val_loss: 5.5383 - val_dense_84_loss: 2.3392 - val_dense_85_loss: 3.1991 - val_dense_84_categorical_accuracy: 0.4042 - val_dense_85_categorical_accuracy: 0.3156\n",
            "Epoch 10/20\n",
            "78/78 [==============================] - 5s 63ms/step - loss: 0.7681 - dense_84_loss: 0.6551 - dense_85_loss: 0.1130 - dense_84_categorical_accuracy: 0.7343 - dense_85_categorical_accuracy: 0.9669 - val_loss: 3.9482 - val_dense_84_loss: 2.5284 - val_dense_85_loss: 1.4198 - val_dense_84_categorical_accuracy: 0.3849 - val_dense_85_categorical_accuracy: 0.6248\n",
            "Epoch 11/20\n",
            "78/78 [==============================] - 5s 67ms/step - loss: 0.7098 - dense_84_loss: 0.6065 - dense_85_loss: 0.1034 - dense_84_categorical_accuracy: 0.7589 - dense_85_categorical_accuracy: 0.9690 - val_loss: 4.7196 - val_dense_84_loss: 2.7528 - val_dense_85_loss: 1.9668 - val_dense_84_categorical_accuracy: 0.3865 - val_dense_85_categorical_accuracy: 0.5700\n",
            "Epoch 12/20\n",
            "78/78 [==============================] - 5s 64ms/step - loss: 0.6626 - dense_84_loss: 0.5740 - dense_85_loss: 0.0886 - dense_84_categorical_accuracy: 0.7786 - dense_85_categorical_accuracy: 0.9778 - val_loss: 7.0452 - val_dense_84_loss: 4.6684 - val_dense_85_loss: 2.3769 - val_dense_84_categorical_accuracy: 0.2464 - val_dense_85_categorical_accuracy: 0.5652\n",
            "Epoch 13/20\n",
            "78/78 [==============================] - 5s 64ms/step - loss: 0.6040 - dense_84_loss: 0.5237 - dense_85_loss: 0.0803 - dense_84_categorical_accuracy: 0.7915 - dense_85_categorical_accuracy: 0.9754 - val_loss: 5.4438 - val_dense_84_loss: 3.7161 - val_dense_85_loss: 1.7277 - val_dense_84_categorical_accuracy: 0.2705 - val_dense_85_categorical_accuracy: 0.6135\n",
            "Epoch 14/20\n",
            "78/78 [==============================] - 5s 64ms/step - loss: 0.5670 - dense_84_loss: 0.4835 - dense_85_loss: 0.0835 - dense_84_categorical_accuracy: 0.8181 - dense_85_categorical_accuracy: 0.9762 - val_loss: 5.1203 - val_dense_84_loss: 3.0918 - val_dense_85_loss: 2.0285 - val_dense_84_categorical_accuracy: 0.3800 - val_dense_85_categorical_accuracy: 0.5958\n",
            "Epoch 15/20\n",
            "78/78 [==============================] - 5s 64ms/step - loss: 0.5338 - dense_84_loss: 0.4683 - dense_85_loss: 0.0655 - dense_84_categorical_accuracy: 0.8181 - dense_85_categorical_accuracy: 0.9843 - val_loss: 4.6647 - val_dense_84_loss: 3.2110 - val_dense_85_loss: 1.4538 - val_dense_84_categorical_accuracy: 0.3994 - val_dense_85_categorical_accuracy: 0.6651\n",
            "Epoch 16/20\n",
            "78/78 [==============================] - 5s 63ms/step - loss: 0.4994 - dense_84_loss: 0.4353 - dense_85_loss: 0.0640 - dense_84_categorical_accuracy: 0.8339 - dense_85_categorical_accuracy: 0.9839 - val_loss: 5.9095 - val_dense_84_loss: 3.4343 - val_dense_85_loss: 2.4753 - val_dense_84_categorical_accuracy: 0.3639 - val_dense_85_categorical_accuracy: 0.5765\n",
            "Epoch 17/20\n",
            "78/78 [==============================] - 5s 64ms/step - loss: 0.4738 - dense_84_loss: 0.4105 - dense_85_loss: 0.0633 - dense_84_categorical_accuracy: 0.8423 - dense_85_categorical_accuracy: 0.9823 - val_loss: 7.0091 - val_dense_84_loss: 3.1597 - val_dense_85_loss: 3.8494 - val_dense_84_categorical_accuracy: 0.3510 - val_dense_85_categorical_accuracy: 0.4911\n",
            "Epoch 18/20\n",
            "78/78 [==============================] - 5s 64ms/step - loss: 0.4513 - dense_84_loss: 0.3889 - dense_85_loss: 0.0625 - dense_84_categorical_accuracy: 0.8560 - dense_85_categorical_accuracy: 0.9810 - val_loss: 5.9309 - val_dense_84_loss: 3.8812 - val_dense_85_loss: 2.0497 - val_dense_84_categorical_accuracy: 0.2754 - val_dense_85_categorical_accuracy: 0.6248\n",
            "Epoch 19/20\n",
            "78/78 [==============================] - 5s 64ms/step - loss: 0.4234 - dense_84_loss: 0.3697 - dense_85_loss: 0.0537 - dense_84_categorical_accuracy: 0.8544 - dense_85_categorical_accuracy: 0.9855 - val_loss: 6.1567 - val_dense_84_loss: 3.7069 - val_dense_85_loss: 2.4498 - val_dense_84_categorical_accuracy: 0.3333 - val_dense_85_categorical_accuracy: 0.5926\n",
            "Epoch 20/20\n",
            "78/78 [==============================] - 5s 63ms/step - loss: 0.4023 - dense_84_loss: 0.3606 - dense_85_loss: 0.0417 - dense_84_categorical_accuracy: 0.8625 - dense_85_categorical_accuracy: 0.9891 - val_loss: 6.4637 - val_dense_84_loss: 3.9511 - val_dense_85_loss: 2.5126 - val_dense_84_categorical_accuracy: 0.3671 - val_dense_85_categorical_accuracy: 0.5829\n"
          ]
        }
      ],
      "source": [
        "history = model3.fit(x=[X1,X2],y=[y1,y2],validation_split=0.2, epochs=20)"
      ]
    },
    {
      "cell_type": "code",
      "source": [
        "from tensorflow.keras.utils import plot_model\n",
        "plot_model(model3, to_file='model_plot4a.png', show_shapes=True, show_layer_names=True)"
      ],
      "metadata": {
        "colab": {
          "base_uri": "https://localhost:8080/",
          "height": 533
        },
        "id": "UAsXQGQXQQTv",
        "outputId": "abe0d66d-e1e5-47ed-9c16-321100ccb8c2"
      },
      "execution_count": null,
      "outputs": [
        {
          "output_type": "execute_result",
          "data": {
            "text/plain": [
              "<IPython.core.display.Image object>"
            ],
            "image/png": "[encoded data removed]"
          },
          "metadata": {},
          "execution_count": 177
        }
      ]
    },
    {
      "cell_type": "code",
      "source": [
        "y_predict=model3.predict([X1,X2])\n",
        "\n",
        "y_sc=np.argmax(y_predict[0],axis=1)\n",
        "y_lb=np.argmax(y_predict[1],axis=1)\n",
        "\n",
        "y_sc = to_categorical(y_sc)\n",
        "y_lb = to_categorical(y_lb)\n",
        "\n",
        "\n",
        "#report result of all metrics\n",
        "print(classification_report(y1,y_sc))\n",
        "print(classification_report(y2,y_lb))\n",
        "\n",
        "\n",
        "#plot confusion matrix val\n",
        "mt=(confusion_matrix(y1.argmax(axis=1),y_sc.argmax(axis=1)))\n",
        "mat = ConfusionMatrixDisplay(confusion_matrix=mt)\n",
        "mat.plot()\n",
        "plt.show()\n",
        "\n",
        "\n",
        "mt1=confusion_matrix(y2.argmax(axis=1),y_lb.argmax(axis=1))\n",
        "mat1 = ConfusionMatrixDisplay(confusion_matrix=mt1)\n",
        "mat1.plot()\n",
        "plt.show()\n",
        ""
      ],
      "metadata": {
        "colab": {
          "base_uri": "https://localhost:8080/",
          "height": 1000
        },
        "id": "pM74QlgcTDmF",
        "outputId": "12b3ae02-9e61-4e04-fff8-bbded7f03cb8"
      },
      "execution_count": null,
      "outputs": [
        {
          "output_type": "stream",
          "name": "stdout",
          "text": [
            "              precision    recall  f1-score   support\n",
            "\n",
            "           0       0.79      0.89      0.84       161\n",
            "           1       0.78      0.06      0.11       229\n",
            "           2       0.80      0.35      0.48       842\n",
            "           3       0.63      0.88      0.73      1207\n",
            "           4       0.64      0.82      0.72       662\n",
            "\n",
            "   micro avg       0.66      0.66      0.66      3101\n",
            "   macro avg       0.73      0.60      0.58      3101\n",
            "weighted avg       0.70      0.66      0.62      3101\n",
            " samples avg       0.66      0.66      0.66      3101\n",
            "\n",
            "              precision    recall  f1-score   support\n",
            "\n",
            "           0       0.72      0.99      0.83       741\n",
            "           1       0.96      0.95      0.96       421\n",
            "           2       0.87      0.84      0.86       106\n",
            "           3       0.96      0.95      0.96       494\n",
            "           4       0.97      0.58      0.73       402\n",
            "           5       0.83      0.73      0.78       937\n",
            "\n",
            "   micro avg       0.84      0.84      0.84      3101\n",
            "   macro avg       0.89      0.84      0.85      3101\n",
            "weighted avg       0.86      0.84      0.84      3101\n",
            " samples avg       0.84      0.84      0.84      3101\n",
            "\n"
          ]
        },
        {
          "output_type": "display_data",
          "data": {
            "text/plain": [
              "<Figure size 432x288 with 2 Axes>"
            ],
            "image/png": "[encoded data removed]"
          },
          "metadata": {
            "needs_background": "light"
          }
        },
        {
          "output_type": "display_data",
          "data": {
            "text/plain": [
              "<Figure size 432x288 with 2 Axes>"
            ],
            "image/png": "[encoded data removed]"
          },
          "metadata": {
            "needs_background": "light"
          }
        }
      ]
    },
    {
      "cell_type": "code",
      "source": [
        "print(\"\")\n",
        "print(history.history.keys())\n",
        "h =history.history\n",
        "\n",
        "plt.plot(h['loss'])\n",
        "plt.xlabel('epoch')\n",
        "plt.ylabel('loss')\n",
        "plt.show()\n",
        "\n",
        "plt.plot(h['dense_85_categorical_accuracy'])\n",
        "plt.xlabel('epoch')\n",
        "plt.ylabel('acc')\n",
        "plt.show()\n",
        "\n",
        "plt.plot(h['val_loss'])\n",
        "plt.xlabel('epoch')\n",
        "plt.ylabel('loss v')\n",
        "plt.show()\n",
        "\n",
        "plt.plot(h['val_dense_85_categorical_accuracy'])\n",
        "plt.xlabel('epoch')\n",
        "plt.ylabel('acc v')\n",
        "plt.show()"
      ],
      "metadata": {
        "colab": {
          "base_uri": "https://localhost:8080/",
          "height": 1000
        },
        "id": "8xWQhHQRpXSd",
        "outputId": "f42e4c3b-c351-4ada-e205-83f83bec4f54"
      },
      "execution_count": null,
      "outputs": [
        {
          "output_type": "stream",
          "name": "stdout",
          "text": [
            "\n",
            "dict_keys(['loss', 'dense_84_loss', 'dense_85_loss', 'dense_84_categorical_accuracy', 'dense_85_categorical_accuracy', 'val_loss', 'val_dense_84_loss', 'val_dense_85_loss', 'val_dense_84_categorical_accuracy', 'val_dense_85_categorical_accuracy'])\n"
          ]
        },
        {
          "output_type": "display_data",
          "data": {
            "text/plain": [
              "<Figure size 432x288 with 1 Axes>"
            ],
            "image/png": "[encoded data removed]"
          },
          "metadata": {
            "needs_background": "light"
          }
        },
        {
          "output_type": "display_data",
          "data": {
            "text/plain": [
              "<Figure size 432x288 with 1 Axes>"
            ],
            "image/png": "[encoded data removed]"
          },
          "metadata": {
            "needs_background": "light"
          }
        },
        {
          "output_type": "display_data",
          "data": {
            "text/plain": [
              "<Figure size 432x288 with 1 Axes>"
            ],
            "image/png": "[encoded data removed]"
          },
          "metadata": {
            "needs_background": "light"
          }
        },
        {
          "output_type": "display_data",
          "data": {
            "text/plain": [
              "<Figure size 432x288 with 1 Axes>"
            ],
            "image/png": "[encoded data removed]"
          },
          "metadata": {
            "needs_background": "light"
          }
        }
      ]
    }
  ],
  "metadata": {
    "accelerator": "GPU",
    "colab": {
      "provenance": [],
      "toc_visible": true,
      "include_colab_link": true
    },
    "kernelspec": {
      "display_name": "Python 3",
      "name": "python3"
    },
    "language_info": {
      "name": "python"
    },
    "widgets": {
      "application/vnd.jupyter.widget-state+json": {
        "08e62f0497f74ebd893a9700e527191b": {
          "model_module": "@jupyter-widgets/controls",
          "model_module_version": "1.5.0",
          "model_name": "ProgressStyleModel",
          "state": {
            "_model_module": "@jupyter-widgets/controls",
            "_model_module_version": "1.5.0",
            "_model_name": "ProgressStyleModel",
            "_view_count": null,
            "_view_module": "@jupyter-widgets/base",
            "_view_module_version": "1.2.0",
            "_view_name": "StyleView",
            "bar_color": null,
            "description_width": ""
          }
        },
        "107945015b724d389dc3a9faf507380e": {
          "model_module": "@jupyter-widgets/controls",
          "model_module_version": "1.5.0",
          "model_name": "HTMLModel",
          "state": {
            "_dom_classes": [],
            "_model_module": "@jupyter-widgets/controls",
            "_model_module_version": "1.5.0",
            "_model_name": "HTMLModel",
            "_view_count": null,
            "_view_module": "@jupyter-widgets/controls",
            "_view_module_version": "1.5.0",
            "_view_name": "HTMLView",
            "description": "",
            "description_tooltip": null,
            "layout": "IPY_MODEL_d56af2bb07bb49f4918f90bee2b4d507",
            "placeholder": "​",
            "style": "IPY_MODEL_e1f8d70bbc5d4541bbe7aa1b0df5f3b2",
            "value": "Downloading: 100%"
          }
        },
        "10d63429cb024be182ec6424dcd41d17": {
          "model_module": "@jupyter-widgets/base",
          "model_module_version": "1.2.0",
          "model_name": "LayoutModel",
          "state": {
            "_model_module": "@jupyter-widgets/base",
            "_model_module_version": "1.2.0",
            "_model_name": "LayoutModel",
            "_view_count": null,
            "_view_module": "@jupyter-widgets/base",
            "_view_module_version": "1.2.0",
            "_view_name": "LayoutView",
            "align_content": null,
            "align_items": null,
            "align_self": null,
            "border": null,
            "bottom": null,
            "display": null,
            "flex": null,
            "flex_flow": null,
            "grid_area": null,
            "grid_auto_columns": null,
            "grid_auto_flow": null,
            "grid_auto_rows": null,
            "grid_column": null,
            "grid_gap": null,
            "grid_row": null,
            "grid_template_areas": null,
            "grid_template_columns": null,
            "grid_template_rows": null,
            "height": null,
            "justify_content": null,
            "justify_items": null,
            "left": null,
            "margin": null,
            "max_height": null,
            "max_width": null,
            "min_height": null,
            "min_width": null,
            "object_fit": null,
            "object_position": null,
            "order": null,
            "overflow": null,
            "overflow_x": null,
            "overflow_y": null,
            "padding": null,
            "right": null,
            "top": null,
            "visibility": null,
            "width": null
          }
        },
        "1c53f26e090e4d99bc711254b374197c": {
          "model_module": "@jupyter-widgets/controls",
          "model_module_version": "1.5.0",
          "model_name": "HBoxModel",
          "state": {
            "_dom_classes": [],
            "_model_module": "@jupyter-widgets/controls",
            "_model_module_version": "1.5.0",
            "_model_name": "HBoxModel",
            "_view_count": null,
            "_view_module": "@jupyter-widgets/controls",
            "_view_module_version": "1.5.0",
            "_view_name": "HBoxView",
            "box_style": "",
            "children": [
              "IPY_MODEL_92108c8ebe6d4df78094c2cd31c1511b",
              "IPY_MODEL_d4cbdeda3422453ab0d22da0e9d31178",
              "IPY_MODEL_c3afbf1066fe46ebaf7ffdff487bc393"
            ],
            "layout": "IPY_MODEL_2d6231e85f624d41b7461a07f585de74"
          }
        },
        "2350bf0530ea4d12a7dce996c8d298e1": {
          "model_module": "@jupyter-widgets/controls",
          "model_module_version": "1.5.0",
          "model_name": "HTMLModel",
          "state": {
            "_dom_classes": [],
            "_model_module": "@jupyter-widgets/controls",
            "_model_module_version": "1.5.0",
            "_model_name": "HTMLModel",
            "_view_count": null,
            "_view_module": "@jupyter-widgets/controls",
            "_view_module_version": "1.5.0",
            "_view_name": "HTMLView",
            "description": "",
            "description_tooltip": null,
            "layout": "IPY_MODEL_cb7d473d86474cefa2a1410d303f0daf",
            "placeholder": "​",
            "style": "IPY_MODEL_b84c5d1940aa45f6aa486904367d61ef",
            "value": " 624M/624M [00:21&lt;00:00, 39.0MB/s]"
          }
        },
        "23ddeb5e8a5d4d008d28f1ed15897915": {
          "model_module": "@jupyter-widgets/controls",
          "model_module_version": "1.5.0",
          "model_name": "HBoxModel",
          "state": {
            "_dom_classes": [],
            "_model_module": "@jupyter-widgets/controls",
            "_model_module_version": "1.5.0",
            "_model_name": "HBoxModel",
            "_view_count": null,
            "_view_module": "@jupyter-widgets/controls",
            "_view_module_version": "1.5.0",
            "_view_name": "HBoxView",
            "box_style": "",
            "children": [
              "IPY_MODEL_ea066da160cd4f6c8a28a4da31ffd40d",
              "IPY_MODEL_5b5663fe478440508c231071acb6c11f",
              "IPY_MODEL_2350bf0530ea4d12a7dce996c8d298e1"
            ],
            "layout": "IPY_MODEL_a408165a3e4142ce9d33203c305c8a29"
          }
        },
        "268f1e86c87140aea2a7b97775b43453": {
          "model_module": "@jupyter-widgets/base",
          "model_module_version": "1.2.0",
          "model_name": "LayoutModel",
          "state": {
            "_model_module": "@jupyter-widgets/base",
            "_model_module_version": "1.2.0",
            "_model_name": "LayoutModel",
            "_view_count": null,
            "_view_module": "@jupyter-widgets/base",
            "_view_module_version": "1.2.0",
            "_view_name": "LayoutView",
            "align_content": null,
            "align_items": null,
            "align_self": null,
            "border": null,
            "bottom": null,
            "display": null,
            "flex": null,
            "flex_flow": null,
            "grid_area": null,
            "grid_auto_columns": null,
            "grid_auto_flow": null,
            "grid_auto_rows": null,
            "grid_column": null,
            "grid_gap": null,
            "grid_row": null,
            "grid_template_areas": null,
            "grid_template_columns": null,
            "grid_template_rows": null,
            "height": null,
            "justify_content": null,
            "justify_items": null,
            "left": null,
            "margin": null,
            "max_height": null,
            "max_width": null,
            "min_height": null,
            "min_width": null,
            "object_fit": null,
            "object_position": null,
            "order": null,
            "overflow": null,
            "overflow_x": null,
            "overflow_y": null,
            "padding": null,
            "right": null,
            "top": null,
            "visibility": null,
            "width": null
          }
        },
        "2acec9e9de024ea68e9383fe9215aab6": {
          "model_module": "@jupyter-widgets/controls",
          "model_module_version": "1.5.0",
          "model_name": "DescriptionStyleModel",
          "state": {
            "_model_module": "@jupyter-widgets/controls",
            "_model_module_version": "1.5.0",
            "_model_name": "DescriptionStyleModel",
            "_view_count": null,
            "_view_module": "@jupyter-widgets/base",
            "_view_module_version": "1.2.0",
            "_view_name": "StyleView",
            "description_width": ""
          }
        },
        "2c8f2521e23a465f85319ed1a84310fb": {
          "model_module": "@jupyter-widgets/controls",
          "model_module_version": "1.5.0",
          "model_name": "FloatProgressModel",
          "state": {
            "_dom_classes": [],
            "_model_module": "@jupyter-widgets/controls",
            "_model_module_version": "1.5.0",
            "_model_name": "FloatProgressModel",
            "_view_count": null,
            "_view_module": "@jupyter-widgets/controls",
            "_view_module_version": "1.5.0",
            "_view_name": "ProgressView",
            "bar_style": "success",
            "description": "",
            "description_tooltip": null,
            "layout": "IPY_MODEL_268f1e86c87140aea2a7b97775b43453",
            "max": 1215509,
            "min": 0,
            "orientation": "horizontal",
            "style": "IPY_MODEL_847166fa95374a8b9a892af1e94cf0a0",
            "value": 1215509
          }
        },
        "2d6231e85f624d41b7461a07f585de74": {
          "model_module": "@jupyter-widgets/base",
          "model_module_version": "1.2.0",
          "model_name": "LayoutModel",
          "state": {
            "_model_module": "@jupyter-widgets/base",
            "_model_module_version": "1.2.0",
            "_model_name": "LayoutModel",
            "_view_count": null,
            "_view_module": "@jupyter-widgets/base",
            "_view_module_version": "1.2.0",
            "_view_name": "LayoutView",
            "align_content": null,
            "align_items": null,
            "align_self": null,
            "border": null,
            "bottom": null,
            "display": null,
            "flex": null,
            "flex_flow": null,
            "grid_area": null,
            "grid_auto_columns": null,
            "grid_auto_flow": null,
            "grid_auto_rows": null,
            "grid_column": null,
            "grid_gap": null,
            "grid_row": null,
            "grid_template_areas": null,
            "grid_template_columns": null,
            "grid_template_rows": null,
            "height": null,
            "justify_content": null,
            "justify_items": null,
            "left": null,
            "margin": null,
            "max_height": null,
            "max_width": null,
            "min_height": null,
            "min_width": null,
            "object_fit": null,
            "object_position": null,
            "order": null,
            "overflow": null,
            "overflow_x": null,
            "overflow_y": null,
            "padding": null,
            "right": null,
            "top": null,
            "visibility": null,
            "width": null
          }
        },
        "42b3f9e68e474e2fa8fad04d16d6d281": {
          "model_module": "@jupyter-widgets/controls",
          "model_module_version": "1.5.0",
          "model_name": "HTMLModel",
          "state": {
            "_dom_classes": [],
            "_model_module": "@jupyter-widgets/controls",
            "_model_module_version": "1.5.0",
            "_model_name": "HTMLModel",
            "_view_count": null,
            "_view_module": "@jupyter-widgets/controls",
            "_view_module_version": "1.5.0",
            "_view_name": "HTMLView",
            "description": "",
            "description_tooltip": null,
            "layout": "IPY_MODEL_6b7ed016f2004a7d9e146d14c1bc7739",
            "placeholder": "​",
            "style": "IPY_MODEL_ce3b060317134f6e9f57705673ee803e",
            "value": " 1.16M/1.16M [00:00&lt;00:00, 8.45kB/s]"
          }
        },
        "493275a0ad0b46d79331d66e4ad99a5e": {
          "model_module": "@jupyter-widgets/base",
          "model_module_version": "1.2.0",
          "model_name": "LayoutModel",
          "state": {
            "_model_module": "@jupyter-widgets/base",
            "_model_module_version": "1.2.0",
            "_model_name": "LayoutModel",
            "_view_count": null,
            "_view_module": "@jupyter-widgets/base",
            "_view_module_version": "1.2.0",
            "_view_name": "LayoutView",
            "align_content": null,
            "align_items": null,
            "align_self": null,
            "border": null,
            "bottom": null,
            "display": null,
            "flex": null,
            "flex_flow": null,
            "grid_area": null,
            "grid_auto_columns": null,
            "grid_auto_flow": null,
            "grid_auto_rows": null,
            "grid_column": null,
            "grid_gap": null,
            "grid_row": null,
            "grid_template_areas": null,
            "grid_template_columns": null,
            "grid_template_rows": null,
            "height": null,
            "justify_content": null,
            "justify_items": null,
            "left": null,
            "margin": null,
            "max_height": null,
            "max_width": null,
            "min_height": null,
            "min_width": null,
            "object_fit": null,
            "object_position": null,
            "order": null,
            "overflow": null,
            "overflow_x": null,
            "overflow_y": null,
            "padding": null,
            "right": null,
            "top": null,
            "visibility": null,
            "width": null
          }
        },
        "520a584e3f454f1ab77474ae629779fb": {
          "model_module": "@jupyter-widgets/base",
          "model_module_version": "1.2.0",
          "model_name": "LayoutModel",
          "state": {
            "_model_module": "@jupyter-widgets/base",
            "_model_module_version": "1.2.0",
            "_model_name": "LayoutModel",
            "_view_count": null,
            "_view_module": "@jupyter-widgets/base",
            "_view_module_version": "1.2.0",
            "_view_name": "LayoutView",
            "align_content": null,
            "align_items": null,
            "align_self": null,
            "border": null,
            "bottom": null,
            "display": null,
            "flex": null,
            "flex_flow": null,
            "grid_area": null,
            "grid_auto_columns": null,
            "grid_auto_flow": null,
            "grid_auto_rows": null,
            "grid_column": null,
            "grid_gap": null,
            "grid_row": null,
            "grid_template_areas": null,
            "grid_template_columns": null,
            "grid_template_rows": null,
            "height": null,
            "justify_content": null,
            "justify_items": null,
            "left": null,
            "margin": null,
            "max_height": null,
            "max_width": null,
            "min_height": null,
            "min_width": null,
            "object_fit": null,
            "object_position": null,
            "order": null,
            "overflow": null,
            "overflow_x": null,
            "overflow_y": null,
            "padding": null,
            "right": null,
            "top": null,
            "visibility": null,
            "width": null
          }
        },
        "5b5663fe478440508c231071acb6c11f": {
          "model_module": "@jupyter-widgets/controls",
          "model_module_version": "1.5.0",
          "model_name": "FloatProgressModel",
          "state": {
            "_dom_classes": [],
            "_model_module": "@jupyter-widgets/controls",
            "_model_module_version": "1.5.0",
            "_model_name": "FloatProgressModel",
            "_view_count": null,
            "_view_module": "@jupyter-widgets/controls",
            "_view_module_version": "1.5.0",
            "_view_name": "ProgressView",
            "bar_style": "success",
            "description": "",
            "description_tooltip": null,
            "layout": "IPY_MODEL_493275a0ad0b46d79331d66e4ad99a5e",
            "max": 654186735,
            "min": 0,
            "orientation": "horizontal",
            "style": "IPY_MODEL_08e62f0497f74ebd893a9700e527191b",
            "value": 654186735
          }
        },
        "6b7ed016f2004a7d9e146d14c1bc7739": {
          "model_module": "@jupyter-widgets/base",
          "model_module_version": "1.2.0",
          "model_name": "LayoutModel",
          "state": {
            "_model_module": "@jupyter-widgets/base",
            "_model_module_version": "1.2.0",
            "_model_name": "LayoutModel",
            "_view_count": null,
            "_view_module": "@jupyter-widgets/base",
            "_view_module_version": "1.2.0",
            "_view_name": "LayoutView",
            "align_content": null,
            "align_items": null,
            "align_self": null,
            "border": null,
            "bottom": null,
            "display": null,
            "flex": null,
            "flex_flow": null,
            "grid_area": null,
            "grid_auto_columns": null,
            "grid_auto_flow": null,
            "grid_auto_rows": null,
            "grid_column": null,
            "grid_gap": null,
            "grid_row": null,
            "grid_template_areas": null,
            "grid_template_columns": null,
            "grid_template_rows": null,
            "height": null,
            "justify_content": null,
            "justify_items": null,
            "left": null,
            "margin": null,
            "max_height": null,
            "max_width": null,
            "min_height": null,
            "min_width": null,
            "object_fit": null,
            "object_position": null,
            "order": null,
            "overflow": null,
            "overflow_x": null,
            "overflow_y": null,
            "padding": null,
            "right": null,
            "top": null,
            "visibility": null,
            "width": null
          }
        },
        "847166fa95374a8b9a892af1e94cf0a0": {
          "model_module": "@jupyter-widgets/controls",
          "model_module_version": "1.5.0",
          "model_name": "ProgressStyleModel",
          "state": {
            "_model_module": "@jupyter-widgets/controls",
            "_model_module_version": "1.5.0",
            "_model_name": "ProgressStyleModel",
            "_view_count": null,
            "_view_module": "@jupyter-widgets/base",
            "_view_module_version": "1.2.0",
            "_view_name": "StyleView",
            "bar_color": null,
            "description_width": ""
          }
        },
        "92108c8ebe6d4df78094c2cd31c1511b": {
          "model_module": "@jupyter-widgets/controls",
          "model_module_version": "1.5.0",
          "model_name": "HTMLModel",
          "state": {
            "_dom_classes": [],
            "_model_module": "@jupyter-widgets/controls",
            "_model_module_version": "1.5.0",
            "_model_name": "HTMLModel",
            "_view_count": null,
            "_view_module": "@jupyter-widgets/controls",
            "_view_module_version": "1.5.0",
            "_view_name": "HTMLView",
            "description": "",
            "description_tooltip": null,
            "layout": "IPY_MODEL_c1277ec67d464a669b97cdf9fd5a3ce2",
            "placeholder": "​",
            "style": "IPY_MODEL_2acec9e9de024ea68e9383fe9215aab6",
            "value": "Downloading: 100%"
          }
        },
        "95ad07b1425248c0acb757e2d3de3311": {
          "model_module": "@jupyter-widgets/controls",
          "model_module_version": "1.5.0",
          "model_name": "ProgressStyleModel",
          "state": {
            "_model_module": "@jupyter-widgets/controls",
            "_model_module_version": "1.5.0",
            "_model_name": "ProgressStyleModel",
            "_view_count": null,
            "_view_module": "@jupyter-widgets/base",
            "_view_module_version": "1.2.0",
            "_view_name": "StyleView",
            "bar_color": null,
            "description_width": ""
          }
        },
        "9620b43bf78147d8993279557a0af89a": {
          "model_module": "@jupyter-widgets/controls",
          "model_module_version": "1.5.0",
          "model_name": "HBoxModel",
          "state": {
            "_dom_classes": [],
            "_model_module": "@jupyter-widgets/controls",
            "_model_module_version": "1.5.0",
            "_model_name": "HBoxModel",
            "_view_count": null,
            "_view_module": "@jupyter-widgets/controls",
            "_view_module_version": "1.5.0",
            "_view_name": "HBoxView",
            "box_style": "",
            "children": [
              "IPY_MODEL_107945015b724d389dc3a9faf507380e",
              "IPY_MODEL_2c8f2521e23a465f85319ed1a84310fb",
              "IPY_MODEL_42b3f9e68e474e2fa8fad04d16d6d281"
            ],
            "layout": "IPY_MODEL_e489dc3f33544d189db52d010cdaf8d5"
          }
        },
        "a408165a3e4142ce9d33203c305c8a29": {
          "model_module": "@jupyter-widgets/base",
          "model_module_version": "1.2.0",
          "model_name": "LayoutModel",
          "state": {
            "_model_module": "@jupyter-widgets/base",
            "_model_module_version": "1.2.0",
            "_model_name": "LayoutModel",
            "_view_count": null,
            "_view_module": "@jupyter-widgets/base",
            "_view_module_version": "1.2.0",
            "_view_name": "LayoutView",
            "align_content": null,
            "align_items": null,
            "align_self": null,
            "border": null,
            "bottom": null,
            "display": null,
            "flex": null,
            "flex_flow": null,
            "grid_area": null,
            "grid_auto_columns": null,
            "grid_auto_flow": null,
            "grid_auto_rows": null,
            "grid_column": null,
            "grid_gap": null,
            "grid_row": null,
            "grid_template_areas": null,
            "grid_template_columns": null,
            "grid_template_rows": null,
            "height": null,
            "justify_content": null,
            "justify_items": null,
            "left": null,
            "margin": null,
            "max_height": null,
            "max_width": null,
            "min_height": null,
            "min_width": null,
            "object_fit": null,
            "object_position": null,
            "order": null,
            "overflow": null,
            "overflow_x": null,
            "overflow_y": null,
            "padding": null,
            "right": null,
            "top": null,
            "visibility": null,
            "width": null
          }
        },
        "b4d695f1620e4cdd993f3583ae0ab73a": {
          "model_module": "@jupyter-widgets/controls",
          "model_module_version": "1.5.0",
          "model_name": "DescriptionStyleModel",
          "state": {
            "_model_module": "@jupyter-widgets/controls",
            "_model_module_version": "1.5.0",
            "_model_name": "DescriptionStyleModel",
            "_view_count": null,
            "_view_module": "@jupyter-widgets/base",
            "_view_module_version": "1.2.0",
            "_view_name": "StyleView",
            "description_width": ""
          }
        },
        "b84c5d1940aa45f6aa486904367d61ef": {
          "model_module": "@jupyter-widgets/controls",
          "model_module_version": "1.5.0",
          "model_name": "DescriptionStyleModel",
          "state": {
            "_model_module": "@jupyter-widgets/controls",
            "_model_module_version": "1.5.0",
            "_model_name": "DescriptionStyleModel",
            "_view_count": null,
            "_view_module": "@jupyter-widgets/base",
            "_view_module_version": "1.2.0",
            "_view_name": "StyleView",
            "description_width": ""
          }
        },
        "b8bea05a1fe9427ea8fa86e27df64105": {
          "model_module": "@jupyter-widgets/controls",
          "model_module_version": "1.5.0",
          "model_name": "DescriptionStyleModel",
          "state": {
            "_model_module": "@jupyter-widgets/controls",
            "_model_module_version": "1.5.0",
            "_model_name": "DescriptionStyleModel",
            "_view_count": null,
            "_view_module": "@jupyter-widgets/base",
            "_view_module_version": "1.2.0",
            "_view_name": "StyleView",
            "description_width": ""
          }
        },
        "c1277ec67d464a669b97cdf9fd5a3ce2": {
          "model_module": "@jupyter-widgets/base",
          "model_module_version": "1.2.0",
          "model_name": "LayoutModel",
          "state": {
            "_model_module": "@jupyter-widgets/base",
            "_model_module_version": "1.2.0",
            "_model_name": "LayoutModel",
            "_view_count": null,
            "_view_module": "@jupyter-widgets/base",
            "_view_module_version": "1.2.0",
            "_view_name": "LayoutView",
            "align_content": null,
            "align_items": null,
            "align_self": null,
            "border": null,
            "bottom": null,
            "display": null,
            "flex": null,
            "flex_flow": null,
            "grid_area": null,
            "grid_auto_columns": null,
            "grid_auto_flow": null,
            "grid_auto_rows": null,
            "grid_column": null,
            "grid_gap": null,
            "grid_row": null,
            "grid_template_areas": null,
            "grid_template_columns": null,
            "grid_template_rows": null,
            "height": null,
            "justify_content": null,
            "justify_items": null,
            "left": null,
            "margin": null,
            "max_height": null,
            "max_width": null,
            "min_height": null,
            "min_width": null,
            "object_fit": null,
            "object_position": null,
            "order": null,
            "overflow": null,
            "overflow_x": null,
            "overflow_y": null,
            "padding": null,
            "right": null,
            "top": null,
            "visibility": null,
            "width": null
          }
        },
        "c3afbf1066fe46ebaf7ffdff487bc393": {
          "model_module": "@jupyter-widgets/controls",
          "model_module_version": "1.5.0",
          "model_name": "HTMLModel",
          "state": {
            "_dom_classes": [],
            "_model_module": "@jupyter-widgets/controls",
            "_model_module_version": "1.5.0",
            "_model_name": "HTMLModel",
            "_view_count": null,
            "_view_module": "@jupyter-widgets/controls",
            "_view_module_version": "1.5.0",
            "_view_name": "HTMLView",
            "description": "",
            "description_tooltip": null,
            "layout": "IPY_MODEL_f52d4c3dbfd74c26bff4dab237059782",
            "placeholder": "​",
            "style": "IPY_MODEL_b8bea05a1fe9427ea8fa86e27df64105",
            "value": " 434/434 [00:00&lt;00:00, 8.78kB/s]"
          }
        },
        "cb7d473d86474cefa2a1410d303f0daf": {
          "model_module": "@jupyter-widgets/base",
          "model_module_version": "1.2.0",
          "model_name": "LayoutModel",
          "state": {
            "_model_module": "@jupyter-widgets/base",
            "_model_module_version": "1.2.0",
            "_model_name": "LayoutModel",
            "_view_count": null,
            "_view_module": "@jupyter-widgets/base",
            "_view_module_version": "1.2.0",
            "_view_name": "LayoutView",
            "align_content": null,
            "align_items": null,
            "align_self": null,
            "border": null,
            "bottom": null,
            "display": null,
            "flex": null,
            "flex_flow": null,
            "grid_area": null,
            "grid_auto_columns": null,
            "grid_auto_flow": null,
            "grid_auto_rows": null,
            "grid_column": null,
            "grid_gap": null,
            "grid_row": null,
            "grid_template_areas": null,
            "grid_template_columns": null,
            "grid_template_rows": null,
            "height": null,
            "justify_content": null,
            "justify_items": null,
            "left": null,
            "margin": null,
            "max_height": null,
            "max_width": null,
            "min_height": null,
            "min_width": null,
            "object_fit": null,
            "object_position": null,
            "order": null,
            "overflow": null,
            "overflow_x": null,
            "overflow_y": null,
            "padding": null,
            "right": null,
            "top": null,
            "visibility": null,
            "width": null
          }
        },
        "ce3b060317134f6e9f57705673ee803e": {
          "model_module": "@jupyter-widgets/controls",
          "model_module_version": "1.5.0",
          "model_name": "DescriptionStyleModel",
          "state": {
            "_model_module": "@jupyter-widgets/controls",
            "_model_module_version": "1.5.0",
            "_model_name": "DescriptionStyleModel",
            "_view_count": null,
            "_view_module": "@jupyter-widgets/base",
            "_view_module_version": "1.2.0",
            "_view_name": "StyleView",
            "description_width": ""
          }
        },
        "d4cbdeda3422453ab0d22da0e9d31178": {
          "model_module": "@jupyter-widgets/controls",
          "model_module_version": "1.5.0",
          "model_name": "FloatProgressModel",
          "state": {
            "_dom_classes": [],
            "_model_module": "@jupyter-widgets/controls",
            "_model_module_version": "1.5.0",
            "_model_name": "FloatProgressModel",
            "_view_count": null,
            "_view_module": "@jupyter-widgets/controls",
            "_view_module_version": "1.5.0",
            "_view_name": "ProgressView",
            "bar_style": "success",
            "description": "",
            "description_tooltip": null,
            "layout": "IPY_MODEL_10d63429cb024be182ec6424dcd41d17",
            "max": 434,
            "min": 0,
            "orientation": "horizontal",
            "style": "IPY_MODEL_95ad07b1425248c0acb757e2d3de3311",
            "value": 434
          }
        },
        "d56af2bb07bb49f4918f90bee2b4d507": {
          "model_module": "@jupyter-widgets/base",
          "model_module_version": "1.2.0",
          "model_name": "LayoutModel",
          "state": {
            "_model_module": "@jupyter-widgets/base",
            "_model_module_version": "1.2.0",
            "_model_name": "LayoutModel",
            "_view_count": null,
            "_view_module": "@jupyter-widgets/base",
            "_view_module_version": "1.2.0",
            "_view_name": "LayoutView",
            "align_content": null,
            "align_items": null,
            "align_self": null,
            "border": null,
            "bottom": null,
            "display": null,
            "flex": null,
            "flex_flow": null,
            "grid_area": null,
            "grid_auto_columns": null,
            "grid_auto_flow": null,
            "grid_auto_rows": null,
            "grid_column": null,
            "grid_gap": null,
            "grid_row": null,
            "grid_template_areas": null,
            "grid_template_columns": null,
            "grid_template_rows": null,
            "height": null,
            "justify_content": null,
            "justify_items": null,
            "left": null,
            "margin": null,
            "max_height": null,
            "max_width": null,
            "min_height": null,
            "min_width": null,
            "object_fit": null,
            "object_position": null,
            "order": null,
            "overflow": null,
            "overflow_x": null,
            "overflow_y": null,
            "padding": null,
            "right": null,
            "top": null,
            "visibility": null,
            "width": null
          }
        },
        "e1f8d70bbc5d4541bbe7aa1b0df5f3b2": {
          "model_module": "@jupyter-widgets/controls",
          "model_module_version": "1.5.0",
          "model_name": "DescriptionStyleModel",
          "state": {
            "_model_module": "@jupyter-widgets/controls",
            "_model_module_version": "1.5.0",
            "_model_name": "DescriptionStyleModel",
            "_view_count": null,
            "_view_module": "@jupyter-widgets/base",
            "_view_module_version": "1.2.0",
            "_view_name": "StyleView",
            "description_width": ""
          }
        },
        "e489dc3f33544d189db52d010cdaf8d5": {
          "model_module": "@jupyter-widgets/base",
          "model_module_version": "1.2.0",
          "model_name": "LayoutModel",
          "state": {
            "_model_module": "@jupyter-widgets/base",
            "_model_module_version": "1.2.0",
            "_model_name": "LayoutModel",
            "_view_count": null,
            "_view_module": "@jupyter-widgets/base",
            "_view_module_version": "1.2.0",
            "_view_name": "LayoutView",
            "align_content": null,
            "align_items": null,
            "align_self": null,
            "border": null,
            "bottom": null,
            "display": null,
            "flex": null,
            "flex_flow": null,
            "grid_area": null,
            "grid_auto_columns": null,
            "grid_auto_flow": null,
            "grid_auto_rows": null,
            "grid_column": null,
            "grid_gap": null,
            "grid_row": null,
            "grid_template_areas": null,
            "grid_template_columns": null,
            "grid_template_rows": null,
            "height": null,
            "justify_content": null,
            "justify_items": null,
            "left": null,
            "margin": null,
            "max_height": null,
            "max_width": null,
            "min_height": null,
            "min_width": null,
            "object_fit": null,
            "object_position": null,
            "order": null,
            "overflow": null,
            "overflow_x": null,
            "overflow_y": null,
            "padding": null,
            "right": null,
            "top": null,
            "visibility": null,
            "width": null
          }
        },
        "ea066da160cd4f6c8a28a4da31ffd40d": {
          "model_module": "@jupyter-widgets/controls",
          "model_module_version": "1.5.0",
          "model_name": "HTMLModel",
          "state": {
            "_dom_classes": [],
            "_model_module": "@jupyter-widgets/controls",
            "_model_module_version": "1.5.0",
            "_model_name": "HTMLModel",
            "_view_count": null,
            "_view_module": "@jupyter-widgets/controls",
            "_view_module_version": "1.5.0",
            "_view_name": "HTMLView",
            "description": "",
            "description_tooltip": null,
            "layout": "IPY_MODEL_520a584e3f454f1ab77474ae629779fb",
            "placeholder": "​",
            "style": "IPY_MODEL_b4d695f1620e4cdd993f3583ae0ab73a",
            "value": "Downloading: 100%"
          }
        },
        "f52d4c3dbfd74c26bff4dab237059782": {
          "model_module": "@jupyter-widgets/base",
          "model_module_version": "1.2.0",
          "model_name": "LayoutModel",
          "state": {
            "_model_module": "@jupyter-widgets/base",
            "_model_module_version": "1.2.0",
            "_model_name": "LayoutModel",
            "_view_count": null,
            "_view_module": "@jupyter-widgets/base",
            "_view_module_version": "1.2.0",
            "_view_name": "LayoutView",
            "align_content": null,
            "align_items": null,
            "align_self": null,
            "border": null,
            "bottom": null,
            "display": null,
            "flex": null,
            "flex_flow": null,
            "grid_area": null,
            "grid_auto_columns": null,
            "grid_auto_flow": null,
            "grid_auto_rows": null,
            "grid_column": null,
            "grid_gap": null,
            "grid_row": null,
            "grid_template_areas": null,
            "grid_template_columns": null,
            "grid_template_rows": null,
            "height": null,
            "justify_content": null,
            "justify_items": null,
            "left": null,
            "margin": null,
            "max_height": null,
            "max_width": null,
            "min_height": null,
            "min_width": null,
            "object_fit": null,
            "object_position": null,
            "order": null,
            "overflow": null,
            "overflow_x": null,
            "overflow_y": null,
            "padding": null,
            "right": null,
            "top": null,
            "visibility": null,
            "width": null
          }
        }
      }
    }
  },
  "nbformat": 4,
  "nbformat_minor": 0
}